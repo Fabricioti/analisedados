{
  "nbformat": 4,
  "nbformat_minor": 0,
  "metadata": {
    "kernelspec": {
      "display_name": "Python 3",
      "language": "python",
      "name": "python3"
    },
    "language_info": {
      "codemirror_mode": {
        "name": "ipython",
        "version": 3
      },
      "file_extension": ".py",
      "mimetype": "text/x-python",
      "name": "python",
      "nbconvert_exporter": "python",
      "pygments_lexer": "ipython3",
      "version": "3.7.4"
    },
    "colab": {
      "name": "3_funcoes_python.ipynb",
      "provenance": [],
      "collapsed_sections": []
    }
  },
  "cells": [
    {
      "cell_type": "markdown",
      "metadata": {
        "id": "qJcTO2x_DHm-",
        "colab_type": "text"
      },
      "source": [
        "# Funções\n",
        "\n",
        "Métodos são blocos de códigos reutilizáveis que realizam tarefas específicas dentro de um programa. Em Python, definimos funções usando a palavra-chave *def*, seguida pelo nome da função, a lista formal de parâmetros entre parêntesis, e, finalizando a assinatura do método com dois pontos (:). É importante lembrar que todas as instruções após a assinatura do método e que formam o corpo da função, devem ser identadas para funcionamento correto do código.\n",
        "\n",
        "```python\n",
        "def soma(a, b):\n",
        "    \"\"\"Retorna a soma de dois números inteiros\"\"\"\n",
        "    return a + b;\n",
        "\n",
        "\n",
        "# Exemplo de uso da função\n",
        "resultado_soma = soma(12, 15) \n",
        "print(resultado_soma) # Saída: 27\n",
        "\n",
        "```\n",
        "\n",
        "Você deve ter notado o comentário logo após a assinatura do método; este tipo de comentário é o que chamamos de *docstring*, e serve para documentarmos as funções para posteriormente, gerarmos automaticamente com auxílio de ferramentas, uma documentação online ou impressa do seu programa. Por isso, comente sempre seu código e escreva-o de maneira mais clara possível para que outras pessoas consigam ler e compreender facilmente o que seu código faz.\n",
        "\n",
        "## Declaração de Argumentos\n",
        "\n",
        "Existem 3 formas diferentes, que podem ser combinadas entre si, para definirmos funções com número variável de argumentos, são elas:\n",
        "\n",
        "**1. Valores Padrão de Argumento**: declaramos um valor padrão para um ou mais argumentos no seguinte formato: *\"arg = value\"*; de tal forma que damos a opção de não especificar valores para tais argumentos e usarmos os valores padrão definidos.\n",
        "\n",
        "```python\n",
        "def exibir_mensagem(mensagem, cortar_apos = 4):\n",
        "    print(message[:cortar_apos]\n",
        "\n",
        "# Exemplo de uso da função\n",
        "exibir_mensagem(\"mensagem\")     # Saída: mens\n",
        "exibir_mensagem(\"mensagem\", 6)  # Saída: mensag\n",
        "```\n",
        "\n",
        "**2. Argumentos por Palavras-Chave**: semelhante a técnica anterior, argumentos por palavra-chave nós declaramos os argumentos no formato *\"arg = value\"*, lembrando que em uma chamada de função as variáveis passadas como parâmetro devem seguir a mesma ordem dos argumentos na assinatura do método.\n",
        "\n",
        "```python\n",
        "def desenha_retangulo(x, y, width = 800, height = 600):\n",
        "    # Instruções\n",
        "    \n",
        "# Exemplo de uso da função\n",
        "desenha_retangulo(0, 0)                               # Argumento por posição usando valores padrão do restante \n",
        "desenha_retangulo(0, 0, width = 1280)                 # Argumento com uma palavra-chave\n",
        "desenha_retangulo(0, 0, width = 1280, height = 1024)  # Argumento com duas palavras-chave\n",
        "desenha_retangulo()                                   # Erro: required argument missing\n",
        "desenha_retangulo(color = \"#CCCCCC\")                  # Erro: argumento por palavra-chave desconhecido\n",
        "desenha_retangulo(0, 0, x = 200, y = 300)             # Erro: valores duplicados par ao mesmo argumento\n",
        "\n",
        "```\n",
        "\n",
        "**3. Listas de Argumentos Arbitrários**: o Python permite você criar listas de argumentos com tamanho variável, de forma que toda vez que você chamar a função você possa especificar qualquer quantidade de argumentos que serão empacotados em uma variável do tipo tupla.\n",
        "\n",
        "```python\n",
        "# O último argumento é marcado com uma asterisco \n",
        "# para indicar que após os dois primeiros parâmetros\n",
        "# qualquer dado enviado para a função será empacotado em uma tupla.\n",
        "def nome_funcao(primeiro_arg, segundo_arg, *restante):\n",
        "    # Instruções\n",
        "    \n",
        "```\n",
        "\n",
        "## Passagem por Valor ou Por Referência?\n",
        "\n",
        "Em Python, objetos passados como argumentos para as funções são passados por *referência*, ou seja, não é feita uma cópia deles para o corpo da função. Desta forma, quando passamos uma lista enorme como argumento, não haverá a cópia  de todos os seus itens para um novo local em memória. Não se esqueça que até mesmo números inteiros são objetos para o Python. \n",
        "\n",
        "Ao passar objetos mutáveis (p. ex: listas e dicionários) como parâmetro, eles podem ser alterados pela função que os chamou e as alterações são visíveis para a função chamadora. Já os objetos imutáveis (p. ex: inteiros e strings), não podem ser alterados pela função chamada, logo, a função chamadora pode ter certeza de que a função chamada não irá alterar os valores das variáveis.\n"
      ]
    },
    {
      "cell_type": "markdown",
      "metadata": {
        "id": "Wj0sb1nyDHnE",
        "colab_type": "text"
      },
      "source": [
        "## Exercícios"
      ]
    },
    {
      "cell_type": "markdown",
      "metadata": {
        "id": "rtQtM5_rDHnG",
        "colab_type": "text"
      },
      "source": [
        "1. Faça um programa contendo o método `verifica(numero)` que retorne 1 se o número digitado for positivo ou 0 se for negativo."
      ]
    },
    {
      "cell_type": "code",
      "metadata": {
        "id": "wfzvdhvoDHnJ",
        "colab_type": "code",
        "outputId": "c44c9762-55e8-4f1a-fa03-1e5ea0f373e3",
        "colab": {
          "base_uri": "https://localhost:8080/",
          "height": 50
        }
      },
      "source": [
        "numero = int(input('Escreva um número'))\n",
        "def verifica(numero):\n",
        "   if numero >= 0:\n",
        "    \treturn 1\n",
        "   else:\n",
        "      return 0\n",
        "print (verifica(numero))\n"
      ],
      "execution_count": 0,
      "outputs": [
        {
          "output_type": "stream",
          "text": [
            "Escreva um número-8\n",
            "0\n"
          ],
          "name": "stdout"
        }
      ]
    },
    {
      "cell_type": "markdown",
      "metadata": {
        "id": "cvqYGB3aDHnR",
        "colab_type": "text"
      },
      "source": [
        "2. Faça um programa contendo o método `somar(inicio, fim)` que receba dois números inteiros positivos como parâmetro e retorne a soma dos N números inteiros existentes entre eles. Ou seja, os parâmetros são exclusives, ou seja, os valores de início e fim não aparecerão no resultado."
      ]
    },
    {
      "cell_type": "code",
      "metadata": {
        "id": "6rFlwCXgDHnT",
        "colab_type": "code",
        "outputId": "6f9be795-901c-440f-e67b-4e119fa3bd88",
        "colab": {
          "base_uri": "https://localhost:8080/",
          "height": 67
        }
      },
      "source": [
        "inicio = int(input('Digite o primeiro número'))\n",
        "fim = int(input('Digite o segundo número'))\n",
        "soma = inicio\n",
        "def somar(inicio,fim):\n",
        "  while (inicio<fim):\n",
        "    inicio= inicio+1\n",
        "    soma+=inicio\n",
        "print (soma)\n",
        "  \n"
      ],
      "execution_count": 0,
      "outputs": [
        {
          "output_type": "stream",
          "text": [
            "Digite o primeiro número1\n",
            "Digite o segundo número100\n",
            "1\n"
          ],
          "name": "stdout"
        }
      ]
    },
    {
      "cell_type": "markdown",
      "metadata": {
        "id": "THKXVHATDHnZ",
        "colab_type": "text"
      },
      "source": [
        "3. Faça um programa contendo o método `divisores(a, b, c)` que receba três números inteiros a, b e c, sendo a maior que 1. A função deverá somar todos os inteiros entre b e c que sejam divisíveis por a (inclusive b e c) e retornar o resultado da soma para ser impresso."
      ]
    },
    {
      "cell_type": "code",
      "metadata": {
        "id": "wsk8gUAcDHnb",
        "colab_type": "code",
        "outputId": "10cfccfc-9dfa-47d0-ae65-4ed5e6a0d06a",
        "colab": {
          "base_uri": "https://localhost:8080/",
          "height": 84
        }
      },
      "source": [
        "a = int(input('Informe um número inteiro >1'))\n",
        "b = int(input('Informe um número inteiro '))\n",
        "c = int(input('Informe um número inteiro '))\n",
        "ajuda = 0\n",
        "somatoria = 0\n",
        "def divisores(a,b,c):\n",
        "  if b>c:\n",
        "    ajuda = b\n",
        "    b = c\n",
        "    c = ajuda\n",
        "somatoria = divisores(a,b,c)\n",
        "print('A soma dos números entre b e c divisiveis por a é:', somatoria)\n",
        "\n"
      ],
      "execution_count": 0,
      "outputs": [
        {
          "output_type": "stream",
          "text": [
            "Informe um número inteiro >15\n",
            "Informe um número inteiro 9\n",
            "Informe um número inteiro 1\n",
            "A soma dos números entre b e c divisiveis por a é: None\n"
          ],
          "name": "stdout"
        }
      ]
    },
    {
      "cell_type": "markdown",
      "metadata": {
        "id": "Q3p_5OTuDHnj",
        "colab_type": "text"
      },
      "source": [
        "4. Faça um método `converte_horario(segundos)` que receba um único valor representando segundos e converta esse valor para horas, minutos e segundos; seguindo o formato 00:00:00."
      ]
    },
    {
      "cell_type": "code",
      "metadata": {
        "id": "n36S0QQyDHnl",
        "colab_type": "code",
        "outputId": "44d183ff-7c16-4844-8b29-e68366168ad5",
        "colab": {
          "base_uri": "https://localhost:8080/",
          "height": 67
        }
      },
      "source": [
        "segundos = int(input(\"Informe um número em segundos \"))\n",
        "dias = 0\n",
        "horas = 0\n",
        "minutos = 0\n",
        "segundos_rest = 0\n",
        "def converte_horario(segundos):\n",
        "  dias = segundos // 86400\n",
        "  segundos_rest = segundos % 86400\n",
        "  horas = segundos_rest // 3600\n",
        "  segundos_rest = segundos_rest % 3600\n",
        "  minutos = segundos_rest // 60\n",
        "  segundos_rest = segundos_rest % 60\n",
        "print(dias,\"dias,\",horas,\"horas,\",minutos,\"minutos e\",segundos_rest,\"segundos.\")\n",
        "\n"
      ],
      "execution_count": 0,
      "outputs": [
        {
          "output_type": "stream",
          "text": [
            "Informe um número em segundos 32156\n",
            "0 dias, 0 horas, 0 minutos e 0 segundos.\n",
            "None\n"
          ],
          "name": "stdout"
        }
      ]
    },
    {
      "cell_type": "code",
      "metadata": {
        "id": "hst6UXpEwr_o",
        "colab_type": "code",
        "colab": {}
      },
      "source": [
        ""
      ],
      "execution_count": 0,
      "outputs": []
    },
    {
      "cell_type": "markdown",
      "metadata": {
        "id": "ZD-xBGxfDHnn",
        "colab_type": "text"
      },
      "source": [
        "5. Crie o método `calcula_reajuste(preco_antigo, preco_atual)` que receba os valores antigo e atual de um produto e determine o percentual de acréscimo entre esses valores."
      ]
    },
    {
      "cell_type": "code",
      "metadata": {
        "id": "3Y5GAE8PDHnp",
        "colab_type": "code",
        "outputId": "a5ba08a3-96a9-4ce0-f9c7-0ae6aa481ffc",
        "colab": {
          "base_uri": "https://localhost:8080/",
          "height": 67
        }
      },
      "source": [
        "preco_antigo = int(input('Informe o preço antigo'))\n",
        "preco_atual = int(input('Informe o preço atual'))\n",
        "def calcula_reajuste(preco_antigo, preco_atual):\n",
        "  return ((preco_atual/preco_antigo)*100)-100\n",
        "print('O aumento foi de:',calcula_reajuste(preco_antigo, preco_atual))\n"
      ],
      "execution_count": 0,
      "outputs": [
        {
          "output_type": "stream",
          "text": [
            "Informe o preço antigo800\n",
            "Informe o preço atual1000\n",
            "O aumento foi de: 25.0\n"
          ],
          "name": "stdout"
        }
      ]
    },
    {
      "cell_type": "markdown",
      "metadata": {
        "id": "RgNXz4SLDHnr",
        "colab_type": "text"
      },
      "source": [
        "6. Crie o método `imprime_multiplicacao(n)` que receba como parâmetro um número inteiro no intervalo de 1 a 9 (inclusive) e mostre a seguinte tabela de multiplicação (no exemplo, n = 9):\n",
        "\n",
        "\n",
        "1<br/> \n",
        "2  4 <br/>\n",
        "3 6 9  <br/>\n",
        "4 8 12 16  <br/>\n",
        "5 10 15 20 25  <br/>\n",
        "6 12 18 24 30 36  <br/>\n",
        "7 14 21 28 35 42 49  <br/>\n",
        "8 16 24 32 40 48 56 64  <br/>\n",
        "9 18 27 36 45 54 63 72 81  <br/>"
      ]
    },
    {
      "cell_type": "code",
      "metadata": {
        "id": "d3BQL-kxDHns",
        "colab_type": "code",
        "outputId": "479c1abd-ef7b-4041-e948-22ce180d1324",
        "colab": {
          "base_uri": "https://localhost:8080/",
          "height": 50
        }
      },
      "source": [
        " n = int(input('Escreva um número entre 1 e 9'))\n",
        " def imprime_multiplicacao(n):\n",
        "   return n, n*2,n*3,n*4,n*5,n*6,n*7,n*8,n*9\n",
        "print('VALOR É:',imprime_multiplicacao(n) )\n",
        "   "
      ],
      "execution_count": 0,
      "outputs": [
        {
          "output_type": "stream",
          "text": [
            "Escreva um número entre 1 e 95\n",
            "VALOR É: (5, 10, 15, 20, 25, 30, 35, 40, 45)\n"
          ],
          "name": "stdout"
        }
      ]
    },
    {
      "cell_type": "markdown",
      "metadata": {
        "id": "b-k27sUTDHnu",
        "colab_type": "text"
      },
      "source": [
        "7. crie o método `media_alunos(nota1, nota2, nota3, tipo)` que receba as três notas de um aluno como parâmetros e um número inteiro indicando o tipo de média. Se o número for 0, a função deverá calcular a média aritmética das notas do aluno; se for 1, deverá calcular a média ponderada, com pesos os respectivos pesos: 5, 3 e 2. A média calculada deverá ser retornada pela função."
      ]
    },
    {
      "cell_type": "code",
      "metadata": {
        "id": "KRsaFrEtDHnv",
        "colab_type": "code",
        "outputId": "de882be7-2e20-4356-c916-9a5ef133f15f",
        "colab": {
          "base_uri": "https://localhost:8080/",
          "height": 101
        }
      },
      "source": [
        "nota1 = float(input('Escreva a nota1>'))\n",
        "nota2 = float(input('Escreva a nota2>'))\n",
        "nota3 = float(input('Escreva a nota3>'))\n",
        "i = int(input('Informe 0 para média aritmética e 1 para média ponderada:'))\n",
        "def media_alunos(nota1,nota2,nota3):\n",
        "  if i == 0:\n",
        "    return (nota1+nota2+nota3)/3\n",
        "  if i == 1:\n",
        "    return ((nota1*5) + (nota2*3) + (nota3*2))/10\n",
        "print(media_alunos(nota1,nota2,nota3))\n"
      ],
      "execution_count": 0,
      "outputs": [
        {
          "output_type": "stream",
          "text": [
            "Escreva a nota1>5\n",
            "Escreva a nota2>6\n",
            "Escreva a nota3>8\n",
            "Informe 0 para média aritmética e 1 para média ponderada:1\n",
            "5.9\n"
          ],
          "name": "stdout"
        }
      ]
    },
    {
      "cell_type": "markdown",
      "metadata": {
        "id": "nRrnQYksDHny",
        "colab_type": "text"
      },
      "source": [
        "8. Faça o método `maior_menor(numeros)` que receba um vetor de números inteiros como parâmetro, em seguida, determine e imprima na tela o maior e o menor número."
      ]
    },
    {
      "cell_type": "code",
      "metadata": {
        "id": "XuPa3P9ADHnz",
        "colab_type": "code",
        "outputId": "215d36c4-c79e-4b7c-d7a9-c02ae49c1df3",
        "colab": {
          "base_uri": "https://localhost:8080/",
          "height": 118
        }
      },
      "source": [
        "lista = []\n",
        "maior = []\n",
        "menor = []\n",
        "for p in range(0, 5):\n",
        "    val = int(input(f'Digite um valor na posição {p}: '))\n",
        "    lista.append(val)\n",
        "for posicao, valores in enumerate(lista):\n",
        "    if valores == max(lista):\n",
        "        maior.append(posicao)\n",
        "    if valores == min(lista):\n",
        "        menor.append(posicao)\n",
        "def maior_menor(lista):\n",
        "  return {max(lista)},{min(lista)}\n",
        "print('mario valor e menor respectivamente:',maior_menor(lista))\n"
      ],
      "execution_count": 0,
      "outputs": [
        {
          "output_type": "stream",
          "text": [
            "Digite um valor na posição 0: 1\n",
            "Digite um valor na posição 1: 6\n",
            "Digite um valor na posição 2: 9\n",
            "Digite um valor na posição 3: 4\n",
            "Digite um valor na posição 4: 5\n",
            "mario valor e menor respectivamente: ({9}, {1})\n"
          ],
          "name": "stdout"
        }
      ]
    },
    {
      "cell_type": "markdown",
      "metadata": {
        "id": "_suxi2RGDHn2",
        "colab_type": "text"
      },
      "source": [
        "9. Foi realizada uma pesquisa sobre algumas características físicas dos habitantes de uma região. Foram coletados os seguintes dados de cada habitante: sexo, cor dos olhos (A — azuis; ou C — castanhos), cor dos cabelos (L — louros; P — pretos; ou C — castanhos) e idade. Implemente os seguintes métodos:\n",
        "\n",
        "    1. `leia_dados()`: leia esses dados, armazene e retorne os dados em uma lista;\n",
        "    2. `media_idades(dados)`: calcula e retorne a média de idade das pessoas com olhos castanhos e cabelos pretos;\n",
        "    3. `maior_idade(dados)`: determina e retorne a maior idade entre os habitantes;\n",
        "    4. `frequencia_individuos(dados)`: calcula e retorna a quantidade de indivíduos do sexo feminino com idade entre 18 e 35 anos (inclusive) e que tenham olhos azuis e cabelos louros."
      ]
    },
    {
      "cell_type": "code",
      "metadata": {
        "id": "4qPVlIwiDHn3",
        "colab_type": "code",
        "outputId": "14a15ead-a6a5-4d02-9779-9ea2df8a522b",
        "colab": {
          "base_uri": "https://localhost:8080/",
          "height": 235
        }
      },
      "source": [
        "idade = 0\n",
        "dados = []\n",
        "while idade != -1:\n",
        "  idade = int(input(\"Informe a idade ou -1 para sair\\n\"))\n",
        "  if idade >0:\n",
        "    print(len(dados)+1)\n",
        "    sexo = input(\"Informe o sexo M ou F\\n\")\n",
        "    cor_olhos = input(\"Informe cor dos olhos (A)zuis, (V)erdes, (C)astanhos\\n\")\n",
        "    cor_cabelo = input(\"Informe cor dos cabelos (L)ouros, (C)astanhos, (P)retos\\n\")\n",
        "    dados.append( [ idade,sexo,cor_olhos,cor_cabelo])\n",
        "def leia_dados(sexo,cor_olhos,cor_cabelo,idade):\n",
        "  return print('sexo',sexo,'cor olhos',cor_olhos,'cor cabelo', cor_cabelo)\n",
        "print(leia_dados(sexo,cor_olhos,cor_cabelo,idade))\n",
        "def media_idades(idade):\n",
        "  return idade\n",
        "def maior_idade(idade):\n",
        "return idade\n",
        "def frequencia_individuoes()\n"
      ],
      "execution_count": 0,
      "outputs": [
        {
          "output_type": "stream",
          "text": [
            "Informe a idade ou -1 para sair\n",
            "5\n",
            "1\n",
            "Informe o sexo M ou F\n",
            "m\n",
            "Informe cor dos olhos (A)zuis, (V)erdes, (C)astanhos\n",
            "a\n",
            "Informe cor dos cabelos (L)ouros, (C)astanhos, (P)retos\n",
            "c\n",
            "Informe a idade ou -1 para sair\n",
            "-1\n",
            "sexo m cor olhos a cor cabelo c\n",
            "None\n"
          ],
          "name": "stdout"
        }
      ]
    },
    {
      "cell_type": "markdown",
      "metadata": {
        "id": "NQR9mVKnDHn6",
        "colab_type": "text"
      },
      "source": [
        "10. Implemente o método `fatorial(n)` que receba como parâmetro um número inteiro e retorne o fatorial deste número."
      ]
    },
    {
      "cell_type": "code",
      "metadata": {
        "id": "7PG4VsAhDHn8",
        "colab_type": "code",
        "outputId": "650092d9-8987-41da-e666-064f3c7603c3",
        "colab": {
          "base_uri": "https://localhost:8080/",
          "height": 50
        }
      },
      "source": [
        "from math import factorial \n",
        "n = int(input('Digite um número'))\n",
        "def fatorial(n):\n",
        "  return factorial(n)\n",
        "print(fatorial(n))\n"
      ],
      "execution_count": 0,
      "outputs": [
        {
          "output_type": "stream",
          "text": [
            "Digite um número5\n",
            "120\n"
          ],
          "name": "stdout"
        }
      ]
    },
    {
      "cell_type": "markdown",
      "metadata": {
        "id": "wsv7nCUfDHn-",
        "colab_type": "text"
      },
      "source": [
        "11. Faça o método `calcula_fatorial(numeros)` que receba uma lista de números inteiros como parâmetro. Ao final dessa função, deverá ter sido gerado um vetor `resultados_fatorial` contendo o fatorial de cada elemento da lista de números passada como parâmetro."
      ]
    },
    {
      "cell_type": "code",
      "metadata": {
        "id": "YXKkFHqHDHn_",
        "colab_type": "code",
        "outputId": "2a8e4840-1487-45d1-a5a7-4edfcdd1c503",
        "colab": {
          "base_uri": "https://localhost:8080/",
          "height": 235
        }
      },
      "source": [
        "numeros = 0\n",
        "dados = []\n",
        "while numeros != -1:\n",
        "  numeros = int(input(\"Informe um número ou -1 pra sair\\n\"))\n",
        "  if numeros >0:\n",
        "    print(len(dados)+1)\n",
        "    numeros = int(input(\"Informe um número \\n\"))\n",
        "    dados.append( [numeros])\n",
        "  def calcula_fatoriaal(numeros):\n",
        "    return dados.append( [numeros])\n",
        "print(calcula_fatoriaal(numeros))"
      ],
      "execution_count": 0,
      "outputs": [
        {
          "output_type": "stream",
          "text": [
            "Informe um número ou -1 pra sair\n",
            "5\n",
            "1\n",
            "Informe um número \n",
            "5\n",
            "Informe um número ou -1 pra sair\n",
            "6\n",
            "2\n",
            "Informe um número \n",
            "4\n",
            "Informe um número ou -1 pra sair\n",
            "-1\n",
            "None\n"
          ],
          "name": "stdout"
        }
      ]
    },
    {
      "cell_type": "markdown",
      "metadata": {
        "id": "IKEYaaujDHoC",
        "colab_type": "text"
      },
      "source": [
        "12. Crie o método `identifica_numeros_pares(numeros)` que recebe um vetor de números inteiros como parâmetro, calcule e mostre na tela os números pares e suas respectivas posições."
      ]
    },
    {
      "cell_type": "code",
      "metadata": {
        "id": "BjF0ACxwDHoE",
        "colab_type": "code",
        "colab": {}
      },
      "source": [
        "n = 1\n",
        "pares = 0\n",
        "impar = 0\n",
        "def identifica_numeros_pares(n):\n",
        "  while n <= 5:\n",
        "    a = int(input('escreva 5 numeros'))\n",
        "    n = n + 1\n",
        "    if a % 2 == 0:\n",
        "      pares = pares + 1\n",
        "    else:\n",
        "      impar = impar + 1\n",
        "print(\"A qtd de números pares é: \", pares)\n"
      ],
      "execution_count": 0,
      "outputs": []
    },
    {
      "cell_type": "markdown",
      "metadata": {
        "id": "QVgRHiHiDHoG",
        "colab_type": "text"
      },
      "source": [
        "13. Crie o método `intercala(a, b)` que receba dois vetores númericos como parâmetro e retorne o vetor resultante da intercalação deles, por exemplo:\n",
        "\n",
        "    * Vetor A = [3, 5, 4, 2, 2, 5, 3, 2, 5, 9]\n",
        "    * Vetor B = [7, 15, 20, 0, 18, 4, 55, 23, 8, 6]\n",
        "    * Vetor Intercalado = [3, 7, 5, 15, 4, 20, 2, 0, 2, 18, 5, 4, 3, 55, 2, 23, 5, 8, 9, 6]\n"
      ]
    },
    {
      "cell_type": "code",
      "metadata": {
        "id": "1jmFtXgJDHoH",
        "colab_type": "code",
        "outputId": "b62c590b-dbd7-4bbc-fae7-2fc3ea383889",
        "colab": {
          "base_uri": "https://localhost:8080/",
          "height": 34
        }
      },
      "source": [
        "vetor_a = [3, 5, 4, 2, 2, 5, 3, 2, 5, 9]\n",
        "vetor_b = [7, 15, 20, 0, 18, 4, 55, 23, 8, 6]\n",
        "def intercala(vetor_a,vetor_b):\n",
        " return vetor_a[0],Vetor_b[0],vetor_a[1],Vetor_b[1],vetor_a[2],Vetor_b[2],vetor_a[3],Vetor_b[3],vetor_a[4],Vetor_b[4],vetor_a[5],Vetor_b[5],vetor_a[6],Vetor_b[6],vetor_a[7],Vetor_b[7],vetor_a[8],Vetor_b[8],vetor_a[9],Vetor_b[9]\n",
        "print (intercala(vetor_a,vetor_b))\n"
      ],
      "execution_count": 0,
      "outputs": [
        {
          "output_type": "stream",
          "text": [
            "(3, 7, 5, 15, 4, 20, 2, 0, 2, 18, 5, 4, 3, 55, 2, 23, 5, 8, 9, 6)\n"
          ],
          "name": "stdout"
        }
      ]
    },
    {
      "cell_type": "markdown",
      "metadata": {
        "id": "paQvwqB1DHoJ",
        "colab_type": "text"
      },
      "source": [
        "14. Implemente o método `uniao(a, b)` que receba dois vetores numéricos como parâmetro, calcule e retorne um vetor numérico com a união entre a e b (A ∪ B), ou seja, que possua todos os elementos dos vetores A e B, sem repetições."
      ]
    },
    {
      "cell_type": "code",
      "metadata": {
        "id": "u_rT09FPDHoK",
        "colab_type": "code",
        "outputId": "31987070-9514-4c1b-dc41-3715171c48a3",
        "colab": {
          "base_uri": "https://localhost:8080/",
          "height": 34
        }
      },
      "source": [
        "valor_a = [5,9,4,6,2]\n",
        "valor_b = [6,8,1,3,5]\n",
        "def uniao(valor_a,valor_b):\n",
        " return valor_a[0],valor_b[0],valor_a[1],valor_b[1],valor_a[2],valor_b[2],valor_a[3],valor_b[3],valor_a[4],valor_b[4]\n",
        "print (uniao(valor_a,valor_b))"
      ],
      "execution_count": 0,
      "outputs": [
        {
          "output_type": "stream",
          "text": [
            "(5, 6, 9, 8, 4, 1, 6, 3, 2, 5)\n"
          ],
          "name": "stdout"
        }
      ]
    },
    {
      "cell_type": "markdown",
      "metadata": {
        "id": "3QJmIKIIDHoM",
        "colab_type": "text"
      },
      "source": [
        "15. Implemente o método `diferenca(a, b)` que receba dois vetores numéricos como parâmetro, calcule e retorne um vetor numérico com a diferença entre a e b (A - B), ou seja, todos os elementos do vetores A que não existam no vetor B, sem repetições."
      ]
    },
    {
      "cell_type": "code",
      "metadata": {
        "id": "KwarL_OhDHoN",
        "colab_type": "code",
        "outputId": "d4ea86e8-e730-4d48-acd7-6b379fbee9fc",
        "colab": {
          "base_uri": "https://localhost:8080/",
          "height": 34
        }
      },
      "source": [
        "vet_a = [1,6,5,3,7]\n",
        "vet_b = [6,8,7,6,1]\n",
        "def diferenca(vet_a,vet_b):\n",
        " return vet_a - vet_b\n",
        "print((vet_a,vet_b))\n",
        "\n"
      ],
      "execution_count": 0,
      "outputs": [
        {
          "output_type": "stream",
          "text": [
            "([1, 6, 5, 3, 7], [6, 8, 7, 6, 1])\n"
          ],
          "name": "stdout"
        }
      ]
    },
    {
      "cell_type": "markdown",
      "metadata": {
        "id": "ueUcx2rEDHoP",
        "colab_type": "text"
      },
      "source": [
        "16. Implemente o método `intersecao(a, b)` que receba dois vetores numéricos como parâmetro, calcule e retorne um vetor numérico com a intersecção entre a e b (A ∩ B), ou seja, contenha apenas os elementos que aparecem nos dois vetores, sem repetições."
      ]
    },
    {
      "cell_type": "code",
      "metadata": {
        "id": "_VF2v0coDHoQ",
        "colab_type": "code",
        "colab": {}
      },
      "source": [
        "conjuntoA = [2,4,6,7,10]\n",
        "conjuntoB = [3,4,6,8,10,11]\n",
        "def intersecao(conjuntoA, conjuntoB):\n",
        "  inter = [x for x in range(1,12) if x in conjuntoA and x in conjuntoB]\n",
        "  return inter\n",
        "\n",
        "print(intersecao(conjuntoA, conjuntoB))"
      ],
      "execution_count": 0,
      "outputs": []
    },
    {
      "cell_type": "markdown",
      "metadata": {
        "id": "AF4j33voDHoT",
        "colab_type": "text"
      },
      "source": [
        "17. Implemente o método `par(n)` que receba como parâmetro um número e retorne verdadeiro (true) se ele for par ou falso (false) se ele for ímpar."
      ]
    },
    {
      "cell_type": "code",
      "metadata": {
        "id": "p651SfRqDHoU",
        "colab_type": "code",
        "outputId": "c4ca934d-9105-4a5c-e457-cacae04dc933",
        "colab": {
          "base_uri": "https://localhost:8080/",
          "height": 757
        }
      },
      "source": [
        " def par(n):\n",
        "    if (n%2)==0:\n",
        "        return True\n",
        "    else:\n",
        "        return False \n",
        "\n",
        "while True:\n",
        "    num = int(input(\"Insira um número: \"))\n",
        "    if par(num):\n",
        "        print(\"True\")\n",
        "    else:\n",
        "        print(\"FALSE\")"
      ],
      "execution_count": 0,
      "outputs": [
        {
          "output_type": "stream",
          "text": [
            "Insira um número: 3\n",
            "FALSE\n",
            "Insira um número: 4\n",
            "True\n",
            "Insira um número: 4\n",
            "True\n",
            "Insira um número: 0\n",
            "True\n",
            "Insira um número: 2\n",
            "True\n",
            "Insira um número: 1\n",
            "FALSE\n",
            "Insira um número: -1\n",
            "FALSE\n"
          ],
          "name": "stdout"
        },
        {
          "output_type": "error",
          "ename": "KeyboardInterrupt",
          "evalue": "ignored",
          "traceback": [
            "\u001b[0;31m---------------------------------------------------------------------------\u001b[0m",
            "\u001b[0;31mKeyboardInterrupt\u001b[0m                         Traceback (most recent call last)",
            "\u001b[0;32m/usr/local/lib/python3.6/dist-packages/ipykernel/kernelbase.py\u001b[0m in \u001b[0;36m_input_request\u001b[0;34m(self, prompt, ident, parent, password)\u001b[0m\n\u001b[1;32m    729\u001b[0m             \u001b[0;32mtry\u001b[0m\u001b[0;34m:\u001b[0m\u001b[0;34m\u001b[0m\u001b[0;34m\u001b[0m\u001b[0m\n\u001b[0;32m--> 730\u001b[0;31m                 \u001b[0mident\u001b[0m\u001b[0;34m,\u001b[0m \u001b[0mreply\u001b[0m \u001b[0;34m=\u001b[0m \u001b[0mself\u001b[0m\u001b[0;34m.\u001b[0m\u001b[0msession\u001b[0m\u001b[0;34m.\u001b[0m\u001b[0mrecv\u001b[0m\u001b[0;34m(\u001b[0m\u001b[0mself\u001b[0m\u001b[0;34m.\u001b[0m\u001b[0mstdin_socket\u001b[0m\u001b[0;34m,\u001b[0m \u001b[0;36m0\u001b[0m\u001b[0;34m)\u001b[0m\u001b[0;34m\u001b[0m\u001b[0;34m\u001b[0m\u001b[0m\n\u001b[0m\u001b[1;32m    731\u001b[0m             \u001b[0;32mexcept\u001b[0m \u001b[0mException\u001b[0m\u001b[0;34m:\u001b[0m\u001b[0;34m\u001b[0m\u001b[0;34m\u001b[0m\u001b[0m\n",
            "\u001b[0;32m/usr/local/lib/python3.6/dist-packages/jupyter_client/session.py\u001b[0m in \u001b[0;36mrecv\u001b[0;34m(self, socket, mode, content, copy)\u001b[0m\n\u001b[1;32m    802\u001b[0m         \u001b[0;32mtry\u001b[0m\u001b[0;34m:\u001b[0m\u001b[0;34m\u001b[0m\u001b[0;34m\u001b[0m\u001b[0m\n\u001b[0;32m--> 803\u001b[0;31m             \u001b[0mmsg_list\u001b[0m \u001b[0;34m=\u001b[0m \u001b[0msocket\u001b[0m\u001b[0;34m.\u001b[0m\u001b[0mrecv_multipart\u001b[0m\u001b[0;34m(\u001b[0m\u001b[0mmode\u001b[0m\u001b[0;34m,\u001b[0m \u001b[0mcopy\u001b[0m\u001b[0;34m=\u001b[0m\u001b[0mcopy\u001b[0m\u001b[0;34m)\u001b[0m\u001b[0;34m\u001b[0m\u001b[0;34m\u001b[0m\u001b[0m\n\u001b[0m\u001b[1;32m    804\u001b[0m         \u001b[0;32mexcept\u001b[0m \u001b[0mzmq\u001b[0m\u001b[0;34m.\u001b[0m\u001b[0mZMQError\u001b[0m \u001b[0;32mas\u001b[0m \u001b[0me\u001b[0m\u001b[0;34m:\u001b[0m\u001b[0;34m\u001b[0m\u001b[0;34m\u001b[0m\u001b[0m\n",
            "\u001b[0;32m/usr/local/lib/python3.6/dist-packages/zmq/sugar/socket.py\u001b[0m in \u001b[0;36mrecv_multipart\u001b[0;34m(self, flags, copy, track)\u001b[0m\n\u001b[1;32m    465\u001b[0m         \"\"\"\n\u001b[0;32m--> 466\u001b[0;31m         \u001b[0mparts\u001b[0m \u001b[0;34m=\u001b[0m \u001b[0;34m[\u001b[0m\u001b[0mself\u001b[0m\u001b[0;34m.\u001b[0m\u001b[0mrecv\u001b[0m\u001b[0;34m(\u001b[0m\u001b[0mflags\u001b[0m\u001b[0;34m,\u001b[0m \u001b[0mcopy\u001b[0m\u001b[0;34m=\u001b[0m\u001b[0mcopy\u001b[0m\u001b[0;34m,\u001b[0m \u001b[0mtrack\u001b[0m\u001b[0;34m=\u001b[0m\u001b[0mtrack\u001b[0m\u001b[0;34m)\u001b[0m\u001b[0;34m]\u001b[0m\u001b[0;34m\u001b[0m\u001b[0;34m\u001b[0m\u001b[0m\n\u001b[0m\u001b[1;32m    467\u001b[0m         \u001b[0;31m# have first part already, only loop while more to receive\u001b[0m\u001b[0;34m\u001b[0m\u001b[0;34m\u001b[0m\u001b[0;34m\u001b[0m\u001b[0m\n",
            "\u001b[0;32mzmq/backend/cython/socket.pyx\u001b[0m in \u001b[0;36mzmq.backend.cython.socket.Socket.recv\u001b[0;34m()\u001b[0m\n",
            "\u001b[0;32mzmq/backend/cython/socket.pyx\u001b[0m in \u001b[0;36mzmq.backend.cython.socket.Socket.recv\u001b[0;34m()\u001b[0m\n",
            "\u001b[0;32mzmq/backend/cython/socket.pyx\u001b[0m in \u001b[0;36mzmq.backend.cython.socket._recv_copy\u001b[0;34m()\u001b[0m\n",
            "\u001b[0;32m/usr/local/lib/python3.6/dist-packages/zmq/backend/cython/checkrc.pxd\u001b[0m in \u001b[0;36mzmq.backend.cython.checkrc._check_rc\u001b[0;34m()\u001b[0m\n",
            "\u001b[0;31mKeyboardInterrupt\u001b[0m: ",
            "\nDuring handling of the above exception, another exception occurred:\n",
            "\u001b[0;31mKeyboardInterrupt\u001b[0m                         Traceback (most recent call last)",
            "\u001b[0;32m<ipython-input-7-f615ee5fcd7a>\u001b[0m in \u001b[0;36m<module>\u001b[0;34m()\u001b[0m\n\u001b[1;32m      7\u001b[0m \u001b[0;34m\u001b[0m\u001b[0m\n\u001b[1;32m      8\u001b[0m \u001b[0;32mwhile\u001b[0m \u001b[0;32mTrue\u001b[0m\u001b[0;34m:\u001b[0m\u001b[0;34m\u001b[0m\u001b[0;34m\u001b[0m\u001b[0m\n\u001b[0;32m----> 9\u001b[0;31m    \u001b[0mnum\u001b[0m \u001b[0;34m=\u001b[0m \u001b[0mint\u001b[0m\u001b[0;34m(\u001b[0m\u001b[0minput\u001b[0m\u001b[0;34m(\u001b[0m\u001b[0;34m\"Insira um número: \"\u001b[0m\u001b[0;34m)\u001b[0m\u001b[0;34m)\u001b[0m\u001b[0;34m\u001b[0m\u001b[0;34m\u001b[0m\u001b[0m\n\u001b[0m\u001b[1;32m     10\u001b[0m    \u001b[0;32mif\u001b[0m \u001b[0mpar\u001b[0m\u001b[0;34m(\u001b[0m\u001b[0mnum\u001b[0m\u001b[0;34m)\u001b[0m\u001b[0;34m:\u001b[0m\u001b[0;34m\u001b[0m\u001b[0;34m\u001b[0m\u001b[0m\n\u001b[1;32m     11\u001b[0m        \u001b[0mprint\u001b[0m\u001b[0;34m(\u001b[0m\u001b[0;34m\"True\"\u001b[0m\u001b[0;34m)\u001b[0m\u001b[0;34m\u001b[0m\u001b[0;34m\u001b[0m\u001b[0m\n",
            "\u001b[0;32m/usr/local/lib/python3.6/dist-packages/ipykernel/kernelbase.py\u001b[0m in \u001b[0;36mraw_input\u001b[0;34m(self, prompt)\u001b[0m\n\u001b[1;32m    703\u001b[0m             \u001b[0mself\u001b[0m\u001b[0;34m.\u001b[0m\u001b[0m_parent_ident\u001b[0m\u001b[0;34m,\u001b[0m\u001b[0;34m\u001b[0m\u001b[0;34m\u001b[0m\u001b[0m\n\u001b[1;32m    704\u001b[0m             \u001b[0mself\u001b[0m\u001b[0;34m.\u001b[0m\u001b[0m_parent_header\u001b[0m\u001b[0;34m,\u001b[0m\u001b[0;34m\u001b[0m\u001b[0;34m\u001b[0m\u001b[0m\n\u001b[0;32m--> 705\u001b[0;31m             \u001b[0mpassword\u001b[0m\u001b[0;34m=\u001b[0m\u001b[0;32mFalse\u001b[0m\u001b[0;34m,\u001b[0m\u001b[0;34m\u001b[0m\u001b[0;34m\u001b[0m\u001b[0m\n\u001b[0m\u001b[1;32m    706\u001b[0m         )\n\u001b[1;32m    707\u001b[0m \u001b[0;34m\u001b[0m\u001b[0m\n",
            "\u001b[0;32m/usr/local/lib/python3.6/dist-packages/ipykernel/kernelbase.py\u001b[0m in \u001b[0;36m_input_request\u001b[0;34m(self, prompt, ident, parent, password)\u001b[0m\n\u001b[1;32m    733\u001b[0m             \u001b[0;32mexcept\u001b[0m \u001b[0mKeyboardInterrupt\u001b[0m\u001b[0;34m:\u001b[0m\u001b[0;34m\u001b[0m\u001b[0;34m\u001b[0m\u001b[0m\n\u001b[1;32m    734\u001b[0m                 \u001b[0;31m# re-raise KeyboardInterrupt, to truncate traceback\u001b[0m\u001b[0;34m\u001b[0m\u001b[0;34m\u001b[0m\u001b[0;34m\u001b[0m\u001b[0m\n\u001b[0;32m--> 735\u001b[0;31m                 \u001b[0;32mraise\u001b[0m \u001b[0mKeyboardInterrupt\u001b[0m\u001b[0;34m\u001b[0m\u001b[0;34m\u001b[0m\u001b[0m\n\u001b[0m\u001b[1;32m    736\u001b[0m             \u001b[0;32melse\u001b[0m\u001b[0;34m:\u001b[0m\u001b[0;34m\u001b[0m\u001b[0;34m\u001b[0m\u001b[0m\n\u001b[1;32m    737\u001b[0m                 \u001b[0;32mbreak\u001b[0m\u001b[0;34m\u001b[0m\u001b[0;34m\u001b[0m\u001b[0m\n",
            "\u001b[0;31mKeyboardInterrupt\u001b[0m: "
          ]
        }
      ]
    },
    {
      "cell_type": "markdown",
      "metadata": {
        "id": "tJc4BNj6DHoX",
        "colab_type": "text"
      },
      "source": [
        "18. Implemente o método `max(numeros)` que receba como parâmetro uma lista de números e retorne o *maior número* encontrado na lista."
      ]
    },
    {
      "cell_type": "code",
      "metadata": {
        "id": "vrH_gK06DHoX",
        "colab_type": "code",
        "outputId": "164810ea-0c9e-4cb5-868f-a3d7eea7fc21",
        "colab": {
          "base_uri": "https://localhost:8080/",
          "height": 84
        }
      },
      "source": [
        "numeros = []\n",
        "def max(numeros): \n",
        "  while True:\n",
        "      n = int(input('Digite o número (0 para encerrar): '))\n",
        "      if n == 0:\n",
        "          break\n",
        "          numeros.append(n)\n",
        "\n",
        "print ('O maior número da lista é: ',max(numeros)) "
      ],
      "execution_count": 0,
      "outputs": [
        {
          "output_type": "stream",
          "text": [
            "Digite o número (0 para encerrar): 5\n",
            "Digite o número (0 para encerrar): 1\n",
            "Digite o número (0 para encerrar): 0\n",
            "O maior número da lista é:  None\n"
          ],
          "name": "stdout"
        }
      ]
    },
    {
      "cell_type": "markdown",
      "metadata": {
        "id": "9LGp6XfTDHob",
        "colab_type": "text"
      },
      "source": [
        "19. Implemente o método `min(numeros)` que receba como parâmetro uma lista de números e retorne o *menor número* encontrado na lista."
      ]
    },
    {
      "cell_type": "code",
      "metadata": {
        "id": "W0K-DzfSDHob",
        "colab_type": "code",
        "colab": {}
      },
      "source": [
        "numeros = []\n",
        "def min(numeros): \n",
        "  while True:\n",
        "      n = int(input('Digite o número (0 para encerrar): '))\n",
        "      if n == 0:\n",
        "          break\n",
        "          numeros.append(n)\n",
        "\n",
        "print ('O menor número da lista é: ',min(numeros)) "
      ],
      "execution_count": 0,
      "outputs": []
    },
    {
      "cell_type": "markdown",
      "metadata": {
        "id": "Ekjxwl8gDHoe",
        "colab_type": "text"
      },
      "source": [
        "20. Escreva o método `multiplo(a, b)` que receba dois números inteiros como parâmetro e retorne verdadeiro (true) se o primeiro for um múltiplo do segundo. Por exemplo: \n",
        "\n",
        "    * Se o usuário digitar 15 e 3, o primeiro número será múltiplo do segundo;\n",
        "    * Se o usuário digitar 2 e 4, o primeiro número não será múltiplo do segundo. \n",
        "\n",
        "> **Dica:** use o operador módulo para obter o resto da divisão.\n"
      ]
    },
    {
      "cell_type": "code",
      "metadata": {
        "id": "WyKZEfwLDHoe",
        "colab_type": "code",
        "outputId": "dd93bbd5-5391-43cc-e671-ef397c350484",
        "colab": {
          "base_uri": "https://localhost:8080/",
          "height": 85
        }
      },
      "source": [
        "a = int(input('Digite o primeiro valor>'))\n",
        "b = int(input('Digite o segundo valor>'))\n",
        "def multiplo(a,b):\n",
        "  if ((b%a)==0):\n",
        "    return 1\n",
        "  else:\n",
        "      return 0\n",
        "print('Multiplo =1 não multiplo=0 \\n',multiplo(a,b))\n",
        "\n",
        "\n"
      ],
      "execution_count": 0,
      "outputs": [
        {
          "output_type": "stream",
          "text": [
            "Digite o primeiro valor>13\n",
            "Digite o segundo valor>2\n",
            "Multiplo =1 não multilpo=0 \n",
            " 0\n"
          ],
          "name": "stdout"
        }
      ]
    },
    {
      "cell_type": "markdown",
      "metadata": {
        "id": "rjo0NhJYDHog",
        "colab_type": "text"
      },
      "source": [
        "21. Implemente o método `imprime_vetor(vetor, codigo)` que receba como parâmetro um vetor de itens que será impresso e um código indicando a ordem da impressão. Se o código for igual a 0, o vetor deverá ser impresso de maneira crescente, caso contrário, se o código for igual a 1 o vetor deverá ser impresso de maneira decrescente. "
      ]
    },
    {
      "cell_type": "code",
      "metadata": {
        "id": "apDUMEIfDHoh",
        "colab_type": "code",
        "outputId": "c5759caf-7cf7-4f06-b926-f689c1f7406f",
        "colab": {
          "base_uri": "https://localhost:8080/",
          "height": 119
        }
      },
      "source": [
        "numeros = []\n",
        "for _ in range(5):\n",
        "    numero = int(input(\"Digite um número: \"))\n",
        "    for chave, valor in enumerate(numeros):\n",
        "        if numero < valor:\n",
        "            numeros.insert(chave, numero)\n",
        "            break\n",
        "    else:\n",
        "        numeros.append(numero)\n",
        "print(\"Lista atual:\", numeros)"
      ],
      "execution_count": 0,
      "outputs": [
        {
          "output_type": "stream",
          "text": [
            "Digite um número: 0\n",
            "Digite um número: 1\n",
            "Digite um número: 2\n",
            "Digite um número: 3\n",
            "Digite um número: 4\n",
            "Lista atual: [0, 1, 2, 3, 4]\n"
          ],
          "name": "stdout"
        }
      ]
    },
    {
      "cell_type": "markdown",
      "metadata": {
        "id": "TfhJR7zADHoj",
        "colab_type": "text"
      },
      "source": [
        "22. Implemente o método `primo(n)` que receba um número como parâmetro e retorna verdadeiro (true) se ele for primo, caso contrário, falso (false). \n",
        "\n",
        "> Um número é primo quando é divisível apenas por 1 e por ele mesmo"
      ]
    },
    {
      "cell_type": "code",
      "metadata": {
        "id": "p68LythMDHok",
        "colab_type": "code",
        "outputId": "0b6f0dd2-7c46-4bd5-9c2d-2dc48d09f4d5",
        "colab": {
          "base_uri": "https://localhost:8080/",
          "height": 68
        }
      },
      "source": [
        "n=int(input(\"Digite um numero\"))\n",
        "i=1\n",
        "def primo(n,i):\n",
        "  while i <= n:\n",
        "      if n%2==1:\n",
        "          i=i+1\n",
        "          return print(\"primo\")\n",
        "          break\n",
        "      else:\n",
        "          return print(\"não primo\")\n",
        "          break\n",
        "print(primo(n,i))"
      ],
      "execution_count": 0,
      "outputs": [
        {
          "output_type": "stream",
          "text": [
            "Digite um numero2\n",
            "não primo\n",
            "None\n"
          ],
          "name": "stdout"
        }
      ]
    },
    {
      "cell_type": "markdown",
      "metadata": {
        "id": "_CP_xfCZDHom",
        "colab_type": "text"
      },
      "source": [
        "23. Crie o método `media(numeros)` que receba uma lista de números como parâmetro e retorno a média artimética."
      ]
    },
    {
      "cell_type": "code",
      "metadata": {
        "id": "Bq85HcPsDHoo",
        "colab_type": "code",
        "outputId": "43e03c70-3e7a-424d-f9f1-5984ac28876a",
        "colab": {
          "base_uri": "https://localhost:8080/",
          "height": 34
        }
      },
      "source": [
        "numeros = [23,54,32,24,12]\n",
        "def media(numeros):\n",
        "  return sum(numeros)/ float(len(numeros))\n",
        "print(media(numeros))"
      ],
      "execution_count": 0,
      "outputs": [
        {
          "output_type": "stream",
          "text": [
            "29.0\n"
          ],
          "name": "stdout"
        }
      ]
    },
    {
      "cell_type": "markdown",
      "metadata": {
        "id": "nDJJL7hLDHoq",
        "colab_type": "text"
      },
      "source": [
        "24. Faça o método `analisa_numeros(numeros)` que receba uma lista de números como parâmetro, calcule e mostre:\n",
        "\n",
        "    1. A Soma dos números;\n",
        "    2. A quantidade de números;\n",
        "    3. A média dos números;\n",
        "    4. O maior número;\n",
        "    5. O menor número;\n",
        "    6. A média dos números pares;\n",
        "    7. A porcentagem dos números ímpares entre todos os números da lista.\n",
        "\n",
        "> Você pode utilizar métodos criados nos exercícios anteriores."
      ]
    },
    {
      "cell_type": "code",
      "metadata": {
        "id": "_qfPylmtDHor",
        "colab_type": "code",
        "outputId": "010810fc-4b1c-41d4-ddfe-024fe543b0a4",
        "colab": {
          "base_uri": "https://localhost:8080/",
          "height": 51
        }
      },
      "source": [
        "numeros = [13,24,53,23,41]\n",
        "def analisa_numeros(numeros):\n",
        "  return print(\"Soma>\",sum(numeros)) \n",
        "  return print(\"Quantidade>\",len(numeros)) \n",
        "  return print(\"Média numeros>\",sum(numeros)/ float(len(numeros))) \n",
        "  return print(\"Maior Número>\" \n",
        "  return print(\"Menor número>\"\n",
        "  return print(\"Média dos pares>\",sum(numeros)/ float(len(numeros))) \n",
        "  return print(\"Porcentagem dos números ímpares >\"\n",
        "  \n",
        "print(analisa_numeros(numeros))"
      ],
      "execution_count": 0,
      "outputs": [
        {
          "output_type": "stream",
          "text": [
            "Soma> 154\n",
            "None\n"
          ],
          "name": "stdout"
        }
      ]
    },
    {
      "cell_type": "markdown",
      "metadata": {
        "id": "PYbLk8WfDHot",
        "colab_type": "text"
      },
      "source": [
        "25. Uma empresa quer transmitir dados pelo telefone, mas está preocupada com a interceptação telefônica. Todos os seus dados são transmitidos  como inteiros de quatro dígitos. Ela pediu para que você escreva um programa que criptografe seus dados, para que eles possam ser transmitidos com mais segurança. Implemente a função `criptogra(numero)` que receba como parâmetro um número inteiro de quatro dígitos e criptografe-o da seguinte forma: \n",
        "\n",
        "    * Substitua cada um dos dígitos do número usando a seguinte fórmula: `(digito +  7) módulo 10`; \n",
        "    * Após a substituição, troque o primeiro dígito pelo terceiro e troque o segundo dígito pelo quarto;\n",
        "    * Retorne o número inteiro criptografado.\n"
      ]
    },
    {
      "cell_type": "code",
      "metadata": {
        "id": "OkWmuttNDHou",
        "colab_type": "code",
        "colab": {}
      },
      "source": [
        ""
      ],
      "execution_count": 0,
      "outputs": []
    }
  ]
}