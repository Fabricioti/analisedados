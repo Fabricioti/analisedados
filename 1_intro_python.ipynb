{
  "nbformat": 4,
  "nbformat_minor": 0,
  "metadata": {
    "kernelspec": {
      "display_name": "Python 3",
      "language": "python",
      "name": "python3"
    },
    "language_info": {
      "codemirror_mode": {
        "name": "ipython",
        "version": 3
      },
      "file_extension": ".py",
      "mimetype": "text/x-python",
      "name": "python",
      "nbconvert_exporter": "python",
      "pygments_lexer": "ipython3",
      "version": "3.7.4"
    },
    "colab": {
      "name": "1_intro_python.ipynb",
      "provenance": [],
      "collapsed_sections": []
    }
  },
  "cells": [
    {
      "cell_type": "markdown",
      "metadata": {
        "id": "CBhJTVuHz3Ml",
        "colab_type": "text"
      },
      "source": [
        "# Bem-Vindo ao Mundo Python!"
      ]
    },
    {
      "cell_type": "markdown",
      "metadata": {
        "id": "j50To1z9z3Mp",
        "colab_type": "text"
      },
      "source": [
        "## Variáveis e Tipos\n",
        "* Variáveis são **Locais de Memória**;\n",
        "* Os nomes de variáveis devem ser **mnemônicos**, ou seja, de **fácil memorização**;\n",
        "* Variáveis em Python são **\"Case-sensitive\"** e devem escritas com letras minúsculas, sem qualquer tipo de acentuação gráfica;\n",
        "* Nomes compostos de variáveis devem ser separados por subtraço, por exemplo: nome_variavel_composta;\n",
        "* Python é uma linguagem *dinamicamente tipada*, logo, não informamos o tipo de dados durante a declaração de cada variável;\n",
        "\n",
        "### Tipos de Dados Padrão\n",
        "Os tipos de dados primitivos do Python podem ser classificados como: numéricos, sequências, conjuntos e mapeamentos.\n",
        "\n",
        "*Tipos Numéricos*\n",
        "\n",
        "| Nome    | Descrição                    |  Versão               |\n",
        "|:--------|:-----------------------------|:----------------------|\n",
        "| int     | Números Inteiros             | Todas                 |\n",
        "| long    | Números inteiros Longos      | Python 2.x (Somente)  |\n",
        "| float   | Números de Ponto Flutuante   | Todas                 |\n",
        "| complex | Números Complexos            | Todas                 |\n",
        "\n",
        "*Sequências*\n",
        "\n",
        "| Nome         | Descrição                                                  |  Versão               |\n",
        "|:-------------|:-----------------------------------------------------------|:----------------------|\n",
        "| str          | Cadeia de Caracteres (String)                              | Todas                 |\n",
        "| bytes        | Sequência de números inteiros no intervalo de 0 a 255      | Python 3.x (Somente)  |\n",
        "| byte array   | Semelhante ao tipo bytes, porém, mutáveis                  | Python 3.x (Somente)  |\n",
        "| list         | Lista de itens geralmente homogêneos e mutáveis            | Todas                 |\n",
        "| tuple        | Sequência de itens heterogêneos e imutáveis                | Todas                 |\n",
        "\n",
        "*Conjuntos*\n",
        "\n",
        "| Nome       | Descrição                               |  Versão                |\n",
        "|:-----------|:----------------------------------------|:-----------------------|\n",
        "| set        | coleção não ordenada de objetos únicos  | Python 2.6 ou Superior |\n",
        "| frozen set | Semelhante ao tipo set, porém, imutável | Python 2.6 ou Superior |\n",
        "\n",
        "*Mapeamentos*\n",
        "\n",
        "| Nome       | Descrição                               |  Versão                |\n",
        "|:-----------|:----------------------------------------|:-----------------------|\n",
        "| dict       | Dicionários ou Array Associativos       | Todas                  |\n",
        "\n",
        "\n",
        "#### Objetos Mutáveis X Objetos Imutáveis\n",
        "De modo geral, os tipos de dados em Python podem ser diferenciados como mutáveis e imutáveis.\n",
        "\n",
        "- **Objetos Mutáveis:** o conteúdo pode ser alterado após sua criação;\n",
        "- **Objetos Imutáveis:** o conteúdo **não pode ser alterado** após sua criação;\n",
        "\n",
        "| Tipos Mutáveis       | Tipos Imutáveis                         |\n",
        "|:---------------------|:----------------------------------------|\n",
        "| array                | int, float, complex                     |\n",
        "| bytearray            | str                                     |\n",
        "| list                 | bytes                                   |\n",
        "| set                  | tuple                                   |\n",
        "| dict                 | frozenset                               |\n",
        "| -                    | bool                                    |"
      ]
    },
    {
      "cell_type": "code",
      "metadata": {
        "id": "a6BoCPJgz3Mr",
        "colab_type": "code",
        "outputId": "df67dd2b-106a-4a0a-843a-3992bd4960ec",
        "colab": {
          "base_uri": "https://localhost:8080/",
          "height": 425
        }
      },
      "source": [
        "# CONVERSÃO DE TIPO\n",
        "# Aprendendo Conversão de Tipo Com Exemplos\n",
        "\n",
        "# Números Inteiros\n",
        "valor_int_1 = int(2.7) \n",
        "print(valor_int_1) # Saída: 2   \n",
        "\n",
        "valor_int_2 = int(-3.9)\n",
        "print(valor_int_2) # Saída: -3   \n",
        "\n",
        "valor_int_3 = int(\"2\")\n",
        "print(valor_int_3) # Saída: 2  \n",
        "\n",
        "\n",
        "# Números de Ponto Flutuante\n",
        "valor_float_1 = float(7)\n",
        "print(valor_float_1) # Saída: 7.0\n",
        "\n",
        "valor_float_2 = float(\"4.5\")\n",
        "print(valor_float_2) # Saída: 4.5\n",
        "\n",
        "valor_float_4 = float(\"2.7E-2\")\n",
        "print(valor_float_4) # Saída: 0.027\n",
        "\n",
        "valor_float_5 = float(False)\n",
        "print(valor_float_5) # Saída: 0.0\n",
        "\n",
        "valor_float_6 = float(True)\n",
        "print(valor_float_6) # Saída: 1.0\n",
        "\n",
        "\n",
        "# Cadeia de Caracteres\n",
        "valor_string_1 = str(4.5)\n",
        "print(valor_string_1) # Saída: 4.5\n",
        "\n",
        "valor_string_2 = str([1, 2, 3, 4, 5])\n",
        "print(valor_string_2) # Saída: \"[1, 2, 3, 4, 5]\"\n",
        "\n",
        "\n",
        "# Tipos Lógicos (Booleanos)\n",
        "valor_bool_1 = bool(0)\n",
        "print(valor_bool_1) # Saída: False\n",
        "\n",
        "valor_bool_2 = bool(1)\n",
        "print(valor_bool_2) # Saída: True\n",
        "\n",
        "valor_bool_3 = bool([])\n",
        "print(valor_bool_3) # Saída: False - Lista Vazia\n",
        "\n",
        "valor_bool_4 = bool([False])\n",
        "print(valor_bool_4) # Saída: True - Lista Não Vazia\n",
        "\n",
        "valor_bool_5 = bool({})\n",
        "print(valor_bool_5) # Saída: False - Dicionário Vazio, o mesmo para Tupla\n",
        "\n",
        "valor_bool_6 = bool(\"\")\n",
        "print(valor_bool_6) # Saída: False - String Vazia\n",
        "\n",
        "valor_bool_7 = bool(\" \")\n",
        "print(valor_bool_7) # Saída: True - String Não Vazia\n",
        "\n",
        "valor_bool_8 = bool(None)\n",
        "print(valor_bool_8) # Saída: False\n",
        "\n",
        "valor_bool_9 = bool(len)\n",
        "print(valor_bool_9) # Saída: True\n",
        "\n",
        "# Listas e Conjuntos\n",
        "conjunto = set([1, 2])\n",
        "lista = list(conjunto)\n",
        "print(conjunto) # Saída: {1, 2}\n",
        "print(lista)    # Saída: [1, 2]\n",
        "\n",
        "valor_lista_1 = list({0: \"Python\", 1: \"R\"}) # dict: Lista de chaves\n",
        "print(valor_lista_1) # Saída: [0, 1]\n",
        "\n",
        "tupla = tuple(lista)\n",
        "print(tupla) # Saída: (1, 2)\n",
        "\n",
        "valor_lista_2 = list(\"ABC\")\n",
        "print(valor_lista_2) # Saída: ['A', 'B', 'C']"
      ],
      "execution_count": 0,
      "outputs": [
        {
          "output_type": "stream",
          "text": [
            "2\n",
            "-3\n",
            "2\n",
            "7.0\n",
            "4.5\n",
            "0.027\n",
            "0.0\n",
            "1.0\n",
            "4.5\n",
            "[1, 2, 3, 4, 5]\n",
            "False\n",
            "True\n",
            "False\n",
            "True\n",
            "False\n",
            "False\n",
            "True\n",
            "False\n",
            "True\n",
            "{1, 2}\n",
            "[1, 2]\n",
            "[0, 1]\n",
            "(1, 2)\n",
            "['A', 'B', 'C']\n"
          ],
          "name": "stdout"
        }
      ]
    },
    {
      "cell_type": "markdown",
      "metadata": {
        "id": "gpOCFY5Mz3Mz",
        "colab_type": "text"
      },
      "source": [
        "## Exercício 1\n",
        "*Calculando o IMC*\n",
        "\n",
        "O Índice de Massa Corporal (IMC) é uma medida internacional usada para calcular se uma pessoa está em seu peso ideal.\n",
        "O cálculo do IMC é determinado pela divisão da massa do indivíduo em quilogramas pelo quadrado de sua altura em metros.\n",
        "\n",
        "\n",
        "\n",
        "$$IMC=\\frac{massa}{(altura * altura)}$$\n",
        "\n",
        "\n",
        "\n",
        "Escreva um programa que leia do usuário sua altura e peso e calcule o seu IMC.\n"
      ]
    },
    {
      "cell_type": "code",
      "metadata": {
        "id": "dG9VvT7Kz3M1",
        "colab_type": "code",
        "outputId": "5768fd92-8b22-4bf9-de75-ae6befc9c199",
        "colab": {
          "base_uri": "https://localhost:8080/",
          "height": 85
        }
      },
      "source": [
        "# TODO: Complete o Código Abaixo\n",
        "\n",
        "\n",
        "altura = float(input(\"altura em metros:\"))\n",
        "peso = float(input(\"peso em Kg:\"))\n",
        " \n",
        "imc = peso / altura**2\n",
        " \n",
        "print(\"Seu IMC é: %.4f\" % imc)\n",
        " \n",
        "if imc < 16:\n",
        "\tprint(\"Magreza Alta\")\n",
        "elif imc < 17:\n",
        "\tprint(\"Magreza moderada\")\n",
        "elif imc < 18.5:\n",
        "\tprint(\"Magreza leve\")\n",
        "elif imc < 25:\n",
        "\tprint(\"Saudável\")\n",
        "elif imc < 30:\n",
        "\tprint(\"Sobrepeso\")\n",
        "elif imc < 35:\n",
        "\tprint(\"Obesidade Nível I\")\n",
        "elif imc < 40:\n",
        "\tprint(\"Obesidade Nível II (severa)\")\n",
        "else:\n",
        "\tprint(\"Obesidade Nível III (mórbida)\")\n"
      ],
      "execution_count": 0,
      "outputs": [
        {
          "output_type": "stream",
          "text": [
            "altura em metros:1.85\n",
            "peso em Kg:95\n",
            "Seu IMC é: 27.7575\n",
            "Sobrepeso\n"
          ],
          "name": "stdout"
        }
      ]
    },
    {
      "cell_type": "markdown",
      "metadata": {
        "id": "ClyvAxuvz3M8",
        "colab_type": "text"
      },
      "source": [
        "## Operadores\n",
        "\n",
        "*Operadores Numéricos*\n",
        "\n",
        "| Operador | Descrição       |\n",
        "|:---------|:----------------|\n",
        "| +        | Adição          |\n",
        "| -        | Subtração       |\n",
        "| *        | Multiplicação   |\n",
        "| /        | Divisão         |\n",
        "| **       | Expoente        |\n",
        "| %        | Módulo          |\n",
        "| //       | Divisão de Piso |\n",
        "\n",
        "\n",
        "*Operadores de Comparação*\n",
        "\n",
        "| Operador | Descrição       |\n",
        "|:---------|:----------------|\n",
        "| ==       | Igual           |\n",
        "| !=       | Diferente       |\n",
        "| >        | Maior           |\n",
        "| <        | Menor           |\n",
        "| >=       | Maior Igual     |\n",
        "| <=       | Menor Igual     |\n",
        "\n",
        "\n",
        "*Operadores Lógicos*\n",
        "\n",
        "| Operador | Descrição       |\n",
        "|:---------|:----------------|\n",
        "| and      | AND lógico      |\n",
        "| or       | OR lógico       |\n",
        "| not      | NOT lógico      |\n",
        "\n",
        "*Caracteres Especiais*\n",
        "\n",
        "| Operador | Descrição       |\n",
        "|:---------|:----------------|\n",
        "| #        | Comentário      |\n",
        "| \\n       | Nova Linha      |\n"
      ]
    },
    {
      "cell_type": "markdown",
      "metadata": {
        "id": "x6E048upz3M-",
        "colab_type": "text"
      },
      "source": [
        "## Exercícios"
      ]
    },
    {
      "cell_type": "markdown",
      "metadata": {
        "id": "8VrFQz9-z3M_",
        "colab_type": "text"
      },
      "source": [
        "1. Escreva um algoritmo que imprima na tela: Olá Mundo!"
      ]
    },
    {
      "cell_type": "code",
      "metadata": {
        "id": "akibHj61z3NA",
        "colab_type": "code",
        "outputId": "bc090c4a-4d1b-44d6-c0bb-43b3fbded888",
        "colab": {
          "base_uri": "https://localhost:8080/",
          "height": 34
        }
      },
      "source": [
        "print (\"hello world\") "
      ],
      "execution_count": 0,
      "outputs": [
        {
          "output_type": "stream",
          "text": [
            "hello world\n"
          ],
          "name": "stdout"
        }
      ]
    },
    {
      "cell_type": "markdown",
      "metadata": {
        "id": "60pIiNYAz3ND",
        "colab_type": "text"
      },
      "source": [
        "2. Escreva um programa que imprima seu nome na tela."
      ]
    },
    {
      "cell_type": "code",
      "metadata": {
        "id": "vvYhpmvgz3NF",
        "colab_type": "code",
        "outputId": "a045783b-f367-4523-bd30-482d4df62b55",
        "colab": {
          "base_uri": "https://localhost:8080/",
          "height": 34
        }
      },
      "source": [
        "print (\"Ângelo Suriani Ferreira\")"
      ],
      "execution_count": 0,
      "outputs": [
        {
          "output_type": "stream",
          "text": [
            "Ângelo Suriani Ferreira\n"
          ],
          "name": "stdout"
        }
      ]
    },
    {
      "cell_type": "markdown",
      "metadata": {
        "id": "-YSMLzxcz3NJ",
        "colab_type": "text"
      },
      "source": [
        "3. O que o código a seguir imprime?\n",
        "\n",
        "```python\n",
        "print(\"*\\n**\\n***\\n****\\n*****\")\n",
        "```"
      ]
    },
    {
      "cell_type": "code",
      "metadata": {
        "id": "IVpy0Wuxz3NK",
        "colab_type": "code",
        "outputId": "4375fb0e-644a-4088-939d-38a3f35f6a4d",
        "colab": {
          "base_uri": "https://localhost:8080/",
          "height": 102
        }
      },
      "source": [
        "print(\"*\\n**\\n***\\n****\\n*****\")"
      ],
      "execution_count": 0,
      "outputs": [
        {
          "output_type": "stream",
          "text": [
            "*\n",
            "**\n",
            "***\n",
            "****\n",
            "*****\n"
          ],
          "name": "stdout"
        }
      ]
    },
    {
      "cell_type": "markdown",
      "metadata": {
        "id": "uNYZjVWWz3NN",
        "colab_type": "text"
      },
      "source": [
        "4. O que aparece na janela do console, quando cada uma das instruções abaixo são executadas, para: x = 2 e y = 3? Execute cada uma das linhas abaixos e, se necessário, faça os devidos ajustes no código.\n",
        "    1. *print(“x = ” + x);*\n",
        "    2. *print(“O valor de x + x é ” + (x + x));*\n",
        "    3. *print(“x = ”);*\n",
        "    4. *print((x + y) + “ = “ + (y + x));*\n"
      ]
    },
    {
      "cell_type": "code",
      "metadata": {
        "id": "x1R8MSNFz3NO",
        "colab_type": "code",
        "outputId": "f551867d-ee74-4c2e-9ef9-7b67ba5cb7c4",
        "colab": {
          "base_uri": "https://localhost:8080/",
          "height": 119
        }
      },
      "source": [
        "x = int(input(\"Valor de X:\"))\n",
        "y = int(input(\"Valor de Y:\"))\n",
        "print(\"X=\",x)\n",
        "\n",
        "print(\"O valor de x + x é:\", x+x)\n",
        "\n",
        "print(\"X=\", x)\n",
        "\n",
        "print(\"(x + y) + (y + x)=\" ,(x+y) + (y+x))\n"
      ],
      "execution_count": 0,
      "outputs": [
        {
          "output_type": "stream",
          "text": [
            "Valor de X:5\n",
            "Valor de Y:3\n",
            "X= 5\n",
            "O valor de x + x é: 10\n",
            "X= 5\n",
            "(x + y) + (y + x)= 16\n"
          ],
          "name": "stdout"
        }
      ]
    },
    {
      "cell_type": "markdown",
      "metadata": {
        "id": "0xfOEloUz3NR",
        "colab_type": "text"
      },
      "source": [
        "5. Escreva um algoritmo que imprima na tela a seguinte mensagem:\n",
        "\n",
        "> A programação é aprendida escrevendo programas - \n",
        "> Brian Kernighan\n"
      ]
    },
    {
      "cell_type": "code",
      "metadata": {
        "id": "yck69Vq0z3NS",
        "colab_type": "code",
        "outputId": "490874ee-2310-4079-b0e3-960111f42777",
        "colab": {
          "base_uri": "https://localhost:8080/",
          "height": 34
        }
      },
      "source": [
        "print(\"A programação é aprendida escrevendo programas - Brian Kernighan\")"
      ],
      "execution_count": 0,
      "outputs": [
        {
          "output_type": "stream",
          "text": [
            "A programação é aprendida escrevendo programas - Brian Kernighan\n"
          ],
          "name": "stdout"
        }
      ]
    },
    {
      "cell_type": "markdown",
      "metadata": {
        "id": "Tf-DdYy7z3NW",
        "colab_type": "text"
      },
      "source": [
        "6. Crie um algoritmo que imprima o produto entre os números 25 e 27"
      ]
    },
    {
      "cell_type": "code",
      "metadata": {
        "id": "ff61CHlFz3NX",
        "colab_type": "code",
        "outputId": "8e76d439-1f4f-4368-9560-4174ff44cd17",
        "colab": {
          "base_uri": "https://localhost:8080/",
          "height": 51
        }
      },
      "source": [
        "print(\"resultado do produto=\")\n",
        "print(25*27)"
      ],
      "execution_count": 0,
      "outputs": [
        {
          "output_type": "stream",
          "text": [
            "resultado do produto=\n",
            "675\n"
          ],
          "name": "stdout"
        }
      ]
    },
    {
      "cell_type": "markdown",
      "metadata": {
        "id": "3F4B5IQkz3Nc",
        "colab_type": "text"
      },
      "source": [
        "7. Crie um algoritmo que imprima a média aritmética entre os números 4, 12, 15."
      ]
    },
    {
      "cell_type": "code",
      "metadata": {
        "id": "FtBDjg0Hz3Nd",
        "colab_type": "code",
        "outputId": "d41b38ae-21aa-4d80-feed-08fcbd845282",
        "colab": {
          "base_uri": "https://localhost:8080/",
          "height": 34
        }
      },
      "source": [
        "print((4+12+15)/3)"
      ],
      "execution_count": 0,
      "outputs": [
        {
          "output_type": "stream",
          "text": [
            "10.333333333333334\n"
          ],
          "name": "stdout"
        }
      ]
    },
    {
      "cell_type": "markdown",
      "metadata": {
        "id": "8KMF6KOoz3Nf",
        "colab_type": "text"
      },
      "source": [
        "8. Faça um programa que leia um número inteiro e mostre-o na tela da seguinte forma: \n",
        "\n",
        "> O número inteiro digitado foi 4."
      ]
    },
    {
      "cell_type": "code",
      "metadata": {
        "id": "E0DuEr45z3Ng",
        "colab_type": "code",
        "outputId": "fe97e457-e122-46da-d2f6-fa495bfaffa8",
        "colab": {
          "base_uri": "https://localhost:8080/",
          "height": 68
        }
      },
      "source": [
        "x = int(input(\"Digite um Número Inteiro:\"))\n",
        "print(\"O número inteiro digitado foi:\")\n",
        "print(x)"
      ],
      "execution_count": 0,
      "outputs": [
        {
          "output_type": "stream",
          "text": [
            "Digite um Número Inteiro:4\n",
            "O número inteiro digitado foi:\n",
            "4\n"
          ],
          "name": "stdout"
        }
      ]
    },
    {
      "cell_type": "markdown",
      "metadata": {
        "id": "RtK6QNoxz3Ni",
        "colab_type": "text"
      },
      "source": [
        "9. Faça um programa que leia e imprima dois números inteiros na tela."
      ]
    },
    {
      "cell_type": "code",
      "metadata": {
        "id": "6Lap3SRMz3Nj",
        "colab_type": "code",
        "outputId": "944963c8-6789-443d-ef68-31ac1a1882a7",
        "colab": {
          "base_uri": "https://localhost:8080/",
          "height": 85
        }
      },
      "source": [
        "n1 = int(input(\"Insira o primeiro valor:\"))\n",
        "n2 = int(input(\"Insira o segundo valor:\"))\n",
        "print(n1)\n",
        "print(n2)"
      ],
      "execution_count": 0,
      "outputs": [
        {
          "output_type": "stream",
          "text": [
            "Insira o primeiro valor:5\n",
            "Insira o segundo valor:3\n",
            "5\n",
            "3\n"
          ],
          "name": "stdout"
        }
      ]
    },
    {
      "cell_type": "markdown",
      "metadata": {
        "id": "0AAhQ81Mz3Nm",
        "colab_type": "text"
      },
      "source": [
        "10. Faça um programa que leia um número inteiro e imprima seu número sucessor e antecessor."
      ]
    },
    {
      "cell_type": "code",
      "metadata": {
        "id": "nkYXOorZz3Nn",
        "colab_type": "code",
        "outputId": "9a6ee4e4-ad71-4ae9-c00f-56e462a6de81",
        "colab": {
          "base_uri": "https://localhost:8080/",
          "height": 68
        }
      },
      "source": [
        "n1 = int(input(\"Insira o valor:\"))\n",
        "print ('Sucessor:',n1+1)\n",
        "print ('Antecessor:',n1-1)"
      ],
      "execution_count": 0,
      "outputs": [
        {
          "output_type": "stream",
          "text": [
            "Insira o valor:5\n",
            "Sucessor: 6\n",
            "Antecessor: 4\n"
          ],
          "name": "stdout"
        }
      ]
    },
    {
      "cell_type": "markdown",
      "metadata": {
        "id": "BE5Rzf3kz3Np",
        "colab_type": "text"
      },
      "source": [
        "11. Faça um programa que leia o nome, endereço e telefone de um usuário e imprima na tela."
      ]
    },
    {
      "cell_type": "code",
      "metadata": {
        "id": "xoa7Cj5Jz3Nq",
        "colab_type": "code",
        "outputId": "3d721313-2d77-4f08-dac1-9b3f3849bba9",
        "colab": {
          "base_uri": "https://localhost:8080/",
          "height": 119
        }
      },
      "source": [
        "nome = str(input(\"Insira seu nome:\"))\n",
        "endereco = str(input(\"Insira seu endereço:\"))\n",
        "telefone = int(input(\"Insira seu telefone:\"))\n",
        "print ('Seu nome é:',nome)\n",
        "print ('Seu endereço é:',endereco)\n",
        "print ('Seu telefone é:',telefone)\n"
      ],
      "execution_count": 0,
      "outputs": [
        {
          "output_type": "stream",
          "text": [
            "Insira seu nome:Angelo\n",
            "Insira seu endereço:rua paramirim\n",
            "Insira seu telefone:3133815327\n",
            "Seu nome é: Angelo\n",
            "Seu endereço é: rua paramirim\n",
            "Seu telefone é: 3133815327\n"
          ],
          "name": "stdout"
        }
      ]
    },
    {
      "cell_type": "markdown",
      "metadata": {
        "id": "JXsffbnnz3Ns",
        "colab_type": "text"
      },
      "source": [
        "12. Faça um programa que leia e multiplique dois números inteiros."
      ]
    },
    {
      "cell_type": "code",
      "metadata": {
        "id": "RknnpXe5z3Nt",
        "colab_type": "code",
        "outputId": "f25a2a5a-5f00-4aaa-b274-d274528cfc90",
        "colab": {
          "base_uri": "https://localhost:8080/",
          "height": 68
        }
      },
      "source": [
        "n1 = int(input(\"Insira um número inteiro:\"))\n",
        "n2 = int(input(\"Insira um número inteiro:\"))\n",
        "print ('A multiplacação dos valores é:', n1*n2)"
      ],
      "execution_count": 0,
      "outputs": [
        {
          "output_type": "stream",
          "text": [
            "Insira um número inteiro:8\n",
            "Insira um número inteiro:7\n",
            "A multiplacação dos valores é: 56\n"
          ],
          "name": "stdout"
        }
      ]
    },
    {
      "cell_type": "markdown",
      "metadata": {
        "id": "BgnVFsGmz3Nv",
        "colab_type": "text"
      },
      "source": [
        "13. Faça um programa que leia um número real e imprima a terça parte deste número."
      ]
    },
    {
      "cell_type": "code",
      "metadata": {
        "id": "dQoFIsTpz3Nw",
        "colab_type": "code",
        "outputId": "516552f7-4200-490f-a33e-893ea5e8bf5d",
        "colab": {
          "base_uri": "https://localhost:8080/",
          "height": 51
        }
      },
      "source": [
        "n1 = float(input(\"Insira um número real:\"))\n",
        "print ('A terça parte deste número é:', n1/3)\n"
      ],
      "execution_count": 0,
      "outputs": [
        {
          "output_type": "stream",
          "text": [
            "Insira um número real:76.5\n",
            "A terça parte deste número é: 25.5\n"
          ],
          "name": "stdout"
        }
      ]
    },
    {
      "cell_type": "markdown",
      "metadata": {
        "id": "bMS9VaxRz3Ny",
        "colab_type": "text"
      },
      "source": [
        "14. Faça um programa que leia dois números inteiros e imprima o dividendo, divisor, quociente e resto da divisão"
      ]
    },
    {
      "cell_type": "code",
      "metadata": {
        "id": "z02_ZhZdz3Nz",
        "colab_type": "code",
        "outputId": "1afaf6bb-8a79-428a-9748-affbf0bd0d94",
        "colab": {
          "base_uri": "https://localhost:8080/",
          "height": 119
        }
      },
      "source": [
        "n1 = int(input(\"Insira um número inteiro:\"))\n",
        "n2 = int(input(\"Insira um número inteiro:\"))\n",
        "print ('O dividendo é:', n1)\n",
        "print ('O divisor é:', n2)\n",
        "print ('O quociente é:', n1/n2)\n",
        "print ('O resto da divisão é:',n1%n2)"
      ],
      "execution_count": 0,
      "outputs": [
        {
          "output_type": "stream",
          "text": [
            "Insira um número inteiro:27\n",
            "Insira um número inteiro:4\n",
            "O dividendo é: 27\n",
            "O divisor é: 4\n",
            "O quociente é: 6.75\n",
            "O resto da divisão é: 3\n"
          ],
          "name": "stdout"
        }
      ]
    },
    {
      "cell_type": "markdown",
      "metadata": {
        "id": "q6V13mY6z3N1",
        "colab_type": "text"
      },
      "source": [
        "15. Escreva um programa que solicite do usuário dois números, e imprima o resultado da soma, subtração, multiplicação e divisão."
      ]
    },
    {
      "cell_type": "code",
      "metadata": {
        "id": "3IQPnyiVz3N2",
        "colab_type": "code",
        "outputId": "42072c41-174e-4d93-a181-59366ac1b33e",
        "colab": {
          "base_uri": "https://localhost:8080/",
          "height": 119
        }
      },
      "source": [
        "n1 = int(input(\"Insira um número inteiro:\"))\n",
        "n2 = int(input(\"Insira um número inteiro:\"))\n",
        "print ('A soma é:', n1+n2)\n",
        "print ('A subtração é:', n1-n2)\n",
        "print ('A Multiplicação é:', n1*n2)\n",
        "print ('A Divisão é:',n1/n2)"
      ],
      "execution_count": 0,
      "outputs": [
        {
          "output_type": "stream",
          "text": [
            "Insira um número inteiro:150\n",
            "Insira um número inteiro:242\n",
            "A soma é: 392\n",
            "A subtração é: -92\n",
            "A Multiplicação é: 36300\n",
            "A Divisão é: 0.6198347107438017\n"
          ],
          "name": "stdout"
        }
      ]
    },
    {
      "cell_type": "markdown",
      "metadata": {
        "id": "pjdQ-hiLz3N5",
        "colab_type": "text"
      },
      "source": [
        "16. Faça um programa que leia quatro números inteiros, calcule e mostre a soma desses números."
      ]
    },
    {
      "cell_type": "code",
      "metadata": {
        "id": "-2QPWKuWz3N5",
        "colab_type": "code",
        "outputId": "b81b88b7-ac97-4095-f3c6-5f834f6d7655",
        "colab": {
          "base_uri": "https://localhost:8080/",
          "height": 102
        }
      },
      "source": [
        "n1 = int(input(\"Insira um número :\"))\n",
        "n2 = int(input(\"Insira um número :\"))\n",
        "n3 = int(input(\"Insira um número :\"))\n",
        "n4 = int(input(\"Insira um número :\"))\n",
        "print ('A soma dos números é:', n1+n2+n3+n4)"
      ],
      "execution_count": 0,
      "outputs": [
        {
          "output_type": "stream",
          "text": [
            "Insira um número :5\n",
            "Insira um número :6\n",
            "Insira um número :7\n",
            "Insira um número :8\n",
            "A soma dos números é: 26\n"
          ],
          "name": "stdout"
        }
      ]
    },
    {
      "cell_type": "markdown",
      "metadata": {
        "id": "D1d5urZcz3N8",
        "colab_type": "text"
      },
      "source": [
        "17. Faça um programa que receba três notas, calcule e mostre a média aritmética."
      ]
    },
    {
      "cell_type": "code",
      "metadata": {
        "id": "R2nvTxVEz3N8",
        "colab_type": "code",
        "outputId": "6218ea2e-1263-45aa-e811-efc90a299cd8",
        "colab": {
          "base_uri": "https://localhost:8080/",
          "height": 85
        }
      },
      "source": [
        "n1 = int(input(\"Insira uma nota :\"))\n",
        "n2 = int(input(\"Insira uma nota :\"))\n",
        "n3 = int(input(\"Insira uma nota :\"))\n",
        "print ('A média das notas é:', (n1+n2+n3)/3)"
      ],
      "execution_count": 0,
      "outputs": [
        {
          "output_type": "stream",
          "text": [
            "Insira uma nota :9\n",
            "Insira uma nota :4\n",
            "Insira uma nota :8\n",
            "A média das notas é: 7.0\n"
          ],
          "name": "stdout"
        }
      ]
    },
    {
      "cell_type": "markdown",
      "metadata": {
        "id": "gkyaKqcmz3N_",
        "colab_type": "text"
      },
      "source": [
        "18. Faça um programa que receba três notas e seus respectivos pesos, calcule e mostre a média ponderada."
      ]
    },
    {
      "cell_type": "code",
      "metadata": {
        "id": "99p6Q4VYz3N_",
        "colab_type": "code",
        "outputId": "3ca4b875-1ba8-49f7-d7e2-e36d55f11a35",
        "colab": {
          "base_uri": "https://localhost:8080/",
          "height": 136
        }
      },
      "source": [
        "n1 = int(input(\"Insira uma nota :\"))\n",
        "p1 = int(input(\"Informe seu peso :\"))\n",
        "n2 = int(input(\"Insira uma nota :\"))\n",
        "p2 = int(input(\"Informe seu peso :\"))\n",
        "n3 = int(input(\"Insira uma nota :\"))\n",
        "p3 = int(input(\"Informe seu peso :\"))\n",
        "print ('A média ponderada é:', ((n1*p1+n2*p2+n3*p3)/(p1+p2+p3)))"
      ],
      "execution_count": 0,
      "outputs": [
        {
          "output_type": "stream",
          "text": [
            "Insira uma nota :8\n",
            "Informe seu peso :1\n",
            "Insira uma nota :9\n",
            "Informe seu peso :2\n",
            "Insira uma nota :10\n",
            "Informe seu peso :3\n",
            "A média ponderada é: 9.333333333333334\n"
          ],
          "name": "stdout"
        }
      ]
    },
    {
      "cell_type": "markdown",
      "metadata": {
        "id": "pJWHauByz3OC",
        "colab_type": "text"
      },
      "source": [
        "19. Faça um programa que receba o salário de um funcionário, calcule e mostre o novo salário, sabendo-se que este sofreu um aumento de 25%."
      ]
    },
    {
      "cell_type": "code",
      "metadata": {
        "id": "77Y2aynpz3OC",
        "colab_type": "code",
        "outputId": "c2920ee9-e1ce-4bc1-e4df-398d73ae66ad",
        "colab": {
          "base_uri": "https://localhost:8080/",
          "height": 51
        }
      },
      "source": [
        "salario = float(input(\"Insira o salário :\"))\n",
        "print ('O novo salarío é:',salario*0.25+salario)"
      ],
      "execution_count": 0,
      "outputs": [
        {
          "output_type": "stream",
          "text": [
            "Insira o salário :1000\n",
            "O novo salarío é: 1250.0\n"
          ],
          "name": "stdout"
        }
      ]
    },
    {
      "cell_type": "markdown",
      "metadata": {
        "id": "N0pFGFt5z3OF",
        "colab_type": "text"
      },
      "source": [
        "20. Faça um programa que receba o salário de um funcionário e o percentual de aumento, calcule e mostre o valor do aumento e o novo salário. "
      ]
    },
    {
      "cell_type": "code",
      "metadata": {
        "id": "UsHOgQYvz3OG",
        "colab_type": "code",
        "outputId": "03145f67-961a-4b49-891b-11c75f1bb444",
        "colab": {
          "base_uri": "https://localhost:8080/",
          "height": 85
        }
      },
      "source": [
        "salario = float(input(\"Insira o salário :\"))\n",
        "aumento = float(input(\"Informe o percentual de aumento :\"))\n",
        "print ('O aumento é:',aumento/100,'%')\n",
        "print ('O novo salarío é:',salario*aumento/100+salario)"
      ],
      "execution_count": 0,
      "outputs": [
        {
          "output_type": "stream",
          "text": [
            "Insira o salário :1000\n",
            "Informe o percentual de aumento :25\n",
            "O aumento é: 0.25 %\n",
            "O novo salarío é: 1250.0\n"
          ],
          "name": "stdout"
        }
      ]
    },
    {
      "cell_type": "markdown",
      "metadata": {
        "id": "g4QEbUqaz3OI",
        "colab_type": "text"
      },
      "source": [
        "21. Faça um programa que receba o salário base de um funcionário, calcule e mostre o salário a receber, sabendo-se que o funcionário tem gratificação de 5% sobre o salário base e paga imposto de 7% também sobre o salário base."
      ]
    },
    {
      "cell_type": "code",
      "metadata": {
        "id": "4NhaWsgUz3OJ",
        "colab_type": "code",
        "outputId": "1f3eafe5-321e-4662-efc9-a2adc92369b0",
        "colab": {
          "base_uri": "https://localhost:8080/",
          "height": 51
        }
      },
      "source": [
        "salario = float(input(\"Insira o salário :\"))\n",
        "bonificacao = salario*0.05+salario\n",
        "print ('O salário a receber é:', bonificacao-bonificacao*0.07)"
      ],
      "execution_count": 0,
      "outputs": [
        {
          "output_type": "stream",
          "text": [
            "Insira o salário :1000\n",
            "O salário a receber é: 976.5\n"
          ],
          "name": "stdout"
        }
      ]
    },
    {
      "cell_type": "markdown",
      "metadata": {
        "id": "BnZXAXoHz3OL",
        "colab_type": "text"
      },
      "source": [
        "22. Faça um programa que receba o salário base de um funcionário, calcule e mostre seu salário a receber, sabendo-se que o funcionário tem gratificação de R$ 50,00 e paga imposto de 10% sobre o salário base."
      ]
    },
    {
      "cell_type": "code",
      "metadata": {
        "id": "eJbWBgUGz3OM",
        "colab_type": "code",
        "outputId": "60be7969-a00d-4e2a-f4fe-c8ced2d0aa28",
        "colab": {
          "base_uri": "https://localhost:8080/",
          "height": 51
        }
      },
      "source": [
        "salario = float(input(\"Insira o salário :\"))\n",
        "bonificacao = salario+50\n",
        "print ('O salário a receber é:', bonificacao-bonificacao*0.10)"
      ],
      "execution_count": 0,
      "outputs": [
        {
          "output_type": "stream",
          "text": [
            "Insira o salário :1000\n",
            "O salário a receber é: 945.0\n"
          ],
          "name": "stdout"
        }
      ]
    },
    {
      "cell_type": "markdown",
      "metadata": {
        "id": "T4eVpO6lz3OQ",
        "colab_type": "text"
      },
      "source": [
        "23. Faça um programa que receba o valor de um depósito e o valor da taxa de juros, calcule e mostre o valor do rendimento e o valor total depois do rendimento."
      ]
    },
    {
      "cell_type": "code",
      "metadata": {
        "id": "CyI_Tmkzz3OR",
        "colab_type": "code",
        "colab": {
          "base_uri": "https://localhost:8080/",
          "height": 85
        },
        "outputId": "87db21bb-1ccb-4b92-c34a-6246b3194a50"
      },
      "source": [
        "deposito = float(input(\"Insira o deposito :\"))\n",
        "taxa = float(input(\"Insira o valor da taxa de juros :\"))\n",
        "juros = taxa/100\n",
        "print ('O rendimento é de:',juros,'%' )\n",
        "print ('O rendimento total é de:',juros*deposito+deposito )\n"
      ],
      "execution_count": 7,
      "outputs": [
        {
          "output_type": "stream",
          "text": [
            "Insira o deposito :1000\n",
            "Insira o valor da taxa de juros :5\n",
            "O rendimento é de: 0.05 %\n",
            "O rendimento total é de: 1050.0\n"
          ],
          "name": "stdout"
        }
      ]
    },
    {
      "cell_type": "markdown",
      "metadata": {
        "id": "F-qXYL5Uz3OT",
        "colab_type": "text"
      },
      "source": [
        "24. Faça um programa que calcule e mostre a área de um triângulo. Sabe-se que: \n",
        "> Área = (base * altura) / 2."
      ]
    },
    {
      "cell_type": "code",
      "metadata": {
        "id": "yfALYaOYz3OU",
        "colab_type": "code",
        "colab": {
          "base_uri": "https://localhost:8080/",
          "height": 68
        },
        "outputId": "90ee9dfc-1800-4f89-c295-cf0ad1dce0f0"
      },
      "source": [
        "base = int(input(\"Insira o valor da base :\"))\n",
        "altura = int(input(\"Insira o valor da altura :\"))\n",
        "area = base*altura/2 \n",
        "print  ('A área do triangulo é:',area)"
      ],
      "execution_count": 16,
      "outputs": [
        {
          "output_type": "stream",
          "text": [
            "Insira o valor da base :5\n",
            "Insira o valor da altura :10\n",
            "A área do triangulo é: 25.0\n"
          ],
          "name": "stdout"
        }
      ]
    },
    {
      "cell_type": "markdown",
      "metadata": {
        "id": "yeefLuz7z3OX",
        "colab_type": "text"
      },
      "source": [
        "25. Escreva um programa que receba como entrada o raio de um círculo e imprima o diâmetro, a circunferência e a área. Para isso, utilize as fórmulas: diâmetro = 2r; circunferência = 2πr, área = πr²."
      ]
    },
    {
      "cell_type": "code",
      "metadata": {
        "id": "QNe_Op3xz3OX",
        "colab_type": "code",
        "colab": {
          "base_uri": "https://localhost:8080/",
          "height": 85
        },
        "outputId": "770b0e07-c758-404a-fd3c-979320db78e0"
      },
      "source": [
        "raio = int(input(\"Insira o valor do raio :\"))\n",
        "print ('o Diâmetro é:',raio*2)\n",
        "print ('A circunferencia é:', 2*3,14*raio)\n",
        "print ('A área é:',3,14*(raio*raio))"
      ],
      "execution_count": 27,
      "outputs": [
        {
          "output_type": "stream",
          "text": [
            "Insira o valor do raio :10\n",
            "o Diâmetro é: 20\n",
            "A circunferencia é: 6 140\n",
            "A área é: 3 1400\n"
          ],
          "name": "stdout"
        }
      ]
    },
    {
      "cell_type": "markdown",
      "metadata": {
        "id": "mfQ3GRMFz3OZ",
        "colab_type": "text"
      },
      "source": [
        "26. Faça um programa que receba um número positivo e maior que zero, calcule e mostre:\n",
        "    1. o número digitado ao quadrado;\n",
        "    2. o número digitado ao cubo;\n",
        "    3. a raiz quadrada do número digitado.\n"
      ]
    },
    {
      "cell_type": "code",
      "metadata": {
        "id": "4kyHsxRgz3Oa",
        "colab_type": "code",
        "colab": {
          "base_uri": "https://localhost:8080/",
          "height": 85
        },
        "outputId": "8137cb37-4b0f-4ffe-9ed2-d47347f6fd3a"
      },
      "source": [
        "n = int(input(\"Insira um numero positivo>0 :\"))\n",
        "print ('O número ao quadrado é:', n*n )\n",
        "print ('O número ao cubo é:', n*n*n )\n",
        "print ('A raiz quadrada é:', n ** (1/2))\n",
        "\n"
      ],
      "execution_count": 28,
      "outputs": [
        {
          "output_type": "stream",
          "text": [
            "Insira um numero positivo>0 :25\n",
            "O número ao quadrado é: 625\n",
            "O número ao cubo é: 15625\n",
            "A raiz quadrada é: 5.0\n"
          ],
          "name": "stdout"
        }
      ]
    },
    {
      "cell_type": "markdown",
      "metadata": {
        "id": "xswQcDwRz3Ob",
        "colab_type": "text"
      },
      "source": [
        "27. Faça um programa que receba dois números maiores que zero, calcule e mostre um elevado ao outro."
      ]
    },
    {
      "cell_type": "code",
      "metadata": {
        "id": "3Nzc1eXCz3Od",
        "colab_type": "code",
        "colab": {
          "base_uri": "https://localhost:8080/",
          "height": 68
        },
        "outputId": "822b0a1c-382e-42e3-dc8e-7181b0bcdb7e"
      },
      "source": [
        "n1 = int(input(\"Insira um numero positivo>0 :\"))\n",
        "n2 = int(input(\"Insira um numero positivo>0 :\"))\n",
        "print ('A potencia é:', n1 ** n2)\n",
        "\n"
      ],
      "execution_count": 31,
      "outputs": [
        {
          "output_type": "stream",
          "text": [
            "Insira um numero positivo>0 :2\n",
            "Insira um numero positivo>0 :5\n",
            "A potencia é: 32\n"
          ],
          "name": "stdout"
        }
      ]
    },
    {
      "cell_type": "markdown",
      "metadata": {
        "id": "RRn9F9huz3Of",
        "colab_type": "text"
      },
      "source": [
        "28. Sabe-se que: pé = 12 polegadas; 1 jarda = 3 pés e 1 milha = 1,760 jarda. Faça um programa que receba uma medida em pés, faça as conversões a seguir e mostre os resultados.\n",
        "    1. polegadas;\n",
        "    2. jardas;\n",
        "    3. milhas.\n"
      ]
    },
    {
      "cell_type": "code",
      "metadata": {
        "id": "cCAXF5aRz3Of",
        "colab_type": "code",
        "colab": {
          "base_uri": "https://localhost:8080/",
          "height": 85
        },
        "outputId": "b50bf973-7df7-454f-fc36-6be9c300716e"
      },
      "source": [
        "pes = int(input(\"Insira a medida em pes :\"))\n",
        "jarda = pes/3\n",
        "print ('A medida em polegadas é:', pes*12 )\n",
        "print ('A medida em jardas é:', jarda )\n",
        "print ('A medida em milhas é:', jarda/1,760 )\n",
        "\n"
      ],
      "execution_count": 39,
      "outputs": [
        {
          "output_type": "stream",
          "text": [
            "Insira a medida em pes :10\n",
            "A medida em polegadas é: 120\n",
            "A medida em jardas é: 3.3333333333333335\n",
            "A medida em milhas é: 3.3333333333333335 760\n"
          ],
          "name": "stdout"
        }
      ]
    },
    {
      "cell_type": "markdown",
      "metadata": {
        "id": "ZvnLYEH1z3Oh",
        "colab_type": "text"
      },
      "source": [
        "29. Escreva um programa que receba como entrada um número de 5 dígitos, separe \n",
        "o número em dígitos individuais e os imprima separados por 3 espaços cada um. Por exemplo, se o usuário digitar 42339, o programa deverá imprimir: 4    2    3    3.   Dica: utilize as operações de divisão e módulo para extrair cada dígito do número.\n",
        "\n",
        "> Indented block\n",
        "\n"
      ]
    },
    {
      "cell_type": "code",
      "metadata": {
        "id": "qBlpuppWz3Oi",
        "colab_type": "code",
        "colab": {
          "base_uri": "https://localhost:8080/",
          "height": 51
        },
        "outputId": "1969da0b-1ac2-4403-edb3-689df845ee80"
      },
      "source": [
        "n = int(input(\"Insira um numero de 5 digitos :\"))\n",
        "n1 = n/10000\n",
        "n2 = n/1000%10\n",
        "n3 = n/100%100\n",
        "n4 = n/10%1000\n",
        "n5 = n%100000\n",
        "print (n1,n2,n3,n4,n5)\n"
      ],
      "execution_count": 48,
      "outputs": [
        {
          "output_type": "stream",
          "text": [
            "Insira um numero de 5 digitos :42339\n",
            "4.2339 2.3389999999999986 23.389999999999986 233.89999999999964 42339\n"
          ],
          "name": "stdout"
        }
      ]
    }
  ]
}