{
  "nbformat": 4,
  "nbformat_minor": 0,
  "metadata": {
    "kernelspec": {
      "display_name": "Python 3",
      "language": "python",
      "name": "python3"
    },
    "language_info": {
      "codemirror_mode": {
        "name": "ipython",
        "version": 3
      },
      "file_extension": ".py",
      "mimetype": "text/x-python",
      "name": "python",
      "nbconvert_exporter": "python",
      "pygments_lexer": "ipython3",
      "version": "3.7.4"
    },
    "colab": {
      "name": "exercício_titanic_numpy_angelo.ipynb",
      "provenance": [],
      "collapsed_sections": [],
      "toc_visible": true
    }
  },
  "cells": [
    {
      "cell_type": "markdown",
      "metadata": {
        "id": "W-WR_ichRN8y",
        "colab_type": "text"
      },
      "source": [
        "![titanic](img/titanic_historical.jpg \"Pintura do Titanic\")\n",
        "\n",
        "# EXERCÍCIOS: Análise de Dados do Titanic"
      ]
    },
    {
      "cell_type": "markdown",
      "metadata": {
        "id": "sULSupKFRN8z",
        "colab_type": "text"
      },
      "source": [
        "O RMS Titanic foi um navio de passageiros britânico operado pela empresa *White Star Line* que afundou no Oceano Atlântico Norte nas primeiras horas da manhã de 15 de abril de 1912, depois de atingir um iceberg durante sua viagem inaugural de Southampton a Nova York. Dos 2.224 passageiros e tripulantes a bordo, mais de 1.500 morreram, tornando o naufrágio um dos desastres marítimos comerciais mais mortais da história moderna em tempos de paz.\n",
        "\n",
        "Neste estudo iremos explorar um conjunto de dados baseado na lista de passageiros do Titanic editada por Michael A. Findlay, publicada originalmente em Eaton & Haas (1994) Titanic: Triumph and Tragedy, Patrick Stephens Ltd, e expandida com a ajuda da comunidade da Internet. Os arquivos HTML originais foram obtidos por Philip Hind (1999) e o *dataset* descreve o status de sobrevivência de passageiros individuais no Titanic. Ele não contém informações para a tripulação, mas contém idades atuais e estimadas para quase 80% dos passageiros."
      ]
    },
    {
      "cell_type": "markdown",
      "metadata": {
        "id": "mIr-zP4RRN80",
        "colab_type": "text"
      },
      "source": [
        "## Dicionário de Dados\n",
        "\n",
        "Nesta seção será apresentado todo o processo de preparação, organização e limpeza de dados feito no *dataset* que possui os seguintes dados:\n",
        "\n",
        "| Nº | Coluna          | Descrição                                                                 |\n",
        "|:--:|:----------------|:--------------------------------------------------------------------------|\n",
        "|  1 | id_passageiro   | Identficador único do passageiro.                                         |\n",
        "|  2 | classe          | Classe social.                                                            |\n",
        "|  3 | sobreviveu      | Sobrevivente? Sim (1), Não (0).                                           |\n",
        "|  4 | nome            | Nome do passageiro.                                                       |\n",
        "|  5 | sexo            | Masculino (male), Feminino (female).                                      |\n",
        "|  6 | idade           | Idade do passageiro.                                                      |\n",
        "|  7 | irmaos_conjuges | Número de irmãos e cônjuges a bordo.                                      |\n",
        "|  8 | pais_filhos     | Número de pais e filhos a bordo.                                          |\n",
        "|  9 | bilhete         | Número do bilhete                                                         |\n",
        "| 10 | tarifa          | Preço da tarifa do passageiro.                                            |\n",
        "| 11 | cabine          | Cabine.                                                                   |\n",
        "| 12 | embarque        | Nome do porto de embarque: C = Cherbourg; Q = Queenstown; S = Southampton |\n",
        "| 13 | bote            | Bote salva vidas.                                                         |\n",
        "| 14 | corpo           | Número de identificação do corpo.                                         |\n",
        "| 15 | destino         | Local de desembarque do passageiro.                                       |\n",
        "\n",
        "### OBSERVAÇÕES\n",
        "\n",
        "- `classe` é uma aproximação do status socioeconômico na época, onde: 1 = Classe Alta1; 2 = Classe Média e 3 = Classe Baixa;\n",
        "- `idade` está representada em anos, porém, se a idade for menor que Um (1) ou caso tenha sido estimada, ela estará com casas decimais xx.5;\n",
        "- `tarifa` está em Libras esterlinas (British Pounds - £) anteriores a 1970;\n",
        "- `irmaos_conjuges` e `pais_filhos`: as variáveis de relação familiar de algumas relações foram ignoradas; a seguir estão as definições usadas:\n",
        "    - **Irmão**: Irmão, irmã, meio-irmão ou meia-irmã do passageiro a bordo do Titanic;\n",
        "    - **Cônjuge**: Marido ou esposa do passageiro a bordo do Titanic (amantes e noivos ignorados);\n",
        "    - **Pai**: Mãe ou pai do passageiro a bordo do Titanic;\n",
        "    - **Criança**: Filho, Filha, Enteado ou Enteada do Passageiro a bordo do Titanic;\n",
        "    - Outros parentes excluídos deste estudo incluem primos, sobrinhos / sobrinhas, tias / tios e parentes;\n",
        "    - Algumas crianças viajavam apenas com uma babá, portanto foi atribuído 0 para elas em pais_filhos; \n",
        "    - Alguns viajaram com amigos ou vizinhos muito próximos em uma vila, no entanto, as definições não apóiam essas relações.\n"
      ]
    },
    {
      "cell_type": "markdown",
      "metadata": {
        "id": "c9KO5XPjRN80",
        "colab_type": "text"
      },
      "source": [
        "## Exercícios\n",
        "Faça as questões abaixo usando somente a biblioteca [Numpy](https://numpy.org/)."
      ]
    },
    {
      "cell_type": "markdown",
      "metadata": {
        "id": "dSue1OaoRN80",
        "colab_type": "text"
      },
      "source": [
        "1. Importe o pacote numpy com o nome np."
      ]
    },
    {
      "cell_type": "code",
      "metadata": {
        "id": "mSJ_xLnHRN81",
        "colab_type": "code",
        "colab": {}
      },
      "source": [
        "import numpy as np"
      ],
      "execution_count": 1,
      "outputs": []
    },
    {
      "cell_type": "markdown",
      "metadata": {
        "id": "9elWRCAuRN83",
        "colab_type": "text"
      },
      "source": [
        "2. Carregue o conjunto de dados disponível na pasta [data/titanic3.csv](data/titanic3.csv), ignorando as colunas: `cabine`, `bote`, `corpo` e `destino`. **Importante:** o arquivo `.csv` usa tabulação (`\\t`) como delimitador de campos."
      ]
    },
    {
      "cell_type": "code",
      "metadata": {
        "id": "yuaYr4APRN84",
        "colab_type": "code",
        "colab": {
          "base_uri": "https://localhost:8080/",
          "height": 235
        },
        "outputId": "65ce913b-5f21-41ba-f813-610895e25c4c"
      },
      "source": [
        "dadostitanic = np.genfromtxt('titanic3.csv',skip_header=True, delimiter = '\\t',encoding='UTF-8', dtype=float, usecols= (0,1,2,3,4,5,6,7,8,9,11))\n",
        "print (dadostitanic)\n"
      ],
      "execution_count": 21,
      "outputs": [
        {
          "output_type": "stream",
          "text": [
            "[[1.000000e+00 1.000000e+00 1.000000e+00 ... 2.416000e+04 2.113375e+02\n",
            "           nan]\n",
            " [2.000000e+00 1.000000e+00 1.000000e+00 ... 1.137810e+05 1.515500e+02\n",
            "           nan]\n",
            " [3.000000e+00 1.000000e+00 0.000000e+00 ... 1.137810e+05 1.515500e+02\n",
            "           nan]\n",
            " ...\n",
            " [1.307000e+03 3.000000e+00 0.000000e+00 ... 2.656000e+03 7.225000e+03\n",
            "           nan]\n",
            " [1.308000e+03 3.000000e+00 0.000000e+00 ... 2.670000e+03 7.225000e+03\n",
            "           nan]\n",
            " [1.309000e+03 3.000000e+00 0.000000e+00 ... 3.150820e+05 7.875000e+03\n",
            "           nan]]\n"
          ],
          "name": "stdout"
        }
      ]
    },
    {
      "cell_type": "markdown",
      "metadata": {
        "id": "eotDcG8ARN86",
        "colab_type": "text"
      },
      "source": [
        "3. Quantas linhas foram lidas do arquivo?"
      ]
    },
    {
      "cell_type": "code",
      "metadata": {
        "id": "aqFRXurJRN86",
        "colab_type": "code",
        "colab": {
          "base_uri": "https://localhost:8080/",
          "height": 34
        },
        "outputId": "3cc93260-0a04-4338-bef5-9bab03e8d061"
      },
      "source": [
        "print(len(dadostitanic)) "
      ],
      "execution_count": 5,
      "outputs": [
        {
          "output_type": "stream",
          "text": [
            "1309\n"
          ],
          "name": "stdout"
        }
      ]
    },
    {
      "cell_type": "markdown",
      "metadata": {
        "id": "_g2peFoDRN88",
        "colab_type": "text"
      },
      "source": [
        "4. Quantas dimensões sua variável dados possui?"
      ]
    },
    {
      "cell_type": "code",
      "metadata": {
        "id": "aOjfwlShRN88",
        "colab_type": "code",
        "colab": {
          "base_uri": "https://localhost:8080/",
          "height": 34
        },
        "outputId": "b8568320-5f07-495b-d26e-b4963071215d"
      },
      "source": [
        "print(dadostitanic.ndim)"
      ],
      "execution_count": 7,
      "outputs": [
        {
          "output_type": "stream",
          "text": [
            "2\n"
          ],
          "name": "stdout"
        }
      ]
    },
    {
      "cell_type": "markdown",
      "metadata": {
        "id": "Kw6LS-_jRN8-",
        "colab_type": "text"
      },
      "source": [
        "5. Obtenha os índices das posições onde existam dados ausentes."
      ]
    },
    {
      "cell_type": "code",
      "metadata": {
        "id": "ZpO6gcLfRN8_",
        "colab_type": "code",
        "colab": {
          "base_uri": "https://localhost:8080/",
          "height": 67
        },
        "outputId": "6f3c9878-c992-4491-d87a-0745352bc0fc"
      },
      "source": [
        "a = dadostitanic\n",
        "i = np.where(a == '') \n",
        "print(i)\n",
        "\n"
      ],
      "execution_count": 11,
      "outputs": [
        {
          "output_type": "stream",
          "text": [
            "(array([], dtype=int64),)\n"
          ],
          "name": "stdout"
        },
        {
          "output_type": "stream",
          "text": [
            "/usr/local/lib/python3.6/dist-packages/ipykernel_launcher.py:2: FutureWarning: elementwise comparison failed; returning scalar instead, but in the future will perform elementwise comparison\n",
            "  \n"
          ],
          "name": "stderr"
        }
      ]
    },
    {
      "cell_type": "markdown",
      "metadata": {
        "id": "OB9SkriCRN9B",
        "colab_type": "text"
      },
      "source": [
        "6. Remova todas as linhas que possuem dados ausentes."
      ]
    },
    {
      "cell_type": "code",
      "metadata": {
        "id": "aDRgITWsRN9B",
        "colab_type": "code",
        "colab": {
          "base_uri": "https://localhost:8080/",
          "height": 235
        },
        "outputId": "a2b338f6-81ab-4360-fab1-7580b503165e"
      },
      "source": [
        "dados_deletados = np.delete(dadostitanic, i, axis=0)\n",
        "print(dados_deletados)"
      ],
      "execution_count": 12,
      "outputs": [
        {
          "output_type": "stream",
          "text": [
            "[[1.000000e+00 1.000000e+00 1.000000e+00 ... 2.416000e+04 2.113375e+02\n",
            "           nan]\n",
            " [2.000000e+00 1.000000e+00 1.000000e+00 ... 1.137810e+05 1.515500e+02\n",
            "           nan]\n",
            " [3.000000e+00 1.000000e+00 0.000000e+00 ... 1.137810e+05 1.515500e+02\n",
            "           nan]\n",
            " ...\n",
            " [1.307000e+03 3.000000e+00 0.000000e+00 ... 2.656000e+03 7.225000e+03\n",
            "           nan]\n",
            " [1.308000e+03 3.000000e+00 0.000000e+00 ... 2.670000e+03 7.225000e+03\n",
            "           nan]\n",
            " [1.309000e+03 3.000000e+00 0.000000e+00 ... 3.150820e+05 7.875000e+03\n",
            "           nan]]\n"
          ],
          "name": "stdout"
        }
      ]
    },
    {
      "cell_type": "markdown",
      "metadata": {
        "id": "EEaQhlwWRN9D",
        "colab_type": "text"
      },
      "source": [
        "7. Mostre todos os dados das 5 primeiras linhas do dataset."
      ]
    },
    {
      "cell_type": "code",
      "metadata": {
        "id": "uoqJbex7RN9E",
        "colab_type": "code",
        "colab": {
          "base_uri": "https://localhost:8080/",
          "height": 269
        },
        "outputId": "f3adf3fc-081d-4635-ce4d-19336c68430b"
      },
      "source": [
        "print(dadostitanic[:5])"
      ],
      "execution_count": 22,
      "outputs": [
        {
          "output_type": "stream",
          "text": [
            "[[1.000000e+00 1.000000e+00 1.000000e+00          nan          nan\n",
            "  2.900000e+01 0.000000e+00 0.000000e+00 2.416000e+04 2.113375e+02\n",
            "           nan]\n",
            " [2.000000e+00 1.000000e+00 1.000000e+00          nan          nan\n",
            "  1.000000e+00 1.000000e+00 2.000000e+00 1.137810e+05 1.515500e+02\n",
            "           nan]\n",
            " [3.000000e+00 1.000000e+00 0.000000e+00          nan          nan\n",
            "  2.000000e+00 1.000000e+00 2.000000e+00 1.137810e+05 1.515500e+02\n",
            "           nan]\n",
            " [4.000000e+00 1.000000e+00 0.000000e+00          nan          nan\n",
            "  3.000000e+01 1.000000e+00 2.000000e+00 1.137810e+05 1.515500e+02\n",
            "           nan]\n",
            " [5.000000e+00 1.000000e+00 0.000000e+00          nan          nan\n",
            "  2.500000e+01 1.000000e+00 2.000000e+00 1.137810e+05 1.515500e+02\n",
            "           nan]]\n"
          ],
          "name": "stdout"
        }
      ]
    },
    {
      "cell_type": "markdown",
      "metadata": {
        "id": "H7d94aOMRN9G",
        "colab_type": "text"
      },
      "source": [
        "8. Crie as variáveis: `idade`, `irmaos_conjuges`, `pais_filhos` e `tarifa`; com todos os dados dessas colunas, e, tipos de dados conforme a tabela abaixo:\n",
        "\n",
        "| Nº | Coluna          | Tipo de Dados |\n",
        "|:--:|-----------------|---------------|\n",
        "|  6 | idade           | int           |\n",
        "|  7 | irmaos_conjuges | int           |\n",
        "|  8 | pais_filhos     | int           |\n",
        "| 10 | tarifa          | float         |"
      ]
    },
    {
      "cell_type": "code",
      "metadata": {
        "id": "NDwzZ-iuRN9G",
        "colab_type": "code",
        "colab": {}
      },
      "source": [
        "idade = dadostitanic[:,5].astype(int)\n",
        "irmaos_conjuges = dadostitanic[:,6].astype(int)\n",
        "pais_filhos = dadostitanic[:,7].astype(int)\n",
        "tarifa = dadostitanic[:,9].astype(float)\n"
      ],
      "execution_count": 59,
      "outputs": []
    },
    {
      "cell_type": "markdown",
      "metadata": {
        "id": "1pMsUiCERN9I",
        "colab_type": "text"
      },
      "source": [
        "9. Selecione as primeiras 5 linhas dos dados."
      ]
    },
    {
      "cell_type": "code",
      "metadata": {
        "id": "8KhG5J-WRN9I",
        "colab_type": "code",
        "colab": {
          "base_uri": "https://localhost:8080/",
          "height": 34
        },
        "outputId": "f8b3d3d7-3c5a-4696-ce95-2e7905255861"
      },
      "source": [
        "print(idade,irmaos_conjuges,pais_filhos,tarifa[:5])\n"
      ],
      "execution_count": 60,
      "outputs": [
        {
          "output_type": "stream",
          "text": [
            "[29  1  2 ... 27 27 29] [0 1 1 ... 0 0 0] [0 2 2 ... 0 0 0] [211.3375 151.55   151.55   151.55   151.55  ]\n"
          ],
          "name": "stdout"
        }
      ]
    },
    {
      "cell_type": "markdown",
      "metadata": {
        "id": "qy3t3XAuRN9K",
        "colab_type": "text"
      },
      "source": [
        "10. Considerando o vetor `idades`, selecione todas as idades das crianças a bordo menores de 12 anos inclusive."
      ]
    },
    {
      "cell_type": "code",
      "metadata": {
        "id": "KxLTeVHhRN9L",
        "colab_type": "code",
        "colab": {
          "base_uri": "https://localhost:8080/",
          "height": 34
        },
        "outputId": "fa96060e-e7a4-4afe-819d-8f94e2dae932"
      },
      "source": [
        "menor12 = idade <= 12\n",
        "print(idade)"
      ],
      "execution_count": 51,
      "outputs": [
        {
          "output_type": "stream",
          "text": [
            "[29  1  2 ... 27 27 29]\n"
          ],
          "name": "stdout"
        }
      ]
    },
    {
      "cell_type": "markdown",
      "metadata": {
        "id": "gmLJWr9iRN9N",
        "colab_type": "text"
      },
      "source": [
        "11. Qual é a média das idades?"
      ]
    },
    {
      "cell_type": "code",
      "metadata": {
        "id": "lWIB-dEiRN9N",
        "colab_type": "code",
        "colab": {
          "base_uri": "https://localhost:8080/",
          "height": 67
        },
        "outputId": "28e0c9e9-db65-4d27-9818-d75ba92f44fe"
      },
      "source": [
        "vazio = dadostitanic[:, 5] != ''\n",
        "idade = dadostitanic[vazio, 5].astype(float)\n",
        "print(idade.mean())"
      ],
      "execution_count": 62,
      "outputs": [
        {
          "output_type": "stream",
          "text": [
            "nan\n"
          ],
          "name": "stdout"
        },
        {
          "output_type": "stream",
          "text": [
            "/usr/local/lib/python3.6/dist-packages/ipykernel_launcher.py:1: FutureWarning: elementwise comparison failed; returning scalar instead, but in the future will perform elementwise comparison\n",
            "  \"\"\"Entry point for launching an IPython kernel.\n"
          ],
          "name": "stderr"
        }
      ]
    },
    {
      "cell_type": "markdown",
      "metadata": {
        "id": "78iHvsfyRN9P",
        "colab_type": "text"
      },
      "source": [
        "12. Quais é a maior e menor idade?"
      ]
    },
    {
      "cell_type": "code",
      "metadata": {
        "id": "-IeuH8tiRN9P",
        "colab_type": "code",
        "colab": {
          "base_uri": "https://localhost:8080/",
          "height": 50
        },
        "outputId": "d487ba5f-b9b1-4229-a66c-d0ffa1663f00"
      },
      "source": [
        "print(idade.max())\n",
        "print(idade.min())"
      ],
      "execution_count": 61,
      "outputs": [
        {
          "output_type": "stream",
          "text": [
            "80\n",
            "-9223372036854775808\n"
          ],
          "name": "stdout"
        }
      ]
    },
    {
      "cell_type": "markdown",
      "metadata": {
        "id": "4C6SujT-RN9R",
        "colab_type": "text"
      },
      "source": [
        "13. Crie um vetor chamado `sobreviventes` com todos os dados das pessoas que sobreviveram ao naufrágio."
      ]
    },
    {
      "cell_type": "code",
      "metadata": {
        "id": "RTq4sDUORN9S",
        "colab_type": "code",
        "colab": {
          "base_uri": "https://localhost:8080/",
          "height": 34
        },
        "outputId": "36248a34-19eb-4292-b9d1-5f7f62f88e61"
      },
      "source": [
        "filtro = dadostitanic[:, 2] == 1\n",
        "sobreviventes = dadostitanic[filtro, :] \n",
        "print(filtro)"
      ],
      "execution_count": 90,
      "outputs": [
        {
          "output_type": "stream",
          "text": [
            "[ True  True False ... False False False]\n"
          ],
          "name": "stdout"
        }
      ]
    },
    {
      "cell_type": "markdown",
      "metadata": {
        "id": "DNc91tmYRN9U",
        "colab_type": "text"
      },
      "source": [
        "14. Segundo este conjunto de dados, quantas pessoas sobreviveram ao naufrágio?"
      ]
    },
    {
      "cell_type": "code",
      "metadata": {
        "id": "keA4L90oRN9V",
        "colab_type": "code",
        "colab": {
          "base_uri": "https://localhost:8080/",
          "height": 34
        },
        "outputId": "6d18424a-08aa-4ae2-f0da-83d6b6bbad45"
      },
      "source": [
        "print(len(sobreviventes))"
      ],
      "execution_count": 88,
      "outputs": [
        {
          "output_type": "stream",
          "text": [
            "500\n"
          ],
          "name": "stdout"
        }
      ]
    },
    {
      "cell_type": "markdown",
      "metadata": {
        "id": "e30NfHcKRN9X",
        "colab_type": "text"
      },
      "source": [
        "15.  Considerando a coluna `idade` dos sobreviventes calcule:\n",
        "    - Média\n",
        "    - Mediana\n",
        "    - Máximo\n",
        "    - Mínimo"
      ]
    },
    {
      "cell_type": "code",
      "metadata": {
        "id": "54G3D730RN9X",
        "colab_type": "code",
        "colab": {
          "base_uri": "https://localhost:8080/",
          "height": 84
        },
        "outputId": "a17c5938-3c87-40fb-a457-0ffc2edf296d"
      },
      "source": [
        "idade_vivos = dadostitanic[filtro, 5].astype(int)\n",
        "print(idade_vivos.mean())\n",
        "print(np.median(idade_vivos))\n",
        "print(idade_vivos.min())\n",
        "print(idade_vivos.max())"
      ],
      "execution_count": 93,
      "outputs": [
        {
          "output_type": "stream",
          "text": [
            "-1.3466123173807972e+18\n",
            "24.5\n",
            "-9223372036854775808\n",
            "80\n"
          ],
          "name": "stdout"
        }
      ]
    },
    {
      "cell_type": "markdown",
      "metadata": {
        "id": "GluuDlIyRN9Z",
        "colab_type": "text"
      },
      "source": [
        "16. Crie um vetor chamado `vitimas_naufragio` com todos os dados das pessoas que não sobreviveram ao naufrágio."
      ]
    },
    {
      "cell_type": "code",
      "metadata": {
        "id": "rrUhgPOURN9Z",
        "colab_type": "code",
        "colab": {
          "base_uri": "https://localhost:8080/",
          "height": 269
        },
        "outputId": "1a047b01-d8d5-4e14-b3d6-01b8df94749c"
      },
      "source": [
        "mortos = dadostitanic[:, 2] != '1'\n",
        "vitimas_naufragio = dadostitanic[mortos, :]\n",
        "print(vitimas_naufragio)"
      ],
      "execution_count": 102,
      "outputs": [
        {
          "output_type": "stream",
          "text": [
            "[[[1.000000e+00 1.000000e+00 1.000000e+00 ... 2.416000e+04 2.113375e+02\n",
            "            nan]\n",
            "  [2.000000e+00 1.000000e+00 1.000000e+00 ... 1.137810e+05 1.515500e+02\n",
            "            nan]\n",
            "  [3.000000e+00 1.000000e+00 0.000000e+00 ... 1.137810e+05 1.515500e+02\n",
            "            nan]\n",
            "  ...\n",
            "  [1.307000e+03 3.000000e+00 0.000000e+00 ... 2.656000e+03 7.225000e+03\n",
            "            nan]\n",
            "  [1.308000e+03 3.000000e+00 0.000000e+00 ... 2.670000e+03 7.225000e+03\n",
            "            nan]\n",
            "  [1.309000e+03 3.000000e+00 0.000000e+00 ... 3.150820e+05 7.875000e+03\n",
            "            nan]]]\n"
          ],
          "name": "stdout"
        },
        {
          "output_type": "stream",
          "text": [
            "/usr/local/lib/python3.6/dist-packages/ipykernel_launcher.py:1: FutureWarning: elementwise comparison failed; returning scalar instead, but in the future will perform elementwise comparison\n",
            "  \"\"\"Entry point for launching an IPython kernel.\n"
          ],
          "name": "stderr"
        }
      ]
    },
    {
      "cell_type": "markdown",
      "metadata": {
        "id": "HahJcoLbRN9b",
        "colab_type": "text"
      },
      "source": [
        "17. Considerando a coluna `vitimas_naufragio` dos sobreviventes calcule:\n",
        "    - Média\n",
        "    - Mediana\n",
        "    - Máximo\n",
        "    - Mínimo"
      ]
    },
    {
      "cell_type": "code",
      "metadata": {
        "id": "3sg9CpUnRN9b",
        "colab_type": "code",
        "colab": {
          "base_uri": "https://localhost:8080/",
          "height": 84
        },
        "outputId": "6fb036f3-7e63-4358-aa06-2d0627300300"
      },
      "source": [
        "print(vitimas_naufragio.mean())\n",
        "print(np.median(vitimas_naufragio))\n",
        "print(vitimas_naufragio.max())\n",
        "print(vitimas_naufragio.min())\n"
      ],
      "execution_count": 103,
      "outputs": [
        {
          "output_type": "stream",
          "text": [
            "nan\n",
            "nan\n",
            "nan\n",
            "nan\n"
          ],
          "name": "stdout"
        }
      ]
    },
    {
      "cell_type": "markdown",
      "metadata": {
        "id": "8g2MaJPJRN9c",
        "colab_type": "text"
      },
      "source": [
        "18. Qual era o preço médio das tarifas?"
      ]
    },
    {
      "cell_type": "code",
      "metadata": {
        "id": "WM3KnYOURN9d",
        "colab_type": "code",
        "colab": {
          "base_uri": "https://localhost:8080/",
          "height": 67
        },
        "outputId": "cf14f2de-8fd2-4ea2-8337-090138dea802"
      },
      "source": [
        "vazio = dadostitanic[:, 9] != ''\n",
        "tarifa = dadostitanic[vazio, 9].astype(int)\n",
        "\n",
        "print(tarifa.mean())"
      ],
      "execution_count": 106,
      "outputs": [
        {
          "output_type": "stream",
          "text": [
            "-3.3539534679471913e+18\n"
          ],
          "name": "stdout"
        },
        {
          "output_type": "stream",
          "text": [
            "/usr/local/lib/python3.6/dist-packages/ipykernel_launcher.py:1: FutureWarning: elementwise comparison failed; returning scalar instead, but in the future will perform elementwise comparison\n",
            "  \"\"\"Entry point for launching an IPython kernel.\n"
          ],
          "name": "stderr"
        }
      ]
    },
    {
      "cell_type": "markdown",
      "metadata": {
        "id": "zr3SfgXXRN9e",
        "colab_type": "text"
      },
      "source": [
        "19. Crie os vetores `classe_alta`, `classe_media` e `classe_baixa`, com os respectivos dados da coluna `classe` no qual:\n",
        "    - 1 = Classe Alta\n",
        "    - 2 = Classe Média\n",
        "    - 3 = Classe Baixa"
      ]
    },
    {
      "cell_type": "code",
      "metadata": {
        "id": "noYbG1bARN9e",
        "colab_type": "code",
        "colab": {}
      },
      "source": [
        "C1 = dadostitanic[:, 1] == 1\n",
        "classe_alta = dadostitanic[C1, :]\n",
        "\n",
        "C2 = dadostitanic[:, 1] == 2\n",
        "classe_media = dadostitanic[C2, :]\n",
        "\n",
        "C3 = dadostitanic[:, 1] == 3\n",
        "classe_baixa = dadostitanic[C3, :]\n"
      ],
      "execution_count": 113,
      "outputs": []
    },
    {
      "cell_type": "markdown",
      "metadata": {
        "id": "ppEuqDV-RN9g",
        "colab_type": "text"
      },
      "source": [
        "20. Qual é o número total de passageiros por classe social?"
      ]
    },
    {
      "cell_type": "code",
      "metadata": {
        "id": "yuv8qUUERN9g",
        "colab_type": "code",
        "colab": {
          "base_uri": "https://localhost:8080/",
          "height": 67
        },
        "outputId": "9a8a2069-3513-4617-d185-a9cb767a720c"
      },
      "source": [
        "print(len(classe_alta))\n",
        "print(len(classe_media))\n",
        "print(len(classe_baixa))"
      ],
      "execution_count": 114,
      "outputs": [
        {
          "output_type": "stream",
          "text": [
            "323\n",
            "277\n",
            "709\n"
          ],
          "name": "stdout"
        }
      ]
    },
    {
      "cell_type": "markdown",
      "metadata": {
        "id": "y9LV3ep6RN9i",
        "colab_type": "text"
      },
      "source": [
        "# REFERÊNCIAS\n",
        "\n",
        "- [Titanic: Machine Learning from Disaster](https://www.kaggle.com/c/titanic/data)\n",
        "- [Encyclopedia Titanica](https://www.encyclopedia-titanica.org/)\n",
        "- [Basic Feature Engineering with the Titanic Data](https://triangleinequality.wordpress.com/2013/09/08/basic-feature-engineering-with-the-titanic-data/)\n",
        "- Hind, Philip.  \"Encyclopedia Titanica.\"  Online.  Internet. n.p.  02 Aug 1999."
      ]
    }
  ]
}