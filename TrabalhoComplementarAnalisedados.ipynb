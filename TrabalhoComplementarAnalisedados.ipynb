{
  "nbformat": 4,
  "nbformat_minor": 0,
  "metadata": {
    "colab": {
      "name": "TrabalhoComplementarAnalisedados.ipynb",
      "provenance": [],
      "collapsed_sections": [
        "cuktCfST6olF"
      ]
    },
    "kernelspec": {
      "name": "python3",
      "display_name": "Python 3"
    }
  },
  "cells": [
    {
      "cell_type": "markdown",
      "metadata": {
        "id": "kN9KVOZVy_aO",
        "colab_type": "text"
      },
      "source": [
        "# COVID-19 - Trabalho Complementar Análise de Dados\n",
        "\n",
        "\n",
        "---\n",
        "\n",
        "**Nome**: Ângelo Suriani Ferreira <br>\n",
        "**RA**: 31610283\n",
        "\n",
        "**Descrição**: Utilizando Relatórios de tendências de movimentação\n",
        "durante a pandemia de COVID‑19. Os relatórios foram importados e refletem solicitações de direções no Mapas da Apple durante o período de 13/01/2020 até 13/06/2020.\n",
        "\n",
        "**Objetivo**: O objetivo aqui é fazer uma análise na base de dados fornecisa pela Apple sobre as solicitações de direção pelo seu aplicativo de locomoção e conseguir obter informações para análisar os dados e comportamentos dos diferentes países cadastrados e elaborar algumnas questões para serem respondidas e nos auxiliar nesse trabalho de análise exploratório utilizando Numpy e o conhecimento adquirido nas aulas ao longo do semestre.\n",
        "\n"
      ]
    },
    {
      "cell_type": "markdown",
      "metadata": {
        "id": "cuktCfST6olF",
        "colab_type": "text"
      },
      "source": [
        "\n",
        "#01 Exercícios iniciais para aquecimento e configuração da pesquisa sobre o covid19\n",
        "A seguir irei passar alguns exercícios básicos para que o ambiente esteja preparado e seja possível realizar as consultas mais apuradas logo em seguida."
      ]
    },
    {
      "cell_type": "markdown",
      "metadata": {
        "id": "ZwEr_YhDzHrw",
        "colab_type": "text"
      },
      "source": [
        "1. Faça importação do pacote numpy com o nome np."
      ]
    },
    {
      "cell_type": "code",
      "metadata": {
        "id": "fTZCkfatxnCX",
        "colab_type": "code",
        "colab": {}
      },
      "source": [
        "import numpy as np"
      ],
      "execution_count": 0,
      "outputs": []
    },
    {
      "cell_type": "markdown",
      "metadata": {
        "id": "46BAnx67zYYS",
        "colab_type": "text"
      },
      "source": [
        "2. Faça o upload do conjunto de dados da Apple para uma variável chamada dadoscovid19.\n",
        "\n",
        "\n",
        "*   Especifique a codificação UTF-8;\n",
        "*   Adcione o delimitador = ','  ;\n",
        "*   Utilize a função genfromtxt;\n",
        "\n"
      ]
    },
    {
      "cell_type": "code",
      "metadata": {
        "id": "S4kzLU10zhH1",
        "colab_type": "code",
        "colab": {
          "base_uri": "https://localhost:8080/",
          "height": 134
        },
        "outputId": "d59b4029-475e-480b-a601-25a5256a156b"
      },
      "source": [
        "dadoscovid19 = np.genfromtxt('applemobilitytrends-2020-06-13.csv',skip_header=True, delimiter = ',',encoding='UTF-8')\n",
        "\n",
        "print (dadoscovid19)"
      ],
      "execution_count": 62,
      "outputs": [
        {
          "output_type": "stream",
          "text": [
            "[[   nan    nan    nan ...  96.27 115.3  126.24]\n",
            " [   nan    nan    nan ...  89.13  97.74  97.95]\n",
            " [   nan    nan    nan ...  49.36  56.59  52.09]\n",
            " ...\n",
            " [   nan    nan    nan ... 161.92 206.37 183.88]\n",
            " [   nan    nan    nan ... 148.45 166.37 170.58]\n",
            " [   nan    nan    nan ... 112.9  132.93 115.4 ]]\n"
          ],
          "name": "stdout"
        }
      ]
    },
    {
      "cell_type": "markdown",
      "metadata": {
        "id": "kVuo6e1Q4wTy",
        "colab_type": "text"
      },
      "source": [
        "3. Informe o número de linhas lidas do arquivo:"
      ]
    },
    {
      "cell_type": "code",
      "metadata": {
        "id": "bYgHe3PW4wiM",
        "colab_type": "code",
        "colab": {
          "base_uri": "https://localhost:8080/",
          "height": 34
        },
        "outputId": "8b2a50e1-945e-4205-891b-20cccdddb981"
      },
      "source": [
        "print(len(dadoscovid19)) "
      ],
      "execution_count": 63,
      "outputs": [
        {
          "output_type": "stream",
          "text": [
            "3625\n"
          ],
          "name": "stdout"
        }
      ]
    },
    {
      "cell_type": "markdown",
      "metadata": {
        "id": "X4ZUUN5r6bLK",
        "colab_type": "text"
      },
      "source": [
        "4. Informe o número de dimensões a variável dadoscovid19 possui:"
      ]
    },
    {
      "cell_type": "code",
      "metadata": {
        "id": "llGmc6jR6gmg",
        "colab_type": "code",
        "colab": {
          "base_uri": "https://localhost:8080/",
          "height": 34
        },
        "outputId": "38cd2de5-ae89-47a0-ddf4-3889ca946017"
      },
      "source": [
        "print(dadoscovid19.ndim)  \n"
      ],
      "execution_count": 64,
      "outputs": [
        {
          "output_type": "stream",
          "text": [
            "2\n"
          ],
          "name": "stdout"
        }
      ]
    },
    {
      "cell_type": "markdown",
      "metadata": {
        "id": "C0BsjSZN8P7G",
        "colab_type": "text"
      },
      "source": [
        "5. O que a função shape esta retornando ?"
      ]
    },
    {
      "cell_type": "code",
      "metadata": {
        "id": "nsna0C5a8QJK",
        "colab_type": "code",
        "colab": {
          "base_uri": "https://localhost:8080/",
          "height": 34
        },
        "outputId": "da92e35a-8bb2-4966-c61d-d38ffd780fe1"
      },
      "source": [
        "print(dadoscovid19.shape)  \n"
      ],
      "execution_count": 65,
      "outputs": [
        {
          "output_type": "stream",
          "text": [
            "(3625, 159)\n"
          ],
          "name": "stdout"
        }
      ]
    },
    {
      "cell_type": "markdown",
      "metadata": {
        "id": "CXZt3fcV8fFW",
        "colab_type": "text"
      },
      "source": [
        "6. Exiba o dado que está na 5ª linha da 8ª coluna:"
      ]
    },
    {
      "cell_type": "code",
      "metadata": {
        "id": "Zrxhs_uB8fNm",
        "colab_type": "code",
        "colab": {
          "base_uri": "https://localhost:8080/",
          "height": 34
        },
        "outputId": "b7195c31-2bb0-4add-97f2-33f2f9506f44"
      },
      "source": [
        "print(dadoscovid19[4, 7])"
      ],
      "execution_count": 22,
      "outputs": [
        {
          "output_type": "stream",
          "text": [
            "95.11\n"
          ],
          "name": "stdout"
        }
      ]
    },
    {
      "cell_type": "markdown",
      "metadata": {
        "id": "Bg_pYpKK9bgy",
        "colab_type": "text"
      },
      "source": [
        "7. Exiba as 10 primeiras linhas do conjunto de dados:"
      ]
    },
    {
      "cell_type": "code",
      "metadata": {
        "id": "sO3TGoRV9bvR",
        "colab_type": "code",
        "colab": {
          "base_uri": "https://localhost:8080/",
          "height": 134
        },
        "outputId": "38535525-fd01-4064-9e8d-62c62eaeac77"
      },
      "source": [
        "print(dadoscovid19[10:])"
      ],
      "execution_count": 192,
      "outputs": [
        {
          "output_type": "stream",
          "text": [
            "[[   nan    nan    nan ...  72.78  68.38  67.9 ]\n",
            " [   nan    nan    nan ...  96.06 104.81 122.85]\n",
            " [   nan    nan    nan ...  78.91 102.09  81.32]\n",
            " ...\n",
            " [   nan    nan    nan ... 161.92 206.37 183.88]\n",
            " [   nan    nan    nan ... 148.45 166.37 170.58]\n",
            " [   nan    nan    nan ... 112.9  132.93 115.4 ]]\n"
          ],
          "name": "stdout"
        }
      ]
    },
    {
      "cell_type": "markdown",
      "metadata": {
        "id": "rRhiNYC97f59",
        "colab_type": "text"
      },
      "source": [
        "#02 Pesquisa sobre o covid19 - Relatórios de tendências de movimentação Apple\n",
        "\n",
        "A seguir encoontra-se os exercícios mais apurados para realização de uma análise dos dados dos relátorios de tendências de movimentação disponível no [site da Apple](https://www.apple.com/covid19/mobility) e já importado e configurado no exercício anterior."
      ]
    },
    {
      "cell_type": "markdown",
      "metadata": {
        "id": "9EwlBgbZ9trU",
        "colab_type": "text"
      },
      "source": [
        "1. Selecione todas as linhas da coluna regiões dentro da base de dados"
      ]
    },
    {
      "cell_type": "code",
      "metadata": {
        "id": "pUMbLB-e9_wo",
        "colab_type": "code",
        "colab": {
          "base_uri": "https://localhost:8080/",
          "height": 34
        },
        "outputId": "2f8b50fd-73e7-4fa8-bbf2-0e592e7733e3"
      },
      "source": [
        "print(dadoscovid19[:,1])"
      ],
      "execution_count": 152,
      "outputs": [
        {
          "output_type": "stream",
          "text": [
            "[nan nan nan ... nan nan nan]\n"
          ],
          "name": "stdout"
        }
      ]
    },
    {
      "cell_type": "markdown",
      "metadata": {
        "id": "6WoY0SkI-md2",
        "colab_type": "text"
      },
      "source": [
        "2. Crie um vetor numpy chamado data14 que irá pegar todas as linhas da coluna 14/01/2020 representando todos os dados daquele dia"
      ]
    },
    {
      "cell_type": "code",
      "metadata": {
        "id": "2BsBTt8C-moN",
        "colab_type": "code",
        "colab": {
          "base_uri": "https://localhost:8080/",
          "height": 34
        },
        "outputId": "b933a88d-fe1c-41e0-e02c-e7996f3e6c7f"
      },
      "source": [
        "data14 = np.array(dadoscovid19[:,7], dtype=int)\n",
        "print (data14)"
      ],
      "execution_count": 161,
      "outputs": [
        {
          "output_type": "stream",
          "text": [
            "[ 95 100  97 ...  98 102 101]\n"
          ],
          "name": "stdout"
        }
      ]
    },
    {
      "cell_type": "markdown",
      "metadata": {
        "id": "Ft12HcJn_-Ba",
        "colab_type": "text"
      },
      "source": [
        "3. Qual é o valor médio encontrado na data 14/01/2020?"
      ]
    },
    {
      "cell_type": "code",
      "metadata": {
        "id": "NvFNs17R_-JB",
        "colab_type": "code",
        "colab": {
          "base_uri": "https://localhost:8080/",
          "height": 34
        },
        "outputId": "2a63d15b-4521-4f61-90e9-b3e993be734c"
      },
      "source": [
        "np.median(data14)\n"
      ],
      "execution_count": 163,
      "outputs": [
        {
          "output_type": "execute_result",
          "data": {
            "text/plain": [
              "101.0"
            ]
          },
          "metadata": {
            "tags": []
          },
          "execution_count": 163
        }
      ]
    },
    {
      "cell_type": "markdown",
      "metadata": {
        "id": "pekboz4nDqz5",
        "colab_type": "text"
      },
      "source": [
        "4. Qual foi o maior valor encontrado no dia 14/01/2020"
      ]
    },
    {
      "cell_type": "code",
      "metadata": {
        "id": "PmuqHyTIDq-i",
        "colab_type": "code",
        "colab": {
          "base_uri": "https://localhost:8080/",
          "height": 34
        },
        "outputId": "f6160adb-705c-4004-c93f-12706c8f625f"
      },
      "source": [
        " print(data14.max())"
      ],
      "execution_count": 162,
      "outputs": [
        {
          "output_type": "stream",
          "text": [
            "169\n"
          ],
          "name": "stdout"
        }
      ]
    },
    {
      "cell_type": "markdown",
      "metadata": {
        "id": "WJEYdwJuEYZh",
        "colab_type": "text"
      },
      "source": [
        "5. Qual foi o menor valor encontrado no dia 14/01/2020"
      ]
    },
    {
      "cell_type": "code",
      "metadata": {
        "id": "vSmwriALEYkC",
        "colab_type": "code",
        "colab": {
          "base_uri": "https://localhost:8080/",
          "height": 34
        },
        "outputId": "e683b046-3db2-442e-c3c5-31f1db9fe552"
      },
      "source": [
        "print(data14.min())"
      ],
      "execution_count": 78,
      "outputs": [
        {
          "output_type": "stream",
          "text": [
            "-9223372036854775808\n"
          ],
          "name": "stdout"
        }
      ]
    },
    {
      "cell_type": "markdown",
      "metadata": {
        "id": "U0xoIq_oFcpd",
        "colab_type": "text"
      },
      "source": [
        "6. Crie um vetor para pegar todos os dados do dia 14/02/2020"
      ]
    },
    {
      "cell_type": "code",
      "metadata": {
        "id": "EX_cykJ7Fc2t",
        "colab_type": "code",
        "colab": {
          "base_uri": "https://localhost:8080/",
          "height": 34
        },
        "outputId": "00635d0f-ad5c-42c8-bdf8-e1a15316f734"
      },
      "source": [
        "data1402 = np.array(dadoscovid19[:,35], dtype=int)\n",
        "print (data1402)"
      ],
      "execution_count": 92,
      "outputs": [
        {
          "output_type": "stream",
          "text": [
            "[ 94  90  96 ... 100 106 114]\n"
          ],
          "name": "stdout"
        }
      ]
    },
    {
      "cell_type": "markdown",
      "metadata": {
        "id": "9Oo_y9IwGYfc",
        "colab_type": "text"
      },
      "source": [
        "7. Crie um vetor para pegar todos os dados do dia 14/03/2020"
      ]
    },
    {
      "cell_type": "code",
      "metadata": {
        "id": "fZ39HTuPGYrJ",
        "colab_type": "code",
        "colab": {
          "base_uri": "https://localhost:8080/",
          "height": 34
        },
        "outputId": "6805150e-bf40-4465-d5e3-ccd27a1b82e8"
      },
      "source": [
        "data1403 = np.array(dadoscovid19[:,67], dtype=int)\n",
        "print (data1403)"
      ],
      "execution_count": 101,
      "outputs": [
        {
          "output_type": "stream",
          "text": [
            "[ 24  37  84 ... 110 100 130]\n"
          ],
          "name": "stdout"
        }
      ]
    },
    {
      "cell_type": "markdown",
      "metadata": {
        "id": "zMEbPtbjFr7a",
        "colab_type": "text"
      },
      "source": [
        "8. Compare a média do dia 14/01, 14/02 e 14/03 e veja se aumentou ou diminuiu"
      ]
    },
    {
      "cell_type": "code",
      "metadata": {
        "id": "WgATmzoHFsCI",
        "colab_type": "code",
        "colab": {
          "base_uri": "https://localhost:8080/",
          "height": 84
        },
        "outputId": "5bd7bad0-45c4-44b3-e19c-1940d45d73dc"
      },
      "source": [
        "\n",
        "print('\\n DIA 14/01:',np.median(data14),  '\\n DIA 14/02:',np.median(data1402),  '\\n DIA 14/03:',np.median(data1403))\n",
        " "
      ],
      "execution_count": 193,
      "outputs": [
        {
          "output_type": "stream",
          "text": [
            "\n",
            " DIA 14/01: 101.0 \n",
            " DIA 14/02: 105.0 \n",
            " DIA 14/03: 109.0\n"
          ],
          "name": "stdout"
        }
      ]
    },
    {
      "cell_type": "markdown",
      "metadata": {
        "id": "6lvh4WCbJ7KP",
        "colab_type": "text"
      },
      "source": [
        "9. Crie um vetor brasil_transito para pegar todos os dados de solicitação de transito do brasil"
      ]
    },
    {
      "cell_type": "code",
      "metadata": {
        "id": "IOR7cy0TJ7Zj",
        "colab_type": "code",
        "colab": {
          "base_uri": "https://localhost:8080/",
          "height": 874
        },
        "outputId": "e14fe4ad-aafa-41da-bc8e-59b3e67402ae"
      },
      "source": [
        "brasil_transito = np.array(dadoscovid19[12,6:], dtype=int)\n",
        "print (brasil_transito)"
      ],
      "execution_count": 175,
      "outputs": [
        {
          "output_type": "stream",
          "text": [
            "[                 100                   99                  100\n",
            "                  101                  113                  114\n",
            "                   91                   97                   98\n",
            "                   97                   98                  109\n",
            "                  111                   88                   92\n",
            "                   95                   94                   96\n",
            "                  109                  109                   83\n",
            "                   92                   92                   93\n",
            "                   96                  114                  117\n",
            "                   86                   99                   95\n",
            "                   98                   98                  115\n",
            "                  123                   92                   95\n",
            "                   99                  102                  109\n",
            "                  141                  140                  103\n",
            "                  102                   99                   92\n",
            "                   91                  101                  107\n",
            "                   77                   88                   90\n",
            "                   92                   95                  110\n",
            "                  118                   82                   90\n",
            "                   92                   92                   89\n",
            "                  103                  106                   71\n",
            "                   70                   64                   58\n",
            "                   52                   51                   39\n",
            "                   27                   34                   34\n",
            "                   35                   37                   42\n",
            "                   41                   30                   40\n",
            "                   41                   44                   45\n",
            "                   50                   50                   35\n",
            "                   45                   48                   51\n",
            "                   58                   44                   58\n",
            "                   36                   46                   47\n",
            "                   49                   50                   56\n",
            "                   56                   38                   51\n",
            "                   45                   53                   55\n",
            "                   59                   59                   40\n",
            "                   51                   54                   56\n",
            "                   64                   55                   58\n",
            "                   42                   55                   59\n",
            "                   61                   60                   70\n",
            "                   73                   45 -9223372036854775808\n",
            " -9223372036854775808                   58                   60\n",
            "                   68                   67                   45\n",
            "                   58                   61                   63\n",
            "                   64                   72                   68\n",
            "                   46                   58                   63\n",
            "                   64                   67                   77\n",
            "                   78                   52                   64\n",
            "                   68                   71                   71\n",
            "                   84                   84                   56\n",
            "                   71                   76                   85\n",
            "                   78                  102                   81]\n"
          ],
          "name": "stdout"
        }
      ]
    },
    {
      "cell_type": "markdown",
      "metadata": {
        "id": "ZxDJE7k1KM2p",
        "colab_type": "text"
      },
      "source": [
        "10. Informe o valor máximo que houve de solicitações do Brasil em um único dia"
      ]
    },
    {
      "cell_type": "code",
      "metadata": {
        "id": "beGs4PaSKM-Z",
        "colab_type": "code",
        "colab": {
          "base_uri": "https://localhost:8080/",
          "height": 34
        },
        "outputId": "719d7cbf-2eb6-4f5b-8f83-6b22cb9d9526"
      },
      "source": [
        "print(brasil_transito.max())"
      ],
      "execution_count": 176,
      "outputs": [
        {
          "output_type": "stream",
          "text": [
            "141\n"
          ],
          "name": "stdout"
        }
      ]
    },
    {
      "cell_type": "markdown",
      "metadata": {
        "id": "Up-T3BkxOYJ5",
        "colab_type": "text"
      },
      "source": [
        "11. Informe o valor mínimo que houve de solicitações do Brasil em um único dia"
      ]
    },
    {
      "cell_type": "code",
      "metadata": {
        "id": "NUxbCK3kOYak",
        "colab_type": "code",
        "colab": {
          "base_uri": "https://localhost:8080/",
          "height": 34
        },
        "outputId": "7d769459-8e94-4734-f4ca-0761c0be625a"
      },
      "source": [
        "print(brasil_transito.min())"
      ],
      "execution_count": 177,
      "outputs": [
        {
          "output_type": "stream",
          "text": [
            "-9223372036854775808\n"
          ],
          "name": "stdout"
        }
      ]
    },
    {
      "cell_type": "markdown",
      "metadata": {
        "id": "EZ8jpsmHKPd7",
        "colab_type": "text"
      },
      "source": [
        "12. Informe no dia 20/01/2020 qual o valor retornou para solicitações de direção no Brasil"
      ]
    },
    {
      "cell_type": "code",
      "metadata": {
        "id": "2TXOry1cIV2b",
        "colab_type": "code",
        "colab": {
          "base_uri": "https://localhost:8080/",
          "height": 34
        },
        "outputId": "4e2bc672-c117-4c0d-eaef-be56fc394aa7"
      },
      "source": [
        "print(dadoscovid19[12, 13])\n"
      ],
      "execution_count": 174,
      "outputs": [
        {
          "output_type": "stream",
          "text": [
            "97.54\n"
          ],
          "name": "stdout"
        }
      ]
    },
    {
      "cell_type": "markdown",
      "metadata": {
        "id": "nRjW38S9PNEg",
        "colab_type": "text"
      },
      "source": [
        "13. Informe no dia 25/03/2020 qual foi o valor retornado para solicitações de caminhada na Argentina"
      ]
    },
    {
      "cell_type": "code",
      "metadata": {
        "id": "pTzVBsgdPNRB",
        "colab_type": "code",
        "colab": {
          "base_uri": "https://localhost:8080/",
          "height": 34
        },
        "outputId": "9c2ff8ea-6c08-41c4-c3ce-4b9c6677e5e1"
      },
      "source": [
        "print(dadoscovid19[3, 78])"
      ],
      "execution_count": 179,
      "outputs": [
        {
          "output_type": "stream",
          "text": [
            "10.92\n"
          ],
          "name": "stdout"
        }
      ]
    },
    {
      "cell_type": "markdown",
      "metadata": {
        "id": "B0fBPSMcP6WX",
        "colab_type": "text"
      },
      "source": [
        "14. Compare os dados do dia 25/03(questão anterior) com os dados do mesmo dia do Brasil para buscas de caminhada."
      ]
    },
    {
      "cell_type": "code",
      "metadata": {
        "id": "oN9DhEnKP6NJ",
        "colab_type": "code",
        "colab": {
          "base_uri": "https://localhost:8080/",
          "height": 50
        },
        "outputId": "dab25c9d-9df8-4f45-b21d-a7538e9273ae"
      },
      "source": [
        "print('Argentina:', dadoscovid19[3, 78], '\\n Brasil:', dadoscovid19[14, 78] )"
      ],
      "execution_count": 181,
      "outputs": [
        {
          "output_type": "stream",
          "text": [
            "Argentina: 10.92 \n",
            " Brasil: 27.96\n"
          ],
          "name": "stdout"
        }
      ]
    },
    {
      "cell_type": "markdown",
      "metadata": {
        "id": "Nup4GbekQh_I",
        "colab_type": "text"
      },
      "source": [
        "15. Compare os dados de direção, caminhada e trânsito no canadá no dia 30/01/2020 "
      ]
    },
    {
      "cell_type": "code",
      "metadata": {
        "id": "MpcIjpeyQiHb",
        "colab_type": "code",
        "colab": {
          "base_uri": "https://localhost:8080/",
          "height": 84
        },
        "outputId": "24ee9f41-fe1a-4559-f2f5-53ae2cdb8349"
      },
      "source": [
        "print('CANADA(30/01/20):','\\n Direção:',dadoscovid19[19, 23],' \\n Caminhada:', dadoscovid19[20, 23], '\\n Trânsito:', dadoscovid19[21, 23])"
      ],
      "execution_count": 187,
      "outputs": [
        {
          "output_type": "stream",
          "text": [
            "CANADA(30/01/20): \n",
            " Direção: 109.0  \n",
            " Caminhada: 97.63 \n",
            " Trânsito: 115.16\n"
          ],
          "name": "stdout"
        }
      ]
    },
    {
      "cell_type": "markdown",
      "metadata": {
        "id": "8K8Vi5LBSET4",
        "colab_type": "text"
      },
      "source": [
        "16. Informe qual foi a pontuação para solicitações de caminhada no chile no dia 25/03"
      ]
    },
    {
      "cell_type": "code",
      "metadata": {
        "id": "I044ayHeSEof",
        "colab_type": "code",
        "colab": {
          "base_uri": "https://localhost:8080/",
          "height": 34
        },
        "outputId": "7bc6f362-872b-478f-a2b4-e1511a29fdce"
      },
      "source": [
        "print(dadoscovid19[23, 78])"
      ],
      "execution_count": 188,
      "outputs": [
        {
          "output_type": "stream",
          "text": [
            "22.76\n"
          ],
          "name": "stdout"
        }
      ]
    },
    {
      "cell_type": "markdown",
      "metadata": {
        "id": "63lLl8W_Sihn",
        "colab_type": "text"
      },
      "source": [
        "17. Informe a pontuação para TrÂnsito na França no dia 01/04/2020"
      ]
    },
    {
      "cell_type": "code",
      "metadata": {
        "id": "PjbPOJg-SiYe",
        "colab_type": "code",
        "colab": {
          "base_uri": "https://localhost:8080/",
          "height": 34
        },
        "outputId": "31d97811-a444-41b4-f819-6682dd4f7c37"
      },
      "source": [
        "print(dadoscovid19[43, 85])"
      ],
      "execution_count": 190,
      "outputs": [
        {
          "output_type": "stream",
          "text": [
            "11.92\n"
          ],
          "name": "stdout"
        }
      ]
    }
  ]
}