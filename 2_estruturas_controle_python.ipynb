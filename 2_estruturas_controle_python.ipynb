{
  "nbformat": 4,
  "nbformat_minor": 0,
  "metadata": {
    "kernelspec": {
      "display_name": "Python 3",
      "language": "python",
      "name": "python3"
    },
    "language_info": {
      "codemirror_mode": {
        "name": "ipython",
        "version": 3
      },
      "file_extension": ".py",
      "mimetype": "text/x-python",
      "name": "python",
      "nbconvert_exporter": "python",
      "pygments_lexer": "ipython3",
      "version": "3.7.4"
    },
    "colab": {
      "name": "2_estruturas_controle_python.ipynb",
      "provenance": [],
      "collapsed_sections": []
    }
  },
  "cells": [
    {
      "cell_type": "markdown",
      "metadata": {
        "id": "8eKMVkW6wWg5",
        "colab_type": "text"
      },
      "source": [
        "## Estruturas de Controle \n",
        "\n",
        "\n",
        "### Estruturas de Seleção\n",
        "\n",
        "As estruturas de seleção *if* e *if/else* são usadas para controle da execução sequêncial de um programa. \n",
        "Na prática, se uma determinada condição lógica for avaliada como verdadeira, o interpretador Python executa todos os comandos dentro do bloco da estrutura de seleção. \n",
        "Em Python, para a estruturas de seleção única usamos a palavra-chave *if* e para estruturas de seleção múltiplas usamos o nome *elsif*. \n",
        "\n",
        "```python\n",
        " if condicao1:\n",
        "    # Executa quando a condição1 for verdadeira\n",
        " elif condicao2:\n",
        "    # Executa quando a condição2 for verdadeira\n",
        " else:\n",
        "    # Executa quando todas condições não forem satisfeitas\n",
        "```\n",
        "\n",
        "### Estruturas de Repetição\n",
        "\n",
        "O Python possui duas estruturas de repetição, são elas: *for* e *while*. A estrutura de repetição *for*, em sua sintaxe, difere um pouco, por exemplo, das linguagens de programação baseadas em C, onde definimos uma condição de parada (i < n) e um passo de iteração (i++). O comando *for* é usado para percorrer os itens de qualquer sequência (p. ex.: lista, string ou tupla) para que eles apareçam em série ou simplesmente como um laço de repetição (*loop*). "
      ]
    },
    {
      "cell_type": "code",
      "metadata": {
        "id": "8j9l0qv7wWhB",
        "colab_type": "code",
        "outputId": "851d88e4-f690-4235-8c40-b6eaff3391de",
        "colab": {
          "base_uri": "https://localhost:8080/",
          "height": 136
        }
      },
      "source": [
        "cores  = [\"Vermelho\", \"Laranja\", \"Amarelo\", \"Verde\", \"Azul\", \"Anil\", \"Violeta\"]\n",
        "\n",
        "for cor in cores:\n",
        "    print(\"Eu ♥ \" + cor)"
      ],
      "execution_count": 0,
      "outputs": [
        {
          "output_type": "stream",
          "text": [
            "Eu ♥ Vermelho\n",
            "Eu ♥ Laranja\n",
            "Eu ♥ Amarelo\n",
            "Eu ♥ Verde\n",
            "Eu ♥ Azul\n",
            "Eu ♥ Anil\n",
            "Eu ♥ Violeta\n"
          ],
          "name": "stdout"
        }
      ]
    },
    {
      "cell_type": "markdown",
      "metadata": {
        "id": "cMRm3_Z5wWhM",
        "colab_type": "text"
      },
      "source": [
        "Se você possui alguma experiência anterior com programação, deve estar se perguntando neste exato momento, como podemos percorrer os itens de uma sequência usando índices? Para tal, podemos utilizar a função range() em conjunto com a função len(). A função *range(start, stop, step)* do Python, retorna uma sequência de números, começando em 0 (zero) por padrão, e incrementando de um em um, até o fim de um número especificado como parâmetro. A função len(), por sua vez, retorna o número de itens de uma determina sequência. Acompanhe abaixo, alguns exemplos de como essas funções podem ser usadas em conjunto com a instrução *for* para indexar itens de uma lista."
      ]
    },
    {
      "cell_type": "code",
      "metadata": {
        "id": "RP9xua0fwWhP",
        "colab_type": "code",
        "colab": {
          "base_uri": "https://localhost:8080/",
          "height": 1000
        },
        "outputId": "1b2a2892-069c-4282-c49e-31e44ff9042f"
      },
      "source": [
        "# EXEMPLOS - Função range()\n",
        "lista1 = range(5)\n",
        "lista2 = range(10, 20, 2)\n",
        "lista3 = range(1, 5)\n",
        "lista4 = range(5, -1, -1)\n",
        "\n",
        "print(\"EXEMPLOS: Função range()\\n\")\n",
        "\n",
        "for item in lista1:\n",
        "    print(item) # Para range(5) Saída: [0, 1, 2, 3, 4]\n",
        "\n",
        "print(\"\\n\") \n",
        "    \n",
        "for item in lista2:\n",
        "    print(item) # Para range(10, 20, 2) Saída: [10, 12, 14, 16, 18]\n",
        "\n",
        "print(\"\\n\")     \n",
        "    \n",
        "for item in lista3:\n",
        "    print(item) # Para range(1, 5) Saída: [1, 2, 3, 4]\n",
        "\n",
        "print(\"\\n\")     \n",
        "    \n",
        "for item in lista4:\n",
        "    print(item) # Para range(1, 5) Saída: [1, 2, 3, 4]\n",
        "    \n",
        "    \n",
        "print(\"\\n\")     \n",
        "    \n",
        "    \n",
        "# EXEMPLOS - for, range() e len\n",
        "print(\"EXEMPLOS: for, len() e range()\\n\")\n",
        "\n",
        "\n",
        "# Imprimindo lista de cores\n",
        "cores  = [\"Vermelho\", \"Laranja\", \"Amarelo\", \"Verde\", \"Azul\", \"Anil\", \"Violeta\"]\n",
        "n = len(cores) # a função len() retorna o número de elementos\n",
        "\n",
        "for i in range(n):\n",
        "    print(cores[i])\n",
        "\n",
        "print(\"\\n\")\n",
        "\n",
        "for i in range((n - 1), -1, -1):\n",
        "    print(cores[i])\n",
        "\n",
        "\n",
        "# for aninhado para impressão de um padrão numérico\n",
        "for i in range(10):\n",
        "    for j in range(i):\n",
        "        print(i, end=\" \")    # Imprime o número\n",
        "    print(\"\\n\")              # Adiciona quebra de linha ao final de cada linha"
      ],
      "execution_count": 67,
      "outputs": [
        {
          "output_type": "stream",
          "text": [
            "EXEMPLOS: Função range()\n",
            "\n",
            "0\n",
            "1\n",
            "2\n",
            "3\n",
            "4\n",
            "\n",
            "\n",
            "10\n",
            "12\n",
            "14\n",
            "16\n",
            "18\n",
            "\n",
            "\n",
            "1\n",
            "2\n",
            "3\n",
            "4\n",
            "\n",
            "\n",
            "5\n",
            "4\n",
            "3\n",
            "2\n",
            "1\n",
            "0\n",
            "\n",
            "\n",
            "EXEMPLOS: for, len() e range()\n",
            "\n",
            "Vermelho\n",
            "Laranja\n",
            "Amarelo\n",
            "Verde\n",
            "Azul\n",
            "Anil\n",
            "Violeta\n",
            "\n",
            "\n",
            "Violeta\n",
            "Anil\n",
            "Azul\n",
            "Verde\n",
            "Amarelo\n",
            "Laranja\n",
            "Vermelho\n",
            "\n",
            "\n",
            "1 \n",
            "\n",
            "2 2 \n",
            "\n",
            "3 3 3 \n",
            "\n",
            "4 4 4 4 \n",
            "\n",
            "5 5 5 5 5 \n",
            "\n",
            "6 6 6 6 6 6 \n",
            "\n",
            "7 7 7 7 7 7 7 \n",
            "\n",
            "8 8 8 8 8 8 8 8 \n",
            "\n",
            "9 9 9 9 9 9 9 9 9 \n",
            "\n"
          ],
          "name": "stdout"
        }
      ]
    },
    {
      "cell_type": "markdown",
      "metadata": {
        "id": "yx8jJmOfwWhW",
        "colab_type": "text"
      },
      "source": [
        "Assim como o for, a estrutura de repetição while é usada para repetir um trecho de código várias vezes, porém, no while a repetição continua enquanto uma condição lógica definida seja verdadeira (True), veja alguns exemplos abaixo: \n",
        "\n",
        "```python\n",
        "while condicao: # enquanto condição for verdadeira\n",
        "    # Executa algum(ns) comando(s)\n",
        "    # Atualiza variável de controle\n",
        "```"
      ]
    },
    {
      "cell_type": "code",
      "metadata": {
        "id": "bVD3Tli_wWhX",
        "colab_type": "code",
        "colab": {}
      },
      "source": [
        "contador = 0                 # Define uma variável de controle que será avaliada na condição\n",
        "\n",
        "while contador < 10:         # enquanto a condição (contador < 10) for verdadeira\n",
        "    print(contador)          # Executa algum comando: print(contador)\n",
        "    contador = contador + 1  # Atualiza a variável de controle\n",
        "    \n",
        "print(\"\\n\")\n",
        "\n",
        "\n",
        "# EXEMPLO: Algoritmo Fatorial Iterativo\n",
        "n = 3\n",
        "i = 1\n",
        "resultado = 1\n",
        "\n",
        "while i <= n:\n",
        "    resultado = resultado * i\n",
        "    i = i + 1\n",
        "    \n",
        "print(\"Fatorial de %d é %d\" % (n, resultado))\n",
        "    "
      ],
      "execution_count": 0,
      "outputs": []
    },
    {
      "cell_type": "markdown",
      "metadata": {
        "id": "qd22E8lowWha",
        "colab_type": "text"
      },
      "source": [
        "### Técnicas de Looping\n",
        "\n",
        "1. Ao percorrer dicionários, a chave e o valor, podem ser recuperados ao mesmo tempo através do método *items()*;\n",
        "\n",
        "```python\n",
        "websites = {'site': \"Python Software Foundation\", 'url': \"https://www.python.org/\"}\n",
        "\n",
        "for key, value in websites.items():\n",
        "    print(key, value)\n",
        "    \n",
        "# Saída\n",
        "# site Python Software Foundation\n",
        "# url https://www.python.org/\n",
        "```\n",
        "\n",
        "2. Ao percorrer sequências, índice e o item, podem ser recuperados ao mesmo tempo através do método *enumerate()*;\n",
        "\n",
        "```python\n",
        "rgb = [\"Red\", \"Green\", \"Blue\"]\n",
        "\n",
        "for i, item in enumerate(rgb):\n",
        "    print(i, item)\n",
        "    \n",
        "# Saída\n",
        "# 0 Red\n",
        "# 1 Green\n",
        "# 2 Blue\n",
        "```\n",
        "\n",
        "3. Para percorrer duas ou mais sequências ao mesmo tempo, as entradas podem ser emparelhadas através da função *zip()*;\n",
        "\n",
        "\n",
        "```python\n",
        "condinomes_android = [\"Petit Four\", \"Eclair\",  \"Honeycomb\", \"Ice Cream Sandwich\", \"Lollipop\", \"Marshmallow\", \"Nougat\", \"Oreo\", \"Pie\"]\n",
        "versoes_android = [\"1.1\", \"2.0 – 2.1\", \"3.0 – 3.2.6\", \"4.0 – 4.0.4\", \"5.0 – 5.1.1\", \"6.0 – 6.0.1\", \"7.0 – 7.1.2\", \"8.0 – 8.1\", \"9.0\"]\n",
        "\n",
        "for codinome, versao in zip(condinomes_android, versoes_android):\n",
        "    print(codinome, versao)\n",
        "    \n",
        "# Saída\n",
        "# Petit Four 1.1\n",
        "# Eclair 2.0 – 2.1\n",
        "# Honeycomb 3.0 – 3.2.6\n",
        "# Ice Cream Sandwich 4.0 – 4.0.4\n",
        "# Lollipop 5.0 – 5.1.1\n",
        "# Marshmallow 6.0 – 6.0.1\n",
        "# Nougat 7.0 – 7.1.2\n",
        "# Oreo 8.0 – 8.1\n",
        "# Pie 9.0\n",
        "```\n",
        "\n",
        "4. Para iterar em uma sequência ordenada sem alterar a ordem dos elementos utilize o metodo *sorted()* que irá retornar uma nova lista ordenada sem alterar a original\n",
        "\n",
        "```python\n",
        "estados_sudeste_brasileiro = [\"São Paulo\", \"Rio de Janeiro\", \"Minas Gerais\", \"Espírito Santo\"]\n",
        "\n",
        "for estado in sorted(set(estados_sudeste_brasileiro)):\n",
        "    print(estado)\n",
        "    \n",
        "# Saída\n",
        "# Espírito Santo\n",
        "# Minas Gerais\n",
        "# Rio de Janeiro\n",
        "# São Paulo    \n",
        "    \n",
        "```"
      ]
    },
    {
      "cell_type": "markdown",
      "metadata": {
        "id": "O8xC0b8EwWhb",
        "colab_type": "text"
      },
      "source": [
        "## Exercícios"
      ]
    },
    {
      "cell_type": "markdown",
      "metadata": {
        "id": "5fjnQ7aAwWhc",
        "colab_type": "text"
      },
      "source": [
        "1. A nota final de um estudante é calculada a partir de três notas atribuídas, respectivamente, a um trabalho\n",
        "de laboratório, a uma avaliação semestral e a um exame final. A média das três notas mencionadas\n",
        "obedece aos pesos a seguir:\n",
        "\n",
        "| Nota                    | Peso |\n",
        "|-------------------------|------|\n",
        "| Trabalho de Laboratório | 2    |\n",
        "| Avaliação Semestral     | 3    |\n",
        "| Exame Final             | 5    |\n",
        "\n",
        "\n",
        "Faça um programa que receba as três notas, calcule e mostre a média ponderada e o conceito que segue\n",
        "a tabela:\n",
        "\n",
        "| Média Ponderada        | Conceito |\n",
        "|------------------------|----------|\n",
        "| 8,00 <= Média <= 10,00 | A        |\n",
        "| 7,00 <= Média < 8,00   | B        |\n",
        "| 6,00 <= Média < 7,00   | C        |\n",
        "| 5,00 <= Média < 6,00   | D        |\n",
        "| 0,00 <= Média < 5,00   | E        |\n",
        "\n"
      ]
    },
    {
      "cell_type": "code",
      "metadata": {
        "id": "CNzo0E6EwWhd",
        "colab_type": "code",
        "outputId": "a2540211-a5d9-463f-db14-1ff0132e572e",
        "colab": {
          "base_uri": "https://localhost:8080/",
          "height": 104
        }
      },
      "source": [
        "nota1 = float(input(\"Insira a nota do trabalho de laboratório :\"))\n",
        "nota2 = float(input(\"Insira a nota da avaliação semestral :\"))\n",
        "nota3 = float(input(\"Insira a nota do exame final :\"))\n",
        "peso1 = 2\n",
        "peso2 = 3\n",
        "peso3 = 5\n",
        "mediaponderada = ((nota1*peso1+nota2*peso2+nota3*peso3)/(peso1+peso2+peso3))\n",
        "print ('a média ponderada é:',mediaponderada)\n",
        "if mediaponderada >=8 and mediaponderada<=10:\n",
        "  print ('SEU CONCEITO É A')\n",
        "if mediaponderada >=7 and mediaponderada<8:\n",
        "  print ('SEU CONCEITO É B')\n",
        "if mediaponderada >=6 and mediaponderada<7:\n",
        "  print ('SEU CONCEITO É C')\n",
        "if mediaponderada >=5 and mediaponderada<6:\n",
        "  print ('SEU CONCEITO É D')\n",
        "if mediaponderada >=0 and mediaponderada<5:\n",
        "  print ('SEU CONCEITO É E') "
      ],
      "execution_count": 0,
      "outputs": [
        {
          "output_type": "stream",
          "text": [
            "Insira a nota do trabalho de laboratório :10\n",
            "Insira a nota da avaliação semestral :3\n",
            "Insira a nota do exame final :5\n",
            "a média ponderada é: 5.4\n",
            "SEU CONCEITO É D\n"
          ],
          "name": "stdout"
        }
      ]
    },
    {
      "cell_type": "markdown",
      "metadata": {
        "id": "nvr57rNdwWhg",
        "colab_type": "text"
      },
      "source": [
        "2. Faça um programa que receba três notas de um aluno, calcule e mostre a média aritmética e a mensagem constante na tabela a seguir. \n",
        "\n",
        "| Média                  | Situação       |\n",
        "|------------------------|----------------|\n",
        "| 7,00 <= Média <= 10,00 | Aprovado       |\n",
        "| 3,00 <= Média < 7,00   | Exame Especial |\n",
        "| 0,00 <= Média < 3,00   | Reprovado      |"
      ]
    },
    {
      "cell_type": "code",
      "metadata": {
        "id": "TvmF3oBWwWhh",
        "colab_type": "code",
        "outputId": "6ae7c765-e29a-450a-9fd3-3d33d4579ecb",
        "colab": {
          "base_uri": "https://localhost:8080/",
          "height": 121
        }
      },
      "source": [
        "nota1 = float(input(\"Insira a nota do aluno:\"))\n",
        "nota2 = float(input(\"Insira a nota do aluno:\"))\n",
        "nota3 = float(input(\"Insira a nota do aluno:\"))\n",
        "mediaaritmetica = (nota1+nota2+nota3)/3\n",
        "print('A média foi:',mediaaritmetica)\n",
        "if mediaaritmetica >=7 and mediaaritmetica <=10:\n",
        "  print ('APROVADO !')\n",
        "if mediaaritmetica >3 and mediaaritmetica <=7:\n",
        "  print ('Exame Especial !')  \n",
        "if mediaaritmetica >=0 and mediaaritmetica <=3:\n",
        "  print ('REPROVADO!') \n"
      ],
      "execution_count": 0,
      "outputs": [
        {
          "output_type": "stream",
          "text": [
            "Insira a nota do aluno:3\n",
            "Insira a nota do aluno:4\n",
            "Insira a nota do aluno:2\n",
            "A média foi: 3.0\n",
            "Exame Especial !\n",
            "REPROVADO!\n"
          ],
          "name": "stdout"
        }
      ]
    },
    {
      "cell_type": "markdown",
      "metadata": {
        "id": "CoQ_os_SwWhk",
        "colab_type": "text"
      },
      "source": [
        "3. Faça um programa que receba dois números e mostre o maior."
      ]
    },
    {
      "cell_type": "code",
      "metadata": {
        "id": "qjVc6YnkwWhk",
        "colab_type": "code",
        "outputId": "c225cc6d-f420-4599-bc8c-c5eebaf5070b",
        "colab": {
          "base_uri": "https://localhost:8080/",
          "height": 68
        }
      },
      "source": [
        "n1 = int(input(\"Insira um número\"))\n",
        "n2 = int(input(\"Insira um número\"))\n",
        "if n1>n2:\n",
        "  print ('O número maior é:',n1)\n",
        "elif n2>n1:\n",
        "  print ('O número maior é:',n2)"
      ],
      "execution_count": 0,
      "outputs": [
        {
          "output_type": "stream",
          "text": [
            "Insira um número5\n",
            "Insira um número2\n",
            "O número maior é: 5\n"
          ],
          "name": "stdout"
        }
      ]
    },
    {
      "cell_type": "markdown",
      "metadata": {
        "id": "ohsCm3fWwWho",
        "colab_type": "text"
      },
      "source": [
        "4. Faça um programa que receba um número inteiro e verifique se é par ou ímpar."
      ]
    },
    {
      "cell_type": "code",
      "metadata": {
        "id": "0M0R44ZMwWhp",
        "colab_type": "code",
        "outputId": "fdb93ccc-cebc-4aab-f8bf-b72f37679c87",
        "colab": {
          "base_uri": "https://localhost:8080/",
          "height": 51
        }
      },
      "source": [
        "n1 = int(input(\"Digite um número\"))\n",
        "resto = n1 % 2\n",
        "if resto == 0:\n",
        "    print('Número é par')\n",
        "else:\n",
        "    print('Número é impar')"
      ],
      "execution_count": 0,
      "outputs": [
        {
          "output_type": "stream",
          "text": [
            "Digite um número3\n",
            "Número é impar\n"
          ],
          "name": "stdout"
        }
      ]
    },
    {
      "cell_type": "markdown",
      "metadata": {
        "id": "RneFUkB_wWhs",
        "colab_type": "text"
      },
      "source": [
        "5. Faça um programa que mostre o menu de opções a seguir, receba a opção do usuário e os dados necessários para executar cada operação.\n",
        "\n",
        "Menu de opções:\n",
        "\n",
        "1. Somar dois números.\n",
        "2. Raiz quadrada de um número.\n",
        "\n",
        "Digite a opção desejada:"
      ]
    },
    {
      "cell_type": "code",
      "metadata": {
        "id": "Nm-mvMMJwWht",
        "colab_type": "code",
        "outputId": "a9f5317f-7e59-454c-ce7a-aadfbba81aa7",
        "colab": {
          "base_uri": "https://localhost:8080/",
          "height": 451
        }
      },
      "source": [
        "menu = 0\n",
        "while menu != 3:\n",
        "    print('escolha uma opção no menu')\n",
        "    menu = int(input(('''\n",
        "    1: Somar números\n",
        "    2: Raiz Quadrada\n",
        "    3: Finalizar\n",
        "    digite aqui: ''')))\n",
        "    if menu == 1:\n",
        "        n1 = int(input('digite um numero'))\n",
        "        n2 = int(input('digite mais um numero'))\n",
        "        soma = n1 + n2\n",
        "        print('a soma entre {} e {} e de {}'.format(n1, n2, soma))\n",
        "    if menu == 2:\n",
        "        r1 = int(input('digite um numero'))  \n",
        "        raiz = r1 ** (1/2)  \n",
        "        print('A raiz quadrada do número 1 é:',raiz)\n",
        "    elif menu == 3:\n",
        "        print('programa filalizado')\n",
        "print('Obrigado !')"
      ],
      "execution_count": 0,
      "outputs": [
        {
          "output_type": "stream",
          "text": [
            "escolha uma opção no menu\n",
            "\n",
            "    1: Somar números\n",
            "    2: Raiz Quadrada\n",
            "    3: Finalizar\n",
            "    digite aqui: 2\n",
            "digite um numero104\n",
            "A raiz quadrada do número 1 é: 10.198039027185569\n",
            "escolha uma opção no menu\n",
            "\n",
            "    1: Somar números\n",
            "    2: Raiz Quadrada\n",
            "    3: Finalizar\n",
            "    digite aqui: 1\n",
            "digite um numero5\n",
            "digite mais um numero10\n",
            "a soma entre 5 e 10 e de 15\n",
            "escolha uma opção no menu\n",
            "\n",
            "    1: Somar números\n",
            "    2: Raiz Quadrada\n",
            "    3: Finalizar\n",
            "    digite aqui: 3\n",
            "programa filalizado\n",
            "Obrigado !\n"
          ],
          "name": "stdout"
        }
      ]
    },
    {
      "cell_type": "markdown",
      "metadata": {
        "id": "pZKwxONPwWhv",
        "colab_type": "text"
      },
      "source": [
        "6. Faça um programa que receba o código correspondente ao cargo de um funcionário e seu salário atual e mostre o cargo, o valor do aumento e seu novo salário. Os cargos estão na tabela a seguir.\n",
        "\n",
        "| Código | Cargo       | Percentual  |\n",
        "|--------|-------------|-------------|\n",
        "| 1      | Escrituário | 50%         |\n",
        "| 2      | Secretário  | 35%         |\n",
        "| 3      | Caixa       | 20%         |\n",
        "| 4      | Gerente     | 10%         |\n",
        "| 5      | Diretor     | Sem Aumento |"
      ]
    },
    {
      "cell_type": "code",
      "metadata": {
        "id": "EngGslNuwWhw",
        "colab_type": "code",
        "outputId": "08561bf6-81bd-41c4-c813-064470eb247e",
        "colab": {
          "base_uri": "https://localhost:8080/",
          "height": 104
        }
      },
      "source": [
        "cod = int(input('informe o código:'))\n",
        "salario = int(input('Informe o salário'))\n",
        "c1 = salario*0.50\n",
        "c2 = salario*0.35\n",
        "c3 = salario*0.20\n",
        "c4 = salario*0.10\n",
        "i = 0\n",
        "if cod == 1:\n",
        "    print('Seu cargo é: Escrituário',\n",
        "          '\\n seu aumento é de:', c1,'R$',\n",
        "          '\\n Seu novo salário é:', c1+salario,'R$')\n",
        "if cod == 2:\n",
        "    print('Seu cargo é: Secretário',\n",
        "          '\\n seu aumento é de:', c2,'R$',\n",
        "          '\\n Seu novo salário é:', c2+salario,'R$')\n",
        "if cod == 3:\n",
        "    print('Seu cargo é: Caixa',\n",
        "          '\\n seu aumento é de:', c3,'R$',\n",
        "          '\\n Seu novo salário é:', c3+salario,'R$')\n",
        "if cod == 4:\n",
        "    print('Seu cargo é: Gerente',\n",
        "          '\\n seu aumento é de:', c4,'R$',\n",
        "          '\\n Seu novo salário é:', c4+salario,'R$')\n",
        "if cod == 5:\n",
        "    print('Seu cargo é: Diretor',\n",
        "          '\\n seu aumento é de:', '0R$',\n",
        "          '\\n Seu novo salário é:', salario,'R$')"
      ],
      "execution_count": 0,
      "outputs": [
        {
          "output_type": "stream",
          "text": [
            "informe o código:5\n",
            "Informe o salário10000\n",
            "Seu cargo é: Diretor \n",
            " seu aumento é de: 0R$ \n",
            " Seu novo salário é: 10000 R$\n"
          ],
          "name": "stdout"
        }
      ]
    },
    {
      "cell_type": "markdown",
      "metadata": {
        "id": "sfGaMoRVwWhy",
        "colab_type": "text"
      },
      "source": [
        "7. Faça um programa que receba o salário inicial de um funcionário, calcule e mostre o novo salário, acrescido de bonificação e de auxílio escola.\n",
        "\n",
        "| Salário                      | Bonificação     |\n",
        "|------------------------------|-----------------|\n",
        "| Até R\\\\$500,00                 | 5% do salário  |\n",
        "| Entre R\\\\$500,00 e R\\$1.1200,00 | 12% do salário  \n",
        "| Acima de R\\\\$1.200,00          | Sem Bonificação |\n",
        "\n",
        "| Salário           | Auxílio Escola |\n",
        "|-------------------|----------------|\n",
        "| Até R\\\\$600,00      | R\\\\$150,00       |\n",
        "| Acima de R\\\\$600,00 | R\\\\$100,00       |"
      ]
    },
    {
      "cell_type": "code",
      "metadata": {
        "id": "umrsaqQLwWhz",
        "colab_type": "code",
        "outputId": "1b32ee68-ea4f-480a-f036-41fc09dd9753",
        "colab": {
          "base_uri": "https://localhost:8080/",
          "height": 87
        }
      },
      "source": [
        "salario = int(input('Informe salário inicial'))\n",
        "\n",
        "if salario <=500:\n",
        "  nsalario = (salario*0.05)\n",
        "  print ('Sua bonificação é de:', nsalario, 'R$')\n",
        "if salario >500 and salario <=1200:\n",
        "  nsalario = (salario*0.12)\n",
        "  print ('Sua bonificação é de:', nsalario, 'R$')\n",
        "if salario >1200:\n",
        "  print ('Voce não tem bonificação')\n",
        "\n",
        "if salario <=600:\n",
        "  aux = 150\n",
        "  print ('seu auxílio é:', aux,'R$')\n",
        "if salario >600:\n",
        "  aux = 100\n",
        "  print ('seu auxílio é:', aux,'R$')\n",
        "\n",
        "total = salario + nsalario + aux\n",
        "print ('seu salário total é de:', total) \n",
        "\n"
      ],
      "execution_count": 0,
      "outputs": [
        {
          "output_type": "stream",
          "text": [
            "Informe salário inicial500\n",
            "Sua bonificação é de: 25.0 R$\n",
            "seu auxílio é: 150 R$\n",
            "seu salário total é de: 675.0\n"
          ],
          "name": "stdout"
        }
      ]
    },
    {
      "cell_type": "markdown",
      "metadata": {
        "id": "IjQ3ZeBywWh1",
        "colab_type": "text"
      },
      "source": [
        "8. Um supermercado deseja reajustar os preços de seus produtos usando o seguinte critério: o produto poderá ter seu preço aumentado ou diminuído. Para o preço ser alterado, o produto deve preencher pelo menos um dos requisitos a seguir:\n",
        "\n",
        "| Venda Média Mensal | Preço Atual             | % de Aumento | % de Diminuição |\n",
        "|--------------------|-------------------------|--------------|-----------------|\n",
        "| < 500              | < R\\\\$ 30,00              | 10           | -               |\n",
        "| >= 500 e < 1.200   | >= R\\\\$30,00 e < R\\\\$ 80,00 | 15           | -               |\n",
        "| >= 1.200           | >= R\\\\$80,00              | -            | 20              |"
      ]
    },
    {
      "cell_type": "code",
      "metadata": {
        "id": "lya_781IwWh2",
        "colab_type": "code",
        "outputId": "1b0e9c5e-616c-4db0-8238-1ed0f42aa05a",
        "colab": {
          "base_uri": "https://localhost:8080/",
          "height": 68
        }
      },
      "source": [
        "preco = int(input('Informe o Preço do produto'))\n",
        "venda = int(input('Informe a média de vendas mensal'))\n",
        "\n",
        "if venda<500 and preco<30:\n",
        "  np = (preco*0.10)+preco\n",
        "  print('O novo preço é:',np,'R$')\n",
        "if venda>=500 and venda<1200 and preco>=30 and preco<80:\n",
        "  np = (preco*0.15)+preco\n",
        "  print('O novo preço é:',np,'R$')\n",
        "if venda>=1200 and preco>=80:\n",
        "  np = preco-(preco*0.20)\n",
        "  print('O novo preço é:',np)"
      ],
      "execution_count": 0,
      "outputs": [
        {
          "output_type": "stream",
          "text": [
            "Informe o Preço do produto30\n",
            "Informe a média de vendas mensal500\n",
            "O novo preço é: 34.5 R$\n"
          ],
          "name": "stdout"
        }
      ]
    },
    {
      "cell_type": "markdown",
      "metadata": {
        "id": "GSt1QwHcwWh5",
        "colab_type": "text"
      },
      "source": [
        "9. Faça um programa para resolver equações do 2º grau.\n",
        "\n",
        "$$\n",
        "a^{2} + bx + c = 0\n",
        "$$\n",
        "\n",
        "\n",
        "Onde x é uma variável, sendo a, b e c constantes, com a ≠ 0 \n",
        "\n",
        "\n",
        "$$\n",
        "\\Delta = b^{2} - 4ac\n",
        "$$\n",
        "\n",
        "$$\n",
        "\\Delta < 0 \\rightarrow não \\: existe  \\: raiz  \\: real\n",
        "$$\n",
        "\n",
        "$$\n",
        "\\Delta = 0 \\rightarrow  existe  \\: raiz  \\: real\n",
        "$$\n",
        "\n",
        "$$\n",
        "x = \\frac{-b}{2a}\n",
        "$$\n",
        "\n",
        "\n",
        "\n",
        "$$\n",
        "\\Delta > 0 \\rightarrow existem \\: duas  \\: raizes  \\: reais\n",
        "$$\n",
        "\n",
        "\n",
        "$$\n",
        "x_1 = \\frac{-b \\: + \\: \\sqrt{\\Delta } }{2a}\n",
        "$$\n",
        "\n",
        "$$\n",
        "x_2 = \\frac{-b \\: - \\: \\sqrt{\\Delta } }{2a}\n",
        "$$"
      ]
    },
    {
      "cell_type": "code",
      "metadata": {
        "id": "rJX-_VeDwWh7",
        "colab_type": "code",
        "outputId": "085d84c6-e671-4807-c7d0-6c8b5e853c8c",
        "colab": {
          "base_uri": "https://localhost:8080/",
          "height": 87
        }
      },
      "source": [
        "a = float(input(\"informe o valor de A:\"))\n",
        "b = float(input(\"informe o valor de B:\"))\n",
        "c = float(input(\"informe o valor de C:\"))\n",
        "delta = (b**2) - (4*a*c)\n",
        "raiz = (delta)**0.5\n",
        "x1 = (-b+raiz)/(2*a)\n",
        "x2 = (-b-raiz)/(2*a)\n",
        "if (delta) <0 :\n",
        "    print (\"esta equação não possui raízes reais\")\n",
        "elif (delta) ==0 :\n",
        "    print (\"a raiz desta equação é X:\",x1,)\n",
        "else :\n",
        "     print(\"as raízes da equação são\",x2, \"e\" ,x1,)"
      ],
      "execution_count": 0,
      "outputs": [
        {
          "output_type": "stream",
          "text": [
            "informe o valor de A:10\n",
            "informe o valor de B:5\n",
            "informe o valor de C:-3\n",
            "as raízes da equação são -0.8520797289396148 e 0.3520797289396148\n"
          ],
          "name": "stdout"
        }
      ]
    },
    {
      "cell_type": "markdown",
      "metadata": {
        "id": "jKxRNYYuwWh9",
        "colab_type": "text"
      },
      "source": [
        "10. Dados três valores X, Y e Z, verifique se eles podem ser os comprimentos dos lados de um triângulo e, se forem, verifique se é um triângulo equilátero, isósceles ou escaleno. Se eles não formarem um triângulo, escreva uma mensagem. Considere que:\n",
        "\n",
        "- O comprimento de cada lado de um triângulo é menor que a soma dos outros dois lados;\n",
        "- Chama-se equilátero o triângulo que tem três lados iguais;\n",
        "- Denomina-se isósceles o triângulo que tem o comprimento de dois lados iguais;\n",
        "- Recebe o nome de escaleno o triângulo que tem os três lados diferentes."
      ]
    },
    {
      "cell_type": "code",
      "metadata": {
        "id": "4aFz2dTrwWh-",
        "colab_type": "code",
        "outputId": "376832d9-e9f4-499a-dd55-98456c483eef",
        "colab": {
          "base_uri": "https://localhost:8080/",
          "height": 87
        }
      },
      "source": [
        "x = int(input('Informe um lado do triângulo'))\n",
        "y = int(input('Informe um lado do triângulo'))\n",
        "z = int(input('Informe um lado do triângulo'))\n",
        "if (x + y < z) or (x + z < y) or (y + z < x):\n",
        "  print('Nao é um triangulo')\n",
        "if x==y and x==z and y==z:\n",
        "  print ('Triângulo Equilátero')\n",
        "if (x==y and x!=z) or (x==z and x!=y) or (y==z and y!=x):\n",
        "  print ('Triângulo Isoceles')\n",
        "if (x!=y and x!=z and y!=z): \n",
        "  print('Triângulo Escaleno')  "
      ],
      "execution_count": 0,
      "outputs": [
        {
          "output_type": "stream",
          "text": [
            "Informe um lado do triângulo8\n",
            "Informe um lado do triângulo9\n",
            "Informe um lado do triângulo8\n",
            "Triângulo Isoceles\n"
          ],
          "name": "stdout"
        }
      ]
    },
    {
      "cell_type": "markdown",
      "metadata": {
        "id": "zczGHNwRwWiA",
        "colab_type": "text"
      },
      "source": [
        "11. Faça um programa que receba a altura e o peso de uma pessoa. De acordo com a tabela a seguir, verifique e mostre a classificação dessa pessoa.\n",
        "\n",
        "| Altura           | Peso até 60 | Peso entre 60 e 90 (Inclusive) | Peso Acima de 90 |\n",
        "|------------------|-------------|--------------------------------|------------------|\n",
        "| Menores que 1,20 | A           | D                              | G                |\n",
        "| De 1,20 a 1,70   | B           | E                              | H                |\n",
        "| Maiores que 1,70 | C           | F                              | I                |"
      ]
    },
    {
      "cell_type": "code",
      "metadata": {
        "id": "f_Gdj0sUwWiB",
        "colab_type": "code",
        "outputId": "2aa267e4-f3eb-42d9-bdac-5cec20572328",
        "colab": {
          "base_uri": "https://localhost:8080/",
          "height": 69
        }
      },
      "source": [
        "altura = int(input('Informe a altura em cm'))\n",
        "peso = float(input('Informe o peso em Kg'))\n",
        "\n",
        "if altura <120 and peso <60:\n",
        "  print('Sua classificação é: A')\n",
        "if altura <120 and peso >=60 and peso <90:\n",
        "  print('Sua classificação é: D')\n",
        "if altura <120 and peso>90:\n",
        "  print ('Sua classificação é: G')\n",
        "\n",
        "if altura >=120 and altura<170 and peso <60:\n",
        "  print('Sua classificação é: B')\n",
        "if altura >=120 and altura<170 and peso >=60 and peso <90:\n",
        "  print('Sua classificação é: E')\n",
        "if altura >=120 and altura<170 and peso>90:\n",
        "  print ('Sua classificação é: H')  \n",
        "\n",
        "if altura>170 and peso <60:\n",
        "  print('Sua classificação é: C')\n",
        "if altura>170 and peso >=60 and peso <90:\n",
        "  print('Sua classificação é: F')\n",
        "if altura>170 and peso>90:\n",
        "  print ('Sua classificação é: I')    "
      ],
      "execution_count": 0,
      "outputs": [
        {
          "output_type": "stream",
          "text": [
            "Informe a altura em cm192\n",
            "Informe o peso em Kg89\n",
            "Sua classificação é: F\n"
          ],
          "name": "stdout"
        }
      ]
    },
    {
      "cell_type": "markdown",
      "metadata": {
        "id": "WU-c348QwWiD",
        "colab_type": "text"
      },
      "source": [
        "12. Faça um programa que receba:\n",
        "\n",
        "- O código de um produto comprado, supondo que a digitação do código do produto seja sempre válida, isto é, um número inteiro entre 1 e 10.\n",
        "- O peso do produto em quilos.\n",
        "- O código do país de origem, supondo que a digitação do código seja sempre válida, isto é, um número inteiro entre 1 e 3. \n",
        "\n",
        "Tabelas:\n",
        "\n",
        "| Código do País de Origem | Imposto |\n",
        "|--------------------------|---------|\n",
        "| 1                        | 0%      |\n",
        "| 2                        | 15%     |\n",
        "| 3                        | 25%     |\n",
        "\n",
        "\n",
        "| Código do Produto | Preço por Grama |\n",
        "|-------------------|-----------------|\n",
        "| 1 a 4             | 10              |\n",
        "| 5 a 7             | 25              |\n",
        "| 8 a 10            | 35              |"
      ]
    },
    {
      "cell_type": "code",
      "metadata": {
        "id": "9JJJ68WPwWiE",
        "colab_type": "code",
        "outputId": "808ae595-2967-4d3e-ce58-022f2e61dcf9",
        "colab": {
          "base_uri": "https://localhost:8080/",
          "height": 173
        }
      },
      "source": [
        "cod = int(input('Digite o código do produto'))\n",
        "while cod <0 or cod >10:\n",
        "  print('Digite um valor válido entre 1 e 10')\n",
        "  cod = int(input('Digite o código do produto'))\n",
        "peso = float(input('Digite o peso do produto'))\n",
        "cpais = int(input('Digite o código do pais'))\n",
        "while cpais <1 or cpais >3:\n",
        "  print('Digite um código válido entre 1 e 3')\n",
        "  cpais = int(input('Digite o código do pais'))\n"
      ],
      "execution_count": 0,
      "outputs": [
        {
          "output_type": "stream",
          "text": [
            "Digite o código do produto-5\n",
            "Digite um valor válido entre 1 e 10\n",
            "Digite o código do produto5\n",
            "Digite o peso do produto5.5\n",
            "Digite o código do pais5\n",
            "Digite um código válido entre 1 e 3\n",
            "Digite o código do pais0\n",
            "Digite um código válido entre 1 e 3\n",
            "Digite o código do pais2\n"
          ],
          "name": "stdout"
        }
      ]
    },
    {
      "cell_type": "markdown",
      "metadata": {
        "id": "VxAl7HUHwWiG",
        "colab_type": "text"
      },
      "source": [
        "13. Escreva um programa que calcule o quadrado e o cubo dos números de 0 a 10, e imprima os valores em forma de tabela. Número | Quadrado | Cubo"
      ]
    },
    {
      "cell_type": "code",
      "metadata": {
        "id": "ejWk0FoawWiH",
        "colab_type": "code",
        "outputId": "57da2213-74a1-4e1d-8ee9-96a6e14ed325",
        "colab": {
          "base_uri": "https://localhost:8080/",
          "height": 243
        }
      },
      "source": [
        "print(\"Número \\t\\tQuadrado\\tCubo\\n\")\n",
        "print('0 \\t\\t',0*0,'\\t\\t', 0 * 0 * 0)\n",
        "print('1 \\t\\t',1*1,'\\t\\t', 1 * 1 * 1)\n",
        "print('2 \\t\\t',2*2,'\\t\\t', 2 * 2 * 2)\n",
        "print('3 \\t\\t',3*3,'\\t\\t', 3 * 3 * 3)\n",
        "print('4 \\t\\t',4*4,'\\t\\t', 4 * 4 * 4)\n",
        "print('5 \\t\\t',5*5,'\\t\\t', 5 * 5 * 5)\n",
        "print('6 \\t\\t',6*6,'\\t\\t', 6 * 6 * 6)\n",
        "print('7 \\t\\t',7*7,'\\t\\t', 7 * 7 * 7)\n",
        "print('8 \\t\\t',8*8,'\\t\\t', 8 * 8 * 8)\n",
        "print('9 \\t\\t',9*9,'\\t\\t', 9 * 9 * 9)\n",
        "print('10\\t\\t',10*10,'\\t\\t', 10 * 10 * 10)\n",
        "\n",
        "\n",
        "\n"
      ],
      "execution_count": 0,
      "outputs": [
        {
          "output_type": "stream",
          "text": [
            "Número \t\tQuadrado\tCubo\n",
            "\n",
            "0 \t\t 0 \t\t 0\n",
            "1 \t\t 1 \t\t 1\n",
            "2 \t\t 4 \t\t 8\n",
            "3 \t\t 9 \t\t 27\n",
            "4 \t\t 16 \t\t 64\n",
            "5 \t\t 25 \t\t 125\n",
            "6 \t\t 36 \t\t 216\n",
            "7 \t\t 49 \t\t 343\n",
            "8 \t\t 64 \t\t 512\n",
            "9 \t\t 81 \t\t 729\n",
            "10\t\t 100 \t\t 1000\n"
          ],
          "name": "stdout"
        }
      ]
    },
    {
      "cell_type": "markdown",
      "metadata": {
        "id": "AEd-_p1qwWiK",
        "colab_type": "text"
      },
      "source": [
        "14. Um funcionário de uma empresa recebe, anualmente, aumento salarial. Sabe-se que:\n",
        "\n",
        "- Esse funcionário foi contratado em 2005, com salário inicial de R\\\\$ 1.000,00.\n",
        "- Em 2006, ele recebeu aumento de 1,5% sobre seu salário inicial.\n",
        "- A partir de 2007 (inclusive), os aumentos salariais sempre corresponderam ao dobro do percentual do ano anterior.\n",
        "\n",
        "Faça um programa que determine o salário atual desse funcionário."
      ]
    },
    {
      "cell_type": "code",
      "metadata": {
        "id": "eLgfVjlqwWiL",
        "colab_type": "code",
        "outputId": "aba618e1-d89d-439b-f094-5efd7bd10cf5",
        "colab": {
          "base_uri": "https://localhost:8080/",
          "height": 572
        }
      },
      "source": [
        "anoatual = 2005\n",
        "sinicial = 1000\n",
        "while anoatual == 2005:\n",
        "  print('Ano de:',anoatual)\n",
        "  print('Salario é',sinicial,'$')\n",
        "  anoatual = anoatual+1\n",
        "  while anoatual == 2006:\n",
        "    print('Ano de:',anoatual)\n",
        "    saumento = (sinicial*0.015)+sinicial\n",
        "    print('Salario é',saumento,'$')\n",
        "    anoatual = anoatual+1\n",
        "    while anoatual == 2007:\n",
        "      print('Ano de:',anoatual)\n",
        "      saumento = (sinicial*0.030)+sinicial\n",
        "      print('Salario é',saumento,'$')\n",
        "      anoatual = anoatual+1\n",
        "      while anoatual == 2008:\n",
        "         print('Ano de:',anoatual)\n",
        "         saumento = (sinicial*0.060)+sinicial\n",
        "         print('Salario é',saumento,'$')\n",
        "         anoatual = anoatual+1\n",
        "         while anoatual == 2009:\n",
        "            print('Ano de:',anoatual)\n",
        "            saumento = (sinicial*0.12)+sinicial\n",
        "            print('Salario é',saumento,'$')\n",
        "            anoatual = anoatual+1\n",
        "            while anoatual == 2010:\n",
        "              print('Ano de:',anoatual)\n",
        "              saumento = (sinicial*0.24)+sinicial\n",
        "              print('Salario é',saumento,'$')\n",
        "              anoatual = anoatual+1\n",
        "              while anoatual == 2011:\n",
        "                print('Ano de:',anoatual)\n",
        "                saumento = (sinicial*0.48)+sinicial\n",
        "                print('Salario é',saumento,'$')\n",
        "                anoatual = anoatual+1\n",
        "                while anoatual == 2012:\n",
        "                  print('Ano de:',anoatual)\n",
        "                  saumento = (sinicial*0.96)+sinicial\n",
        "                  print('Salario é',saumento,'$')\n",
        "                  anoatual = anoatual+1\n",
        "                  while anoatual == 2013:\n",
        "                    print('Ano de:',anoatual)\n",
        "                    saumento = (sinicial*1.92)+sinicial\n",
        "                    print('Salario é',saumento,'$')\n",
        "                    anoatual = anoatual+1\n",
        "                    while anoatual == 2014:\n",
        "                      print('Ano de:',anoatual)\n",
        "                      saumento = (sinicial*3.84)+sinicial\n",
        "                      print('Salario é',saumento,'$')\n",
        "                      anoatual = anoatual+1\n",
        "                      while anoatual == 2015:\n",
        "                        print('Ano de:',anoatual)\n",
        "                        saumento = (sinicial*7.68)+sinicial\n",
        "                        print('Salario é',saumento,'$')\n",
        "                        anoatual = anoatual+1\n",
        "                        while anoatual == 2016:\n",
        "                          print('Ano de:',anoatual)\n",
        "                          saumento = (sinicial*15.36)+sinicial\n",
        "                          print('Salario é',saumento,'$')\n",
        "                          anoatual = anoatual+1\n",
        "                          while anoatual == 2017:\n",
        "                            print('Ano de:',anoatual)\n",
        "                            saumento = (sinicial*30.72)+sinicial\n",
        "                            print('Salario é',saumento,'$')\n",
        "                            anoatual = anoatual+1\n",
        "                            while anoatual == 2018:\n",
        "                              print('Ano de:',anoatual)\n",
        "                              saumento = (sinicial*61.44)+sinicial\n",
        "                              print('Salario é',saumento,'$')\n",
        "                              anoatual = anoatual+1\n",
        "                              while anoatual == 2019:\n",
        "                                print('Ano de:',anoatual)\n",
        "                                saumento = (sinicial*122.88)+sinicial\n",
        "                                print('Salario é',saumento,'$')\n",
        "                                anoatual = anoatual+1\n",
        "                                while anoatual == 2020:\n",
        "                                  print('Ano de:',anoatual)\n",
        "                                  saumento = (sinicial*245.76)+sinicial\n",
        "                                  print('Salario é',saumento,'$')\n",
        "                                  anoatual = anoatual+1\n",
        "                            \n",
        "          "
      ],
      "execution_count": 0,
      "outputs": [
        {
          "output_type": "stream",
          "text": [
            "Ano de: 2005\n",
            "Salario é 1000 $\n",
            "Ano de: 2006\n",
            "Salario é 1015.0 $\n",
            "Ano de: 2007\n",
            "Salario é 1030.0 $\n",
            "Ano de: 2008\n",
            "Salario é 1060.0 $\n",
            "Ano de: 2009\n",
            "Salario é 1120.0 $\n",
            "Ano de: 2010\n",
            "Salario é 1240.0 $\n",
            "Ano de: 2011\n",
            "Salario é 1480.0 $\n",
            "Ano de: 2012\n",
            "Salario é 1960.0 $\n",
            "Ano de: 2013\n",
            "Salario é 2920.0 $\n",
            "Ano de: 2014\n",
            "Salario é 4840.0 $\n",
            "Ano de: 2015\n",
            "Salario é 8680.0 $\n",
            "Ano de: 2016\n",
            "Salario é 16360.0 $\n",
            "Ano de: 2017\n",
            "Salario é 31720.0 $\n",
            "Ano de: 2018\n",
            "Salario é 62440.0 $\n",
            "Ano de: 2019\n",
            "Salario é 123880.0 $\n",
            "Ano de: 2020\n",
            "Salario é 246760.0 $\n"
          ],
          "name": "stdout"
        }
      ]
    },
    {
      "cell_type": "markdown",
      "metadata": {
        "id": "hWjGLnCTwWiN",
        "colab_type": "text"
      },
      "source": [
        "15. Foi feita uma pesquisa para determinar o índice de mortalidade infantil em certo período. Faça um programa que:\n",
        "\n",
        "- Leia o número de crianças nascidas no período;\n",
        "- Identifique o sexo (M ou F) e o tempo de vida de cada criança nascida.\n",
        "\n",
        "O programa deve calcular e mostrar:\n",
        "\n",
        "- A porcentagem de crianças do sexo feminino mortas no período;\n",
        "- A porcentagem de crianças do sexo masculino mortas no período;\n",
        "- A porcentagem de crianças que viveram 24 meses ou menos no período."
      ]
    },
    {
      "cell_type": "code",
      "metadata": {
        "id": "mfiv5jl5wWiN",
        "colab_type": "code",
        "outputId": "dc785dc6-adc0-4160-f658-b8928e51f944",
        "colab": {
          "base_uri": "https://localhost:8080/",
          "height": 156
        }
      },
      "source": [
        "ncriancas = -1\n",
        "while ncriancas<0:\n",
        "  ncriancas = int(input('Informe o número de crianças nascidas no período'))\n",
        "  print('O total de criaças é:', ncriancas)\n",
        "idadecrianca = -1\n",
        "while idadecrianca <0 or idadecrianca>24:\n",
        "  idadecrianca = int(input('Informe quantos meses viveu a criança'))\n",
        "  print('A criança viveu:',idadecrianca,'meses')\n",
        "sexocrianca = -1\n",
        "while sexocrianca !=1 and sexocrianca !=2:\n",
        "  sexocrianca = str(input('Informe o sexo da criança 1-masculino,2-feminino'))\n",
        "  print('O sexo da crinaça é:',sexocrianca)\n",
        "mortestotal = 0\n",
        "mortesmasculino = 0\n",
        "mortesfeminino = 0\n",
        "if idadecrianca == 0:\n",
        "  mortestotal = mortestotal+ 1\n",
        "  if sexocrianca == 1:\n",
        "    mortesmasculino = mortesmasculino +1\n",
        "  if sexocrianca == 2:\n",
        "    mortesfeminino = mortesfeminino +1\n",
        "totalcriancas24 = 0    \n",
        "if idadecrianca <24:\n",
        "  totalcriancas24 = totalcriancas24 +1\n",
        "print('Total de Nascimentos',totalcriancas)\n",
        "print('Percentual de crianças mortas no período')\n",
        "print('Percentual de crianças vivas no período')\n",
        "print('Percentual de crianças que viveram 24 meses')\n",
        "\n",
        "\n",
        "\n",
        "// 1) Criar as seguintes funções:\n",
        "\n",
        "// a) Uma função para validar corretivamente a idade\n",
        "// para estar no intervalo de 0 a 144 meses;\n",
        "\n",
        "// b) uma função para processar o cálculo do percentual,\n",
        "// retornando o resultado para o código principal onde será mostrado.\n",
        "\n",
        "funcao percentual( um_numero , outro_numero: inteiro) :real\n",
        "inicio\n",
        "   retorne ((um_numero + 0.0) / (outro_numero +0.0) ) * 100\n",
        "fimfuncao\n",
        "\n",
        "funcao valida_idade( uma_idade : inteiro) : logico\n",
        "inicio\n",
        "    retorne ((uma_idade >=0) e (uma_idade <= 144))\n",
        "fimfuncao\n",
        "\n",
        "\n"
      ],
      "execution_count": 0,
      "outputs": [
        {
          "output_type": "stream",
          "text": [
            "Informe o número de crianças nascidas no período5\n",
            "O total de criaças é: 5\n",
            "Informe quantos meses viveu a criança25\n",
            "A criança viveu: 25 meses\n",
            "Informe quantos meses viveu a criança24\n",
            "A criança viveu: 24 meses\n",
            "Informe o sexo da criança 1-masculino,2-feminino2\n",
            "O sexo da crinaça é: 2\n"
          ],
          "name": "stdout"
        }
      ]
    },
    {
      "cell_type": "markdown",
      "metadata": {
        "id": "cItrNt9TwWiP",
        "colab_type": "text"
      },
      "source": [
        "16. Faça um programa que receba duas notas de seis alunos. Calcule e mostre:\n",
        "\n",
        "- A média aritmética das duas notas de cada aluno; e\n",
        "- A mensagem que está na tabela a seguir:\n",
        "- O total de alunos aprovados;\n",
        "- O total de alunos de exame;\n",
        "- O total de alunos reprovados;\n",
        "- A média da classe.\n",
        "\n",
        "| Média Aritmética | Situação       |\n",
        "|------------------|----------------|\n",
        "| Entre 0 e 29     | Reprovado      |\n",
        "| Entre 30 e 69    | Exame Especial |\n",
        "| Entre 70 e 100   | Aprovado       |\n"
      ]
    },
    {
      "cell_type": "code",
      "metadata": {
        "id": "oXtZ65PjwWiQ",
        "colab_type": "code",
        "outputId": "76af2549-2d42-44db-b5ad-d596bf386066",
        "colab": {
          "base_uri": "https://localhost:8080/",
          "height": 131
        }
      },
      "source": [
        "a1n1 = int(input('ALUNO 01 - Insira a primeira nota'))\n",
        "a1n2 = int(input('ALUNO 01 - Insira a segunda nota'))\n",
        "a2n1 = int(input('ALUNO 02 - Insira a primeira nota'))\n",
        "a2n2 = int(input('ALUNO 02 - Insira a segunda nota'))\n",
        "a3n1 = int(input('ALUNO 03 - Insira a primeira nota'))\n",
        "a3n2 = int(input('ALUNO 03 - Insira a segunda nota'))\n",
        "a4n1 = int(input('ALUNO 04 - Insira a primeira nota'))\n",
        "a4n2 = int(input('ALUNO 04 - Insira a segunda nota'))\n",
        "a5n1 = int(input('ALUNO 05 - Insira a primeira nota'))\n",
        "a5n2 = int(input('ALUNO 05 - Insira a segunda nota'))\n",
        "a6n1 = int(input('ALUNO 06 - Insira a primeira nota'))\n",
        "a6n2 = int(input('ALUNO 06 - Insira a segunda nota'))\n",
        "media1 = (a1n1+a1n2)/2\n",
        "media2 = (a2n1+a2n2)/2\n",
        "media3 = (a3n1+a3n2)/2\n",
        "media4 = (a4n1+a4n2)/2\n",
        "media5 = (a5n1+a5n2)/2\n",
        "media6 = (a6n1+a6n2)/2\n",
        "totalreprovados = 0\n",
        "totalaprovados = 0\n",
        "totalexame = 0\n",
        "print('A média do aluno 1 é:',media1)\n",
        "print('A média do aluno 2 é:',media2)\n",
        "print('A média do aluno 3 é:',media3)\n",
        "print('A média do aluno 4 é:',media4)\n",
        "print('A média do aluno 5 é:',media5)\n",
        "print('A média do aluno 6 é:',media6)\n",
        "if media1 >=0 and media1 <=29:\n",
        "  print('O aluno 1 foi reprovado')\n",
        "  totalreprovados = totalreprovados+1\n",
        "if media2 >=0 and media2 <=29:\n",
        "  print('O aluno 2 foi reprovado')\n",
        "  totalreprovados = totalreprovados+1\n",
        "if media3 >=0 and media3 <=29:\n",
        "  print('O aluno 3 foi reprovado')\n",
        "  totalreprovados = totalreprovados+1\n",
        "if media4 >=0 and media4 <=29:\n",
        "  print('O aluno 4 foi reprovado')\n",
        "  totalreprovados = totalreprovados+1\n",
        "if media5 >=0 and media5 <=29:\n",
        "  print('O aluno 5 foi reprovado')\n",
        "  totalreprovados = totalreprovados+1\n",
        "if media6 >=0 and media6 <=29:\n",
        "  print('O aluno 6 foi reprovado')\n",
        "  totalreprovados = totalreprovados+1\n",
        "if media1 >29 and media1 <=69:\n",
        "  print('O aluno 1 foi para o exame especial')\n",
        "  totalexame = totalexame+1\n",
        "if media2 >29 and media2 <=69:\n",
        "  print('O aluno 2 foi para o exame especial')\n",
        "  totalexame = totalexame+1\n",
        "if media3 >29 and media3 <=69:\n",
        "  print('O aluno 3 foi para o exame especial')\n",
        "  totalexame = totalexame+1\n",
        "if media4 >29 and media4 <=69:\n",
        "  print('O aluno 4 foi para o exame especial')\n",
        "  totalexame = totalexame+1\n",
        "if media5 >29 and media5 <=69:\n",
        "  print('O aluno 5 foi para o exame especial')\n",
        "  totalexame = totalexame+1\n",
        "if media6 >29 and media6 <=69:\n",
        "  print('O aluno 6 foi para o exame especial')\n",
        "  totalexame = totalexame+1\n",
        "if media1 >69 and media1 <=100:\n",
        "  print('O aluno 1 foi APROVADO')\n",
        "  totalaprovados = totalaprovados+1\n",
        "if media2 >69 and media2 <=100:\n",
        "  print('O aluno 2 foi APROVADO')\n",
        "  totalaprovados = totalaprovados+1\n",
        "if media3 >69 and media3 <=100:\n",
        "  print('O aluno 3 foi APROVADO')\n",
        "  totalaprovados = totalaprovados+1\n",
        "if media4 >69 and media4 <=100:\n",
        "  print('O aluno 4 foi APROVADO')\n",
        "  totalaprovados = totalaprovados+1\n",
        "if media5 >69 and media5 <=100:\n",
        "  print('O aluno 5 foi APROVADO')\n",
        "  totalaprovados = totalaprovados+1\n",
        "if media6 >69 and media6 <=100:\n",
        "  print('O aluno 6 foi APROVADO')\n",
        "  totalaprovados = totalaprovados+1\n",
        "print('Alunos APROVADOS:',totalaprovados)\n",
        "print('Alunos em exame especial:',totalexame)\n",
        "print('Alunos REPROVADOS:',totalreprovados)\n",
        "mediageral = (media1+media2+media3+media4+media5+media6)/6\n",
        "print('A média geral foi:',mediageral)\n",
        "\n",
        "\n"
      ],
      "execution_count": 0,
      "outputs": [
        {
          "output_type": "error",
          "ename": "SyntaxError",
          "evalue": "ignored",
          "traceback": [
            "\u001b[0;36m  File \u001b[0;32m\"<ipython-input-32-c9d935731857>\"\u001b[0;36m, line \u001b[0;32m9\u001b[0m\n\u001b[0;31m    print('%f',&nota1)\u001b[0m\n\u001b[0m               ^\u001b[0m\n\u001b[0;31mSyntaxError\u001b[0m\u001b[0;31m:\u001b[0m invalid syntax\n"
          ]
        }
      ]
    },
    {
      "cell_type": "markdown",
      "metadata": {
        "id": "PL9G6KivwWiS",
        "colab_type": "text"
      },
      "source": [
        "17. Faça um programa para calcular a área de um triângulo e que não permita a entrada de dados inválidos, ou seja, medidas menores ou iguais a 0."
      ]
    },
    {
      "cell_type": "code",
      "metadata": {
        "id": "c0sLofYUwWiT",
        "colab_type": "code",
        "colab": {
          "base_uri": "https://localhost:8080/",
          "height": 121
        },
        "outputId": "5301f2c9-1229-4e4d-fbe8-4a04116ab268"
      },
      "source": [
        "base = float(input('Informe a base do triangulo'))\n",
        "altura = float(input('Informe a altura do triangulo'))\n",
        "while base<=0 or altura <=0:\n",
        "  print('DADOS INVALIDOS')\n",
        "  base = float(input('Informe a base do triangulo') )\n",
        "  altura = float(input('Informe a altura do triangulo'))\n",
        "area = (base*altura)/2\n",
        "print('A area do triangulo é:',area)\n",
        "\n",
        "\n",
        "\n",
        "\n",
        "\n"
      ],
      "execution_count": 39,
      "outputs": [
        {
          "output_type": "stream",
          "text": [
            "Informe a base do triangulo10\n",
            "Informe a altura do triangulo-5\n",
            "DADOS INVALIDOS\n",
            "Informe a base do triangulo10\n",
            "Informe a altura do triangulo5\n",
            "A area do triangulo é: 25.0\n"
          ],
          "name": "stdout"
        }
      ]
    },
    {
      "cell_type": "markdown",
      "metadata": {
        "id": "sJmgMgNNwWiV",
        "colab_type": "text"
      },
      "source": [
        "18. Faça um programa que leia um conjunto não determinado de valores e mostre o valor lido, seu quadrado, seu cubo e sua raiz quadrada. Finalize a entrada de dados com um valor negativo ou zero."
      ]
    },
    {
      "cell_type": "code",
      "metadata": {
        "id": "I_ma2aDXwWiW",
        "colab_type": "code",
        "colab": {
          "base_uri": "https://localhost:8080/",
          "height": 191
        },
        "outputId": "f330ae23-30ec-4cb1-fe36-9c425c3485e3"
      },
      "source": [
        "numero = int(input(\"Informe um número\"))\n",
        "while numero >0:\n",
        "  quadrado = numero*numero\n",
        "  cubo = numero*numero*numero\n",
        "  raiz = numero ** (1/2)\n",
        "  print('O quadrado do número é:',quadrado)\n",
        "  print('O Cubo do número é:',cubo)\n",
        "  print('A raiz do número é:',raiz)\n",
        "  numero = int(input(\"Informe um número\"))\n",
        "print('Programa Finalizado')\n"
      ],
      "execution_count": 54,
      "outputs": [
        {
          "output_type": "stream",
          "text": [
            "Informe um número5\n",
            "O quadrado do número é: 25\n",
            "O Cubo do número é: 125\n",
            "A raiz do número é: 2.23606797749979\n",
            "Informe um número3\n",
            "O quadrado do número é: 9\n",
            "O Cubo do número é: 27\n",
            "A raiz do número é: 1.7320508075688772\n",
            "Informe um número0\n",
            "Programa Finalizado\n"
          ],
          "name": "stdout"
        }
      ]
    },
    {
      "cell_type": "markdown",
      "metadata": {
        "id": "iETJ9U3xwWiY",
        "colab_type": "text"
      },
      "source": [
        "19. Faça um programa que leia um número não determinado de pares de valores [m,n], todos inteiros e positivos, um par de cada vez, e que calcule e mostre a soma de todos os números inteiros entre m e n (inclusive). A digitação de pares terminará quando m for maior ou igual a n."
      ]
    },
    {
      "cell_type": "code",
      "metadata": {
        "id": "zSLQRKfTwWiZ",
        "colab_type": "code",
        "colab": {
          "base_uri": "https://localhost:8080/",
          "height": 270
        },
        "outputId": "f8693920-9070-4e59-d0fb-94c0cfca9866"
      },
      "source": [
        "m = int(input(\"Informe um número\"))\n",
        "n = int(input(\"Informe mais um número\"))\n",
        "while m<n:\n",
        "  teste = n-m\n",
        "  for soma in m:\n",
        "    print(\"NAO CONSEGUI\",soma)\n",
        "  m = int(input(\"Informe um número\"))\n",
        "  n = int(input(\"Informe mais um número\"))  \n",
        "print('Fim') \n",
        "\n",
        "\n"
      ],
      "execution_count": 66,
      "outputs": [
        {
          "output_type": "stream",
          "text": [
            "Informe um número2\n",
            "Informe mais um número5\n"
          ],
          "name": "stdout"
        },
        {
          "output_type": "error",
          "ename": "TypeError",
          "evalue": "ignored",
          "traceback": [
            "\u001b[0;31m---------------------------------------------------------------------------\u001b[0m",
            "\u001b[0;31mTypeError\u001b[0m                                 Traceback (most recent call last)",
            "\u001b[0;32m<ipython-input-66-eb23442906a3>\u001b[0m in \u001b[0;36m<module>\u001b[0;34m()\u001b[0m\n\u001b[1;32m      3\u001b[0m \u001b[0;32mwhile\u001b[0m \u001b[0mm\u001b[0m\u001b[0;34m<\u001b[0m\u001b[0mn\u001b[0m\u001b[0;34m:\u001b[0m\u001b[0;34m\u001b[0m\u001b[0;34m\u001b[0m\u001b[0m\n\u001b[1;32m      4\u001b[0m   \u001b[0mteste\u001b[0m \u001b[0;34m=\u001b[0m \u001b[0mn\u001b[0m\u001b[0;34m-\u001b[0m\u001b[0mm\u001b[0m\u001b[0;34m\u001b[0m\u001b[0;34m\u001b[0m\u001b[0m\n\u001b[0;32m----> 5\u001b[0;31m   \u001b[0;32mfor\u001b[0m \u001b[0msoma\u001b[0m \u001b[0;32min\u001b[0m \u001b[0mm\u001b[0m\u001b[0;34m:\u001b[0m\u001b[0;34m\u001b[0m\u001b[0;34m\u001b[0m\u001b[0m\n\u001b[0m\u001b[1;32m      6\u001b[0m     \u001b[0mprint\u001b[0m\u001b[0;34m(\u001b[0m\u001b[0;34m\"sei la\"\u001b[0m\u001b[0;34m,\u001b[0m\u001b[0msoma\u001b[0m\u001b[0;34m)\u001b[0m\u001b[0;34m\u001b[0m\u001b[0;34m\u001b[0m\u001b[0m\n\u001b[1;32m      7\u001b[0m   \u001b[0mm\u001b[0m \u001b[0;34m=\u001b[0m \u001b[0mint\u001b[0m\u001b[0;34m(\u001b[0m\u001b[0minput\u001b[0m\u001b[0;34m(\u001b[0m\u001b[0;34m\"Informe um número\"\u001b[0m\u001b[0;34m)\u001b[0m\u001b[0;34m)\u001b[0m\u001b[0;34m\u001b[0m\u001b[0;34m\u001b[0m\u001b[0m\n",
            "\u001b[0;31mTypeError\u001b[0m: 'int' object is not iterable"
          ]
        }
      ]
    },
    {
      "cell_type": "markdown",
      "metadata": {
        "id": "jwDv3i-MwWic",
        "colab_type": "text"
      },
      "source": [
        "20. Faça um programa que receba vários números, calcule e mostre:\n",
        "\n",
        "    - A soma dos números digitados;\n",
        "    - A quantidade de números digitados;\n",
        "    - A média dos números digitados;\n",
        "    - O maior número digitado;\n",
        "    - O menor número digitado;\n",
        "    - A média dos números pares;\n",
        "    - A porcentagem dos números ímpares entre todos os números digitados.\n",
        "\n",
        "Finalize a entrada de dados com a digitação do número 0."
      ]
    },
    {
      "cell_type": "code",
      "metadata": {
        "id": "tghIQC-WwWid",
        "colab_type": "code",
        "colab": {
          "base_uri": "https://localhost:8080/",
          "height": 35
        },
        "outputId": "9636ebe0-3cf9-4319-8a97-06ae3360928f"
      },
      "source": [
        "quantidadenumero = 0\n",
        "somanumeros = 0\n",
        "maior = 0\n",
        "menor = 0\n",
        "somaPar = 0\n",
        "qtdPar = 0\n",
        "qtdImpar = 0\n",
        "num = int(input('Digite um valor'))\n",
        "maior = num\n",
        "menor = num\n",
        "while(num != 99):\n",
        "  quantidadenumero += 1\n",
        "  somanumeros += num\n",
        "  if num > maior:\n",
        "    maior = num\n",
        "    if num < menor:\n",
        "      menor = num\n",
        "      if num % 2 == 0:\n",
        "        qtdPar += 1\n",
        "        somaPar += num\n",
        "      qtdImpar += 1\n",
        "num = int(input('Digite um valor'))\n",
        "print('Quantidade de números digitados: {}'.format(quantidadenumero))\n",
        "print('Média dos números: {}'.format(somanumeros / quantidadenumero))\n",
        "print('O maior número digitado foi: {}'.format(maior))\n",
        "print('O menor número digitado foi: {}'.format(menor))\n",
        "print('Média dos números pares: {}'.format(somaPar / qtdPar))\n",
        "print('Porcentagem de números ímpares: {}%'.format(qtdImpar / quantidadenumero * 100))\n",
        "\n"
      ],
      "execution_count": 0,
      "outputs": [
        {
          "output_type": "stream",
          "text": [
            "Digite um valor10\n"
          ],
          "name": "stdout"
        }
      ]
    }
  ]
}